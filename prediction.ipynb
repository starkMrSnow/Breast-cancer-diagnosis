{
 "cells": [
  {
   "cell_type": "code",
   "execution_count": 315,
   "id": "2c71bb88",
   "metadata": {},
   "outputs": [
    {
     "name": "stdout",
     "output_type": "stream",
     "text": [
      "\n",
      "Usage:   \n",
      "  /home/stanley-otieno/Machine-Learning/Breast-cancer-diagnosis/breast-cancer/bin/python -m pip install [options] <requirement specifier> [package-index-options] ...\n",
      "  /home/stanley-otieno/Machine-Learning/Breast-cancer-diagnosis/breast-cancer/bin/python -m pip install [options] -r <requirements file> [package-index-options] ...\n",
      "  /home/stanley-otieno/Machine-Learning/Breast-cancer-diagnosis/breast-cancer/bin/python -m pip install [options] [-e] <vcs project url> ...\n",
      "  /home/stanley-otieno/Machine-Learning/Breast-cancer-diagnosis/breast-cancer/bin/python -m pip install [options] [-e] <local project path> ...\n",
      "  /home/stanley-otieno/Machine-Learning/Breast-cancer-diagnosis/breast-cancer/bin/python -m pip install [options] <archive url/path> ...\n",
      "\n",
      "no such option: --quuite\n",
      "Note: you may need to restart the kernel to use updated packages.\n"
     ]
    }
   ],
   "source": [
    "%pip install scikit-learn --upgrade --quuite"
   ]
  },
  {
   "cell_type": "code",
   "execution_count": 316,
   "id": "a690768d",
   "metadata": {},
   "outputs": [
    {
     "name": "stdout",
     "output_type": "stream",
     "text": [
      "\n",
      "Usage:   \n",
      "  /home/stanley-otieno/Machine-Learning/Breast-cancer-diagnosis/breast-cancer/bin/python -m pip install [options] <requirement specifier> [package-index-options] ...\n",
      "  /home/stanley-otieno/Machine-Learning/Breast-cancer-diagnosis/breast-cancer/bin/python -m pip install [options] -r <requirements file> [package-index-options] ...\n",
      "  /home/stanley-otieno/Machine-Learning/Breast-cancer-diagnosis/breast-cancer/bin/python -m pip install [options] [-e] <vcs project url> ...\n",
      "  /home/stanley-otieno/Machine-Learning/Breast-cancer-diagnosis/breast-cancer/bin/python -m pip install [options] [-e] <local project path> ...\n",
      "  /home/stanley-otieno/Machine-Learning/Breast-cancer-diagnosis/breast-cancer/bin/python -m pip install [options] <archive url/path> ...\n",
      "\n",
      "no such option: --quite\n",
      "Note: you may need to restart the kernel to use updated packages.\n"
     ]
    }
   ],
   "source": [
    "%pip install opendatasets --upgrade --quite"
   ]
  },
  {
   "cell_type": "code",
   "execution_count": 317,
   "id": "056dc467",
   "metadata": {},
   "outputs": [],
   "source": [
    "import opendatasets as od"
   ]
  },
  {
   "cell_type": "code",
   "execution_count": 318,
   "id": "115a9096",
   "metadata": {},
   "outputs": [
    {
     "name": "stdout",
     "output_type": "stream",
     "text": [
      "/home/stanley-otieno/Machine-Learning/Breast-cancer-diagnosis/breast-cancer/bin/python3\n"
     ]
    }
   ],
   "source": [
    "!which python3"
   ]
  },
  {
   "cell_type": "code",
   "execution_count": 319,
   "id": "f67affa2",
   "metadata": {},
   "outputs": [
    {
     "data": {
      "text/plain": [
       "'0.1.22'"
      ]
     },
     "execution_count": 319,
     "metadata": {},
     "output_type": "execute_result"
    }
   ],
   "source": [
    "od.version()"
   ]
  },
  {
   "cell_type": "code",
   "execution_count": 320,
   "id": "73343a7a",
   "metadata": {},
   "outputs": [],
   "source": [
    "dataset_url = 'https://www.kaggle.com/datasets/uciml/breast-cancer-wisconsin-data'"
   ]
  },
  {
   "cell_type": "code",
   "execution_count": 321,
   "id": "68570e8c",
   "metadata": {},
   "outputs": [
    {
     "name": "stdout",
     "output_type": "stream",
     "text": [
      "Skipping, found downloaded files in \"./breast-cancer-wisconsin-data\" (use force=True to force download)\n"
     ]
    }
   ],
   "source": [
    "od.download(dataset_url)"
   ]
  },
  {
   "cell_type": "code",
   "execution_count": 322,
   "id": "4c8e35a3",
   "metadata": {},
   "outputs": [],
   "source": [
    "\n",
    "import os"
   ]
  },
  {
   "cell_type": "code",
   "execution_count": 323,
   "id": "0d6396a6",
   "metadata": {},
   "outputs": [],
   "source": [
    "data_dir = './breast-cancer-wisconsin-data'\n",
    "train_csv = data_dir + '/data.csv'"
   ]
  },
  {
   "cell_type": "code",
   "execution_count": 324,
   "id": "a49df07c",
   "metadata": {},
   "outputs": [
    {
     "name": "stdout",
     "output_type": "stream",
     "text": [
      "\n",
      "Usage:   \n",
      "  pip install [options] <requirement specifier> [package-index-options] ...\n",
      "  pip install [options] -r <requirements file> [package-index-options] ...\n",
      "  pip install [options] [-e] <vcs project url> ...\n",
      "  pip install [options] [-e] <local project path> ...\n",
      "  pip install [options] <archive url/path> ...\n",
      "\n",
      "no such option: --quite\n"
     ]
    }
   ],
   "source": [
    "!pip install pandas --upgrade --quite"
   ]
  },
  {
   "cell_type": "code",
   "execution_count": 325,
   "id": "5770c980",
   "metadata": {},
   "outputs": [],
   "source": [
    "import pandas as pd"
   ]
  },
  {
   "cell_type": "code",
   "execution_count": 326,
   "id": "54a820a8",
   "metadata": {},
   "outputs": [],
   "source": [
    "raw_df = pd.read_csv(train_csv)"
   ]
  },
  {
   "cell_type": "code",
   "execution_count": 327,
   "id": "3b6c3742",
   "metadata": {},
   "outputs": [
    {
     "data": {
      "text/html": [
       "<div>\n",
       "<style scoped>\n",
       "    .dataframe tbody tr th:only-of-type {\n",
       "        vertical-align: middle;\n",
       "    }\n",
       "\n",
       "    .dataframe tbody tr th {\n",
       "        vertical-align: top;\n",
       "    }\n",
       "\n",
       "    .dataframe thead th {\n",
       "        text-align: right;\n",
       "    }\n",
       "</style>\n",
       "<table border=\"1\" class=\"dataframe\">\n",
       "  <thead>\n",
       "    <tr style=\"text-align: right;\">\n",
       "      <th></th>\n",
       "      <th>id</th>\n",
       "      <th>diagnosis</th>\n",
       "      <th>radius_mean</th>\n",
       "      <th>texture_mean</th>\n",
       "      <th>perimeter_mean</th>\n",
       "      <th>area_mean</th>\n",
       "      <th>smoothness_mean</th>\n",
       "      <th>compactness_mean</th>\n",
       "      <th>concavity_mean</th>\n",
       "      <th>concave points_mean</th>\n",
       "      <th>...</th>\n",
       "      <th>texture_worst</th>\n",
       "      <th>perimeter_worst</th>\n",
       "      <th>area_worst</th>\n",
       "      <th>smoothness_worst</th>\n",
       "      <th>compactness_worst</th>\n",
       "      <th>concavity_worst</th>\n",
       "      <th>concave points_worst</th>\n",
       "      <th>symmetry_worst</th>\n",
       "      <th>fractal_dimension_worst</th>\n",
       "      <th>Unnamed: 32</th>\n",
       "    </tr>\n",
       "  </thead>\n",
       "  <tbody>\n",
       "    <tr>\n",
       "      <th>0</th>\n",
       "      <td>842302</td>\n",
       "      <td>M</td>\n",
       "      <td>17.99</td>\n",
       "      <td>10.38</td>\n",
       "      <td>122.80</td>\n",
       "      <td>1001.0</td>\n",
       "      <td>0.11840</td>\n",
       "      <td>0.27760</td>\n",
       "      <td>0.30010</td>\n",
       "      <td>0.14710</td>\n",
       "      <td>...</td>\n",
       "      <td>17.33</td>\n",
       "      <td>184.60</td>\n",
       "      <td>2019.0</td>\n",
       "      <td>0.16220</td>\n",
       "      <td>0.66560</td>\n",
       "      <td>0.7119</td>\n",
       "      <td>0.2654</td>\n",
       "      <td>0.4601</td>\n",
       "      <td>0.11890</td>\n",
       "      <td>NaN</td>\n",
       "    </tr>\n",
       "    <tr>\n",
       "      <th>1</th>\n",
       "      <td>842517</td>\n",
       "      <td>M</td>\n",
       "      <td>20.57</td>\n",
       "      <td>17.77</td>\n",
       "      <td>132.90</td>\n",
       "      <td>1326.0</td>\n",
       "      <td>0.08474</td>\n",
       "      <td>0.07864</td>\n",
       "      <td>0.08690</td>\n",
       "      <td>0.07017</td>\n",
       "      <td>...</td>\n",
       "      <td>23.41</td>\n",
       "      <td>158.80</td>\n",
       "      <td>1956.0</td>\n",
       "      <td>0.12380</td>\n",
       "      <td>0.18660</td>\n",
       "      <td>0.2416</td>\n",
       "      <td>0.1860</td>\n",
       "      <td>0.2750</td>\n",
       "      <td>0.08902</td>\n",
       "      <td>NaN</td>\n",
       "    </tr>\n",
       "    <tr>\n",
       "      <th>2</th>\n",
       "      <td>84300903</td>\n",
       "      <td>M</td>\n",
       "      <td>19.69</td>\n",
       "      <td>21.25</td>\n",
       "      <td>130.00</td>\n",
       "      <td>1203.0</td>\n",
       "      <td>0.10960</td>\n",
       "      <td>0.15990</td>\n",
       "      <td>0.19740</td>\n",
       "      <td>0.12790</td>\n",
       "      <td>...</td>\n",
       "      <td>25.53</td>\n",
       "      <td>152.50</td>\n",
       "      <td>1709.0</td>\n",
       "      <td>0.14440</td>\n",
       "      <td>0.42450</td>\n",
       "      <td>0.4504</td>\n",
       "      <td>0.2430</td>\n",
       "      <td>0.3613</td>\n",
       "      <td>0.08758</td>\n",
       "      <td>NaN</td>\n",
       "    </tr>\n",
       "    <tr>\n",
       "      <th>3</th>\n",
       "      <td>84348301</td>\n",
       "      <td>M</td>\n",
       "      <td>11.42</td>\n",
       "      <td>20.38</td>\n",
       "      <td>77.58</td>\n",
       "      <td>386.1</td>\n",
       "      <td>0.14250</td>\n",
       "      <td>0.28390</td>\n",
       "      <td>0.24140</td>\n",
       "      <td>0.10520</td>\n",
       "      <td>...</td>\n",
       "      <td>26.50</td>\n",
       "      <td>98.87</td>\n",
       "      <td>567.7</td>\n",
       "      <td>0.20980</td>\n",
       "      <td>0.86630</td>\n",
       "      <td>0.6869</td>\n",
       "      <td>0.2575</td>\n",
       "      <td>0.6638</td>\n",
       "      <td>0.17300</td>\n",
       "      <td>NaN</td>\n",
       "    </tr>\n",
       "    <tr>\n",
       "      <th>4</th>\n",
       "      <td>84358402</td>\n",
       "      <td>M</td>\n",
       "      <td>20.29</td>\n",
       "      <td>14.34</td>\n",
       "      <td>135.10</td>\n",
       "      <td>1297.0</td>\n",
       "      <td>0.10030</td>\n",
       "      <td>0.13280</td>\n",
       "      <td>0.19800</td>\n",
       "      <td>0.10430</td>\n",
       "      <td>...</td>\n",
       "      <td>16.67</td>\n",
       "      <td>152.20</td>\n",
       "      <td>1575.0</td>\n",
       "      <td>0.13740</td>\n",
       "      <td>0.20500</td>\n",
       "      <td>0.4000</td>\n",
       "      <td>0.1625</td>\n",
       "      <td>0.2364</td>\n",
       "      <td>0.07678</td>\n",
       "      <td>NaN</td>\n",
       "    </tr>\n",
       "    <tr>\n",
       "      <th>...</th>\n",
       "      <td>...</td>\n",
       "      <td>...</td>\n",
       "      <td>...</td>\n",
       "      <td>...</td>\n",
       "      <td>...</td>\n",
       "      <td>...</td>\n",
       "      <td>...</td>\n",
       "      <td>...</td>\n",
       "      <td>...</td>\n",
       "      <td>...</td>\n",
       "      <td>...</td>\n",
       "      <td>...</td>\n",
       "      <td>...</td>\n",
       "      <td>...</td>\n",
       "      <td>...</td>\n",
       "      <td>...</td>\n",
       "      <td>...</td>\n",
       "      <td>...</td>\n",
       "      <td>...</td>\n",
       "      <td>...</td>\n",
       "      <td>...</td>\n",
       "    </tr>\n",
       "    <tr>\n",
       "      <th>564</th>\n",
       "      <td>926424</td>\n",
       "      <td>M</td>\n",
       "      <td>21.56</td>\n",
       "      <td>22.39</td>\n",
       "      <td>142.00</td>\n",
       "      <td>1479.0</td>\n",
       "      <td>0.11100</td>\n",
       "      <td>0.11590</td>\n",
       "      <td>0.24390</td>\n",
       "      <td>0.13890</td>\n",
       "      <td>...</td>\n",
       "      <td>26.40</td>\n",
       "      <td>166.10</td>\n",
       "      <td>2027.0</td>\n",
       "      <td>0.14100</td>\n",
       "      <td>0.21130</td>\n",
       "      <td>0.4107</td>\n",
       "      <td>0.2216</td>\n",
       "      <td>0.2060</td>\n",
       "      <td>0.07115</td>\n",
       "      <td>NaN</td>\n",
       "    </tr>\n",
       "    <tr>\n",
       "      <th>565</th>\n",
       "      <td>926682</td>\n",
       "      <td>M</td>\n",
       "      <td>20.13</td>\n",
       "      <td>28.25</td>\n",
       "      <td>131.20</td>\n",
       "      <td>1261.0</td>\n",
       "      <td>0.09780</td>\n",
       "      <td>0.10340</td>\n",
       "      <td>0.14400</td>\n",
       "      <td>0.09791</td>\n",
       "      <td>...</td>\n",
       "      <td>38.25</td>\n",
       "      <td>155.00</td>\n",
       "      <td>1731.0</td>\n",
       "      <td>0.11660</td>\n",
       "      <td>0.19220</td>\n",
       "      <td>0.3215</td>\n",
       "      <td>0.1628</td>\n",
       "      <td>0.2572</td>\n",
       "      <td>0.06637</td>\n",
       "      <td>NaN</td>\n",
       "    </tr>\n",
       "    <tr>\n",
       "      <th>566</th>\n",
       "      <td>926954</td>\n",
       "      <td>M</td>\n",
       "      <td>16.60</td>\n",
       "      <td>28.08</td>\n",
       "      <td>108.30</td>\n",
       "      <td>858.1</td>\n",
       "      <td>0.08455</td>\n",
       "      <td>0.10230</td>\n",
       "      <td>0.09251</td>\n",
       "      <td>0.05302</td>\n",
       "      <td>...</td>\n",
       "      <td>34.12</td>\n",
       "      <td>126.70</td>\n",
       "      <td>1124.0</td>\n",
       "      <td>0.11390</td>\n",
       "      <td>0.30940</td>\n",
       "      <td>0.3403</td>\n",
       "      <td>0.1418</td>\n",
       "      <td>0.2218</td>\n",
       "      <td>0.07820</td>\n",
       "      <td>NaN</td>\n",
       "    </tr>\n",
       "    <tr>\n",
       "      <th>567</th>\n",
       "      <td>927241</td>\n",
       "      <td>M</td>\n",
       "      <td>20.60</td>\n",
       "      <td>29.33</td>\n",
       "      <td>140.10</td>\n",
       "      <td>1265.0</td>\n",
       "      <td>0.11780</td>\n",
       "      <td>0.27700</td>\n",
       "      <td>0.35140</td>\n",
       "      <td>0.15200</td>\n",
       "      <td>...</td>\n",
       "      <td>39.42</td>\n",
       "      <td>184.60</td>\n",
       "      <td>1821.0</td>\n",
       "      <td>0.16500</td>\n",
       "      <td>0.86810</td>\n",
       "      <td>0.9387</td>\n",
       "      <td>0.2650</td>\n",
       "      <td>0.4087</td>\n",
       "      <td>0.12400</td>\n",
       "      <td>NaN</td>\n",
       "    </tr>\n",
       "    <tr>\n",
       "      <th>568</th>\n",
       "      <td>92751</td>\n",
       "      <td>B</td>\n",
       "      <td>7.76</td>\n",
       "      <td>24.54</td>\n",
       "      <td>47.92</td>\n",
       "      <td>181.0</td>\n",
       "      <td>0.05263</td>\n",
       "      <td>0.04362</td>\n",
       "      <td>0.00000</td>\n",
       "      <td>0.00000</td>\n",
       "      <td>...</td>\n",
       "      <td>30.37</td>\n",
       "      <td>59.16</td>\n",
       "      <td>268.6</td>\n",
       "      <td>0.08996</td>\n",
       "      <td>0.06444</td>\n",
       "      <td>0.0000</td>\n",
       "      <td>0.0000</td>\n",
       "      <td>0.2871</td>\n",
       "      <td>0.07039</td>\n",
       "      <td>NaN</td>\n",
       "    </tr>\n",
       "  </tbody>\n",
       "</table>\n",
       "<p>569 rows × 33 columns</p>\n",
       "</div>"
      ],
      "text/plain": [
       "           id diagnosis  radius_mean  texture_mean  perimeter_mean  area_mean  \\\n",
       "0      842302         M        17.99         10.38          122.80     1001.0   \n",
       "1      842517         M        20.57         17.77          132.90     1326.0   \n",
       "2    84300903         M        19.69         21.25          130.00     1203.0   \n",
       "3    84348301         M        11.42         20.38           77.58      386.1   \n",
       "4    84358402         M        20.29         14.34          135.10     1297.0   \n",
       "..        ...       ...          ...           ...             ...        ...   \n",
       "564    926424         M        21.56         22.39          142.00     1479.0   \n",
       "565    926682         M        20.13         28.25          131.20     1261.0   \n",
       "566    926954         M        16.60         28.08          108.30      858.1   \n",
       "567    927241         M        20.60         29.33          140.10     1265.0   \n",
       "568     92751         B         7.76         24.54           47.92      181.0   \n",
       "\n",
       "     smoothness_mean  compactness_mean  concavity_mean  concave points_mean  \\\n",
       "0            0.11840           0.27760         0.30010              0.14710   \n",
       "1            0.08474           0.07864         0.08690              0.07017   \n",
       "2            0.10960           0.15990         0.19740              0.12790   \n",
       "3            0.14250           0.28390         0.24140              0.10520   \n",
       "4            0.10030           0.13280         0.19800              0.10430   \n",
       "..               ...               ...             ...                  ...   \n",
       "564          0.11100           0.11590         0.24390              0.13890   \n",
       "565          0.09780           0.10340         0.14400              0.09791   \n",
       "566          0.08455           0.10230         0.09251              0.05302   \n",
       "567          0.11780           0.27700         0.35140              0.15200   \n",
       "568          0.05263           0.04362         0.00000              0.00000   \n",
       "\n",
       "     ...  texture_worst  perimeter_worst  area_worst  smoothness_worst  \\\n",
       "0    ...          17.33           184.60      2019.0           0.16220   \n",
       "1    ...          23.41           158.80      1956.0           0.12380   \n",
       "2    ...          25.53           152.50      1709.0           0.14440   \n",
       "3    ...          26.50            98.87       567.7           0.20980   \n",
       "4    ...          16.67           152.20      1575.0           0.13740   \n",
       "..   ...            ...              ...         ...               ...   \n",
       "564  ...          26.40           166.10      2027.0           0.14100   \n",
       "565  ...          38.25           155.00      1731.0           0.11660   \n",
       "566  ...          34.12           126.70      1124.0           0.11390   \n",
       "567  ...          39.42           184.60      1821.0           0.16500   \n",
       "568  ...          30.37            59.16       268.6           0.08996   \n",
       "\n",
       "     compactness_worst  concavity_worst  concave points_worst  symmetry_worst  \\\n",
       "0              0.66560           0.7119                0.2654          0.4601   \n",
       "1              0.18660           0.2416                0.1860          0.2750   \n",
       "2              0.42450           0.4504                0.2430          0.3613   \n",
       "3              0.86630           0.6869                0.2575          0.6638   \n",
       "4              0.20500           0.4000                0.1625          0.2364   \n",
       "..                 ...              ...                   ...             ...   \n",
       "564            0.21130           0.4107                0.2216          0.2060   \n",
       "565            0.19220           0.3215                0.1628          0.2572   \n",
       "566            0.30940           0.3403                0.1418          0.2218   \n",
       "567            0.86810           0.9387                0.2650          0.4087   \n",
       "568            0.06444           0.0000                0.0000          0.2871   \n",
       "\n",
       "     fractal_dimension_worst  Unnamed: 32  \n",
       "0                    0.11890          NaN  \n",
       "1                    0.08902          NaN  \n",
       "2                    0.08758          NaN  \n",
       "3                    0.17300          NaN  \n",
       "4                    0.07678          NaN  \n",
       "..                       ...          ...  \n",
       "564                  0.07115          NaN  \n",
       "565                  0.06637          NaN  \n",
       "566                  0.07820          NaN  \n",
       "567                  0.12400          NaN  \n",
       "568                  0.07039          NaN  \n",
       "\n",
       "[569 rows x 33 columns]"
      ]
     },
     "execution_count": 327,
     "metadata": {},
     "output_type": "execute_result"
    }
   ],
   "source": [
    "raw_df"
   ]
  },
  {
   "cell_type": "code",
   "execution_count": 328,
   "id": "56d168a1",
   "metadata": {},
   "outputs": [
    {
     "name": "stdout",
     "output_type": "stream",
     "text": [
      "<class 'pandas.core.frame.DataFrame'>\n",
      "RangeIndex: 569 entries, 0 to 568\n",
      "Data columns (total 33 columns):\n",
      " #   Column                   Non-Null Count  Dtype  \n",
      "---  ------                   --------------  -----  \n",
      " 0   id                       569 non-null    int64  \n",
      " 1   diagnosis                569 non-null    object \n",
      " 2   radius_mean              569 non-null    float64\n",
      " 3   texture_mean             569 non-null    float64\n",
      " 4   perimeter_mean           569 non-null    float64\n",
      " 5   area_mean                569 non-null    float64\n",
      " 6   smoothness_mean          569 non-null    float64\n",
      " 7   compactness_mean         569 non-null    float64\n",
      " 8   concavity_mean           569 non-null    float64\n",
      " 9   concave points_mean      569 non-null    float64\n",
      " 10  symmetry_mean            569 non-null    float64\n",
      " 11  fractal_dimension_mean   569 non-null    float64\n",
      " 12  radius_se                569 non-null    float64\n",
      " 13  texture_se               569 non-null    float64\n",
      " 14  perimeter_se             569 non-null    float64\n",
      " 15  area_se                  569 non-null    float64\n",
      " 16  smoothness_se            569 non-null    float64\n",
      " 17  compactness_se           569 non-null    float64\n",
      " 18  concavity_se             569 non-null    float64\n",
      " 19  concave points_se        569 non-null    float64\n",
      " 20  symmetry_se              569 non-null    float64\n",
      " 21  fractal_dimension_se     569 non-null    float64\n",
      " 22  radius_worst             569 non-null    float64\n",
      " 23  texture_worst            569 non-null    float64\n",
      " 24  perimeter_worst          569 non-null    float64\n",
      " 25  area_worst               569 non-null    float64\n",
      " 26  smoothness_worst         569 non-null    float64\n",
      " 27  compactness_worst        569 non-null    float64\n",
      " 28  concavity_worst          569 non-null    float64\n",
      " 29  concave points_worst     569 non-null    float64\n",
      " 30  symmetry_worst           569 non-null    float64\n",
      " 31  fractal_dimension_worst  569 non-null    float64\n",
      " 32  Unnamed: 32              0 non-null      float64\n",
      "dtypes: float64(31), int64(1), object(1)\n",
      "memory usage: 146.8+ KB\n"
     ]
    }
   ],
   "source": [
    "raw_df.info()"
   ]
  },
  {
   "cell_type": "code",
   "execution_count": 329,
   "id": "be507aee",
   "metadata": {},
   "outputs": [],
   "source": [
    "raw_df.drop(columns=['Unnamed: 32'], inplace=True)"
   ]
  },
  {
   "cell_type": "code",
   "execution_count": 330,
   "id": "cc3e5f85",
   "metadata": {},
   "outputs": [
    {
     "data": {
      "text/html": [
       "<div>\n",
       "<style scoped>\n",
       "    .dataframe tbody tr th:only-of-type {\n",
       "        vertical-align: middle;\n",
       "    }\n",
       "\n",
       "    .dataframe tbody tr th {\n",
       "        vertical-align: top;\n",
       "    }\n",
       "\n",
       "    .dataframe thead th {\n",
       "        text-align: right;\n",
       "    }\n",
       "</style>\n",
       "<table border=\"1\" class=\"dataframe\">\n",
       "  <thead>\n",
       "    <tr style=\"text-align: right;\">\n",
       "      <th></th>\n",
       "      <th>id</th>\n",
       "      <th>diagnosis</th>\n",
       "      <th>radius_mean</th>\n",
       "      <th>texture_mean</th>\n",
       "      <th>perimeter_mean</th>\n",
       "      <th>area_mean</th>\n",
       "      <th>smoothness_mean</th>\n",
       "      <th>compactness_mean</th>\n",
       "      <th>concavity_mean</th>\n",
       "      <th>concave points_mean</th>\n",
       "      <th>...</th>\n",
       "      <th>radius_worst</th>\n",
       "      <th>texture_worst</th>\n",
       "      <th>perimeter_worst</th>\n",
       "      <th>area_worst</th>\n",
       "      <th>smoothness_worst</th>\n",
       "      <th>compactness_worst</th>\n",
       "      <th>concavity_worst</th>\n",
       "      <th>concave points_worst</th>\n",
       "      <th>symmetry_worst</th>\n",
       "      <th>fractal_dimension_worst</th>\n",
       "    </tr>\n",
       "  </thead>\n",
       "  <tbody>\n",
       "    <tr>\n",
       "      <th>0</th>\n",
       "      <td>842302</td>\n",
       "      <td>M</td>\n",
       "      <td>17.99</td>\n",
       "      <td>10.38</td>\n",
       "      <td>122.80</td>\n",
       "      <td>1001.0</td>\n",
       "      <td>0.11840</td>\n",
       "      <td>0.27760</td>\n",
       "      <td>0.30010</td>\n",
       "      <td>0.14710</td>\n",
       "      <td>...</td>\n",
       "      <td>25.380</td>\n",
       "      <td>17.33</td>\n",
       "      <td>184.60</td>\n",
       "      <td>2019.0</td>\n",
       "      <td>0.16220</td>\n",
       "      <td>0.66560</td>\n",
       "      <td>0.7119</td>\n",
       "      <td>0.2654</td>\n",
       "      <td>0.4601</td>\n",
       "      <td>0.11890</td>\n",
       "    </tr>\n",
       "    <tr>\n",
       "      <th>1</th>\n",
       "      <td>842517</td>\n",
       "      <td>M</td>\n",
       "      <td>20.57</td>\n",
       "      <td>17.77</td>\n",
       "      <td>132.90</td>\n",
       "      <td>1326.0</td>\n",
       "      <td>0.08474</td>\n",
       "      <td>0.07864</td>\n",
       "      <td>0.08690</td>\n",
       "      <td>0.07017</td>\n",
       "      <td>...</td>\n",
       "      <td>24.990</td>\n",
       "      <td>23.41</td>\n",
       "      <td>158.80</td>\n",
       "      <td>1956.0</td>\n",
       "      <td>0.12380</td>\n",
       "      <td>0.18660</td>\n",
       "      <td>0.2416</td>\n",
       "      <td>0.1860</td>\n",
       "      <td>0.2750</td>\n",
       "      <td>0.08902</td>\n",
       "    </tr>\n",
       "    <tr>\n",
       "      <th>2</th>\n",
       "      <td>84300903</td>\n",
       "      <td>M</td>\n",
       "      <td>19.69</td>\n",
       "      <td>21.25</td>\n",
       "      <td>130.00</td>\n",
       "      <td>1203.0</td>\n",
       "      <td>0.10960</td>\n",
       "      <td>0.15990</td>\n",
       "      <td>0.19740</td>\n",
       "      <td>0.12790</td>\n",
       "      <td>...</td>\n",
       "      <td>23.570</td>\n",
       "      <td>25.53</td>\n",
       "      <td>152.50</td>\n",
       "      <td>1709.0</td>\n",
       "      <td>0.14440</td>\n",
       "      <td>0.42450</td>\n",
       "      <td>0.4504</td>\n",
       "      <td>0.2430</td>\n",
       "      <td>0.3613</td>\n",
       "      <td>0.08758</td>\n",
       "    </tr>\n",
       "    <tr>\n",
       "      <th>3</th>\n",
       "      <td>84348301</td>\n",
       "      <td>M</td>\n",
       "      <td>11.42</td>\n",
       "      <td>20.38</td>\n",
       "      <td>77.58</td>\n",
       "      <td>386.1</td>\n",
       "      <td>0.14250</td>\n",
       "      <td>0.28390</td>\n",
       "      <td>0.24140</td>\n",
       "      <td>0.10520</td>\n",
       "      <td>...</td>\n",
       "      <td>14.910</td>\n",
       "      <td>26.50</td>\n",
       "      <td>98.87</td>\n",
       "      <td>567.7</td>\n",
       "      <td>0.20980</td>\n",
       "      <td>0.86630</td>\n",
       "      <td>0.6869</td>\n",
       "      <td>0.2575</td>\n",
       "      <td>0.6638</td>\n",
       "      <td>0.17300</td>\n",
       "    </tr>\n",
       "    <tr>\n",
       "      <th>4</th>\n",
       "      <td>84358402</td>\n",
       "      <td>M</td>\n",
       "      <td>20.29</td>\n",
       "      <td>14.34</td>\n",
       "      <td>135.10</td>\n",
       "      <td>1297.0</td>\n",
       "      <td>0.10030</td>\n",
       "      <td>0.13280</td>\n",
       "      <td>0.19800</td>\n",
       "      <td>0.10430</td>\n",
       "      <td>...</td>\n",
       "      <td>22.540</td>\n",
       "      <td>16.67</td>\n",
       "      <td>152.20</td>\n",
       "      <td>1575.0</td>\n",
       "      <td>0.13740</td>\n",
       "      <td>0.20500</td>\n",
       "      <td>0.4000</td>\n",
       "      <td>0.1625</td>\n",
       "      <td>0.2364</td>\n",
       "      <td>0.07678</td>\n",
       "    </tr>\n",
       "    <tr>\n",
       "      <th>...</th>\n",
       "      <td>...</td>\n",
       "      <td>...</td>\n",
       "      <td>...</td>\n",
       "      <td>...</td>\n",
       "      <td>...</td>\n",
       "      <td>...</td>\n",
       "      <td>...</td>\n",
       "      <td>...</td>\n",
       "      <td>...</td>\n",
       "      <td>...</td>\n",
       "      <td>...</td>\n",
       "      <td>...</td>\n",
       "      <td>...</td>\n",
       "      <td>...</td>\n",
       "      <td>...</td>\n",
       "      <td>...</td>\n",
       "      <td>...</td>\n",
       "      <td>...</td>\n",
       "      <td>...</td>\n",
       "      <td>...</td>\n",
       "      <td>...</td>\n",
       "    </tr>\n",
       "    <tr>\n",
       "      <th>564</th>\n",
       "      <td>926424</td>\n",
       "      <td>M</td>\n",
       "      <td>21.56</td>\n",
       "      <td>22.39</td>\n",
       "      <td>142.00</td>\n",
       "      <td>1479.0</td>\n",
       "      <td>0.11100</td>\n",
       "      <td>0.11590</td>\n",
       "      <td>0.24390</td>\n",
       "      <td>0.13890</td>\n",
       "      <td>...</td>\n",
       "      <td>25.450</td>\n",
       "      <td>26.40</td>\n",
       "      <td>166.10</td>\n",
       "      <td>2027.0</td>\n",
       "      <td>0.14100</td>\n",
       "      <td>0.21130</td>\n",
       "      <td>0.4107</td>\n",
       "      <td>0.2216</td>\n",
       "      <td>0.2060</td>\n",
       "      <td>0.07115</td>\n",
       "    </tr>\n",
       "    <tr>\n",
       "      <th>565</th>\n",
       "      <td>926682</td>\n",
       "      <td>M</td>\n",
       "      <td>20.13</td>\n",
       "      <td>28.25</td>\n",
       "      <td>131.20</td>\n",
       "      <td>1261.0</td>\n",
       "      <td>0.09780</td>\n",
       "      <td>0.10340</td>\n",
       "      <td>0.14400</td>\n",
       "      <td>0.09791</td>\n",
       "      <td>...</td>\n",
       "      <td>23.690</td>\n",
       "      <td>38.25</td>\n",
       "      <td>155.00</td>\n",
       "      <td>1731.0</td>\n",
       "      <td>0.11660</td>\n",
       "      <td>0.19220</td>\n",
       "      <td>0.3215</td>\n",
       "      <td>0.1628</td>\n",
       "      <td>0.2572</td>\n",
       "      <td>0.06637</td>\n",
       "    </tr>\n",
       "    <tr>\n",
       "      <th>566</th>\n",
       "      <td>926954</td>\n",
       "      <td>M</td>\n",
       "      <td>16.60</td>\n",
       "      <td>28.08</td>\n",
       "      <td>108.30</td>\n",
       "      <td>858.1</td>\n",
       "      <td>0.08455</td>\n",
       "      <td>0.10230</td>\n",
       "      <td>0.09251</td>\n",
       "      <td>0.05302</td>\n",
       "      <td>...</td>\n",
       "      <td>18.980</td>\n",
       "      <td>34.12</td>\n",
       "      <td>126.70</td>\n",
       "      <td>1124.0</td>\n",
       "      <td>0.11390</td>\n",
       "      <td>0.30940</td>\n",
       "      <td>0.3403</td>\n",
       "      <td>0.1418</td>\n",
       "      <td>0.2218</td>\n",
       "      <td>0.07820</td>\n",
       "    </tr>\n",
       "    <tr>\n",
       "      <th>567</th>\n",
       "      <td>927241</td>\n",
       "      <td>M</td>\n",
       "      <td>20.60</td>\n",
       "      <td>29.33</td>\n",
       "      <td>140.10</td>\n",
       "      <td>1265.0</td>\n",
       "      <td>0.11780</td>\n",
       "      <td>0.27700</td>\n",
       "      <td>0.35140</td>\n",
       "      <td>0.15200</td>\n",
       "      <td>...</td>\n",
       "      <td>25.740</td>\n",
       "      <td>39.42</td>\n",
       "      <td>184.60</td>\n",
       "      <td>1821.0</td>\n",
       "      <td>0.16500</td>\n",
       "      <td>0.86810</td>\n",
       "      <td>0.9387</td>\n",
       "      <td>0.2650</td>\n",
       "      <td>0.4087</td>\n",
       "      <td>0.12400</td>\n",
       "    </tr>\n",
       "    <tr>\n",
       "      <th>568</th>\n",
       "      <td>92751</td>\n",
       "      <td>B</td>\n",
       "      <td>7.76</td>\n",
       "      <td>24.54</td>\n",
       "      <td>47.92</td>\n",
       "      <td>181.0</td>\n",
       "      <td>0.05263</td>\n",
       "      <td>0.04362</td>\n",
       "      <td>0.00000</td>\n",
       "      <td>0.00000</td>\n",
       "      <td>...</td>\n",
       "      <td>9.456</td>\n",
       "      <td>30.37</td>\n",
       "      <td>59.16</td>\n",
       "      <td>268.6</td>\n",
       "      <td>0.08996</td>\n",
       "      <td>0.06444</td>\n",
       "      <td>0.0000</td>\n",
       "      <td>0.0000</td>\n",
       "      <td>0.2871</td>\n",
       "      <td>0.07039</td>\n",
       "    </tr>\n",
       "  </tbody>\n",
       "</table>\n",
       "<p>569 rows × 32 columns</p>\n",
       "</div>"
      ],
      "text/plain": [
       "           id diagnosis  radius_mean  texture_mean  perimeter_mean  area_mean  \\\n",
       "0      842302         M        17.99         10.38          122.80     1001.0   \n",
       "1      842517         M        20.57         17.77          132.90     1326.0   \n",
       "2    84300903         M        19.69         21.25          130.00     1203.0   \n",
       "3    84348301         M        11.42         20.38           77.58      386.1   \n",
       "4    84358402         M        20.29         14.34          135.10     1297.0   \n",
       "..        ...       ...          ...           ...             ...        ...   \n",
       "564    926424         M        21.56         22.39          142.00     1479.0   \n",
       "565    926682         M        20.13         28.25          131.20     1261.0   \n",
       "566    926954         M        16.60         28.08          108.30      858.1   \n",
       "567    927241         M        20.60         29.33          140.10     1265.0   \n",
       "568     92751         B         7.76         24.54           47.92      181.0   \n",
       "\n",
       "     smoothness_mean  compactness_mean  concavity_mean  concave points_mean  \\\n",
       "0            0.11840           0.27760         0.30010              0.14710   \n",
       "1            0.08474           0.07864         0.08690              0.07017   \n",
       "2            0.10960           0.15990         0.19740              0.12790   \n",
       "3            0.14250           0.28390         0.24140              0.10520   \n",
       "4            0.10030           0.13280         0.19800              0.10430   \n",
       "..               ...               ...             ...                  ...   \n",
       "564          0.11100           0.11590         0.24390              0.13890   \n",
       "565          0.09780           0.10340         0.14400              0.09791   \n",
       "566          0.08455           0.10230         0.09251              0.05302   \n",
       "567          0.11780           0.27700         0.35140              0.15200   \n",
       "568          0.05263           0.04362         0.00000              0.00000   \n",
       "\n",
       "     ...  radius_worst  texture_worst  perimeter_worst  area_worst  \\\n",
       "0    ...        25.380          17.33           184.60      2019.0   \n",
       "1    ...        24.990          23.41           158.80      1956.0   \n",
       "2    ...        23.570          25.53           152.50      1709.0   \n",
       "3    ...        14.910          26.50            98.87       567.7   \n",
       "4    ...        22.540          16.67           152.20      1575.0   \n",
       "..   ...           ...            ...              ...         ...   \n",
       "564  ...        25.450          26.40           166.10      2027.0   \n",
       "565  ...        23.690          38.25           155.00      1731.0   \n",
       "566  ...        18.980          34.12           126.70      1124.0   \n",
       "567  ...        25.740          39.42           184.60      1821.0   \n",
       "568  ...         9.456          30.37            59.16       268.6   \n",
       "\n",
       "     smoothness_worst  compactness_worst  concavity_worst  \\\n",
       "0             0.16220            0.66560           0.7119   \n",
       "1             0.12380            0.18660           0.2416   \n",
       "2             0.14440            0.42450           0.4504   \n",
       "3             0.20980            0.86630           0.6869   \n",
       "4             0.13740            0.20500           0.4000   \n",
       "..                ...                ...              ...   \n",
       "564           0.14100            0.21130           0.4107   \n",
       "565           0.11660            0.19220           0.3215   \n",
       "566           0.11390            0.30940           0.3403   \n",
       "567           0.16500            0.86810           0.9387   \n",
       "568           0.08996            0.06444           0.0000   \n",
       "\n",
       "     concave points_worst  symmetry_worst  fractal_dimension_worst  \n",
       "0                  0.2654          0.4601                  0.11890  \n",
       "1                  0.1860          0.2750                  0.08902  \n",
       "2                  0.2430          0.3613                  0.08758  \n",
       "3                  0.2575          0.6638                  0.17300  \n",
       "4                  0.1625          0.2364                  0.07678  \n",
       "..                    ...             ...                      ...  \n",
       "564                0.2216          0.2060                  0.07115  \n",
       "565                0.1628          0.2572                  0.06637  \n",
       "566                0.1418          0.2218                  0.07820  \n",
       "567                0.2650          0.4087                  0.12400  \n",
       "568                0.0000          0.2871                  0.07039  \n",
       "\n",
       "[569 rows x 32 columns]"
      ]
     },
     "execution_count": 330,
     "metadata": {},
     "output_type": "execute_result"
    }
   ],
   "source": [
    "raw_df"
   ]
  },
  {
   "cell_type": "code",
   "execution_count": 331,
   "id": "677f7c88",
   "metadata": {},
   "outputs": [
    {
     "name": "stdout",
     "output_type": "stream",
     "text": [
      "<class 'pandas.core.frame.DataFrame'>\n",
      "RangeIndex: 569 entries, 0 to 568\n",
      "Data columns (total 32 columns):\n",
      " #   Column                   Non-Null Count  Dtype  \n",
      "---  ------                   --------------  -----  \n",
      " 0   id                       569 non-null    int64  \n",
      " 1   diagnosis                569 non-null    object \n",
      " 2   radius_mean              569 non-null    float64\n",
      " 3   texture_mean             569 non-null    float64\n",
      " 4   perimeter_mean           569 non-null    float64\n",
      " 5   area_mean                569 non-null    float64\n",
      " 6   smoothness_mean          569 non-null    float64\n",
      " 7   compactness_mean         569 non-null    float64\n",
      " 8   concavity_mean           569 non-null    float64\n",
      " 9   concave points_mean      569 non-null    float64\n",
      " 10  symmetry_mean            569 non-null    float64\n",
      " 11  fractal_dimension_mean   569 non-null    float64\n",
      " 12  radius_se                569 non-null    float64\n",
      " 13  texture_se               569 non-null    float64\n",
      " 14  perimeter_se             569 non-null    float64\n",
      " 15  area_se                  569 non-null    float64\n",
      " 16  smoothness_se            569 non-null    float64\n",
      " 17  compactness_se           569 non-null    float64\n",
      " 18  concavity_se             569 non-null    float64\n",
      " 19  concave points_se        569 non-null    float64\n",
      " 20  symmetry_se              569 non-null    float64\n",
      " 21  fractal_dimension_se     569 non-null    float64\n",
      " 22  radius_worst             569 non-null    float64\n",
      " 23  texture_worst            569 non-null    float64\n",
      " 24  perimeter_worst          569 non-null    float64\n",
      " 25  area_worst               569 non-null    float64\n",
      " 26  smoothness_worst         569 non-null    float64\n",
      " 27  compactness_worst        569 non-null    float64\n",
      " 28  concavity_worst          569 non-null    float64\n",
      " 29  concave points_worst     569 non-null    float64\n",
      " 30  symmetry_worst           569 non-null    float64\n",
      " 31  fractal_dimension_worst  569 non-null    float64\n",
      "dtypes: float64(30), int64(1), object(1)\n",
      "memory usage: 142.4+ KB\n"
     ]
    }
   ],
   "source": [
    "raw_df.info()"
   ]
  },
  {
   "cell_type": "code",
   "execution_count": 332,
   "id": "91e79d8b",
   "metadata": {},
   "outputs": [
    {
     "name": "stdout",
     "output_type": "stream",
     "text": [
      "\n",
      "Usage:   \n",
      "  /home/stanley-otieno/Machine-Learning/Breast-cancer-diagnosis/breast-cancer/bin/python -m pip install [options] <requirement specifier> [package-index-options] ...\n",
      "  /home/stanley-otieno/Machine-Learning/Breast-cancer-diagnosis/breast-cancer/bin/python -m pip install [options] -r <requirements file> [package-index-options] ...\n",
      "  /home/stanley-otieno/Machine-Learning/Breast-cancer-diagnosis/breast-cancer/bin/python -m pip install [options] [-e] <vcs project url> ...\n",
      "  /home/stanley-otieno/Machine-Learning/Breast-cancer-diagnosis/breast-cancer/bin/python -m pip install [options] [-e] <local project path> ...\n",
      "  /home/stanley-otieno/Machine-Learning/Breast-cancer-diagnosis/breast-cancer/bin/python -m pip install [options] <archive url/path> ...\n",
      "\n",
      "no such option: --quite\n",
      "Note: you may need to restart the kernel to use updated packages.\n"
     ]
    }
   ],
   "source": [
    "%pip install plotly matplotlib seaborn--upgrade --quite"
   ]
  },
  {
   "cell_type": "code",
   "execution_count": 333,
   "id": "932a3d3c",
   "metadata": {},
   "outputs": [],
   "source": [
    "import plotly.express as px\n",
    "import matplotlib\n",
    "import matplotlib.pyplot as plt\n",
    "import seaborn as sns\n",
    "%matplotlib inline\n",
    "\n",
    "sns.set_style('darkgrid')\n",
    "matplotlib.rcParams['font.size'] = 14\n",
    "matplotlib.rcParams['figure.figsize'] = (10, 6)\n",
    "matplotlib.rcParams['figure.facecolor'] = '#00000000'"
   ]
  },
  {
   "cell_type": "code",
   "execution_count": 334,
   "id": "9c8d221d",
   "metadata": {},
   "outputs": [
    {
     "data": {
      "application/vnd.plotly.v1+json": {
       "config": {
        "plotlyServerURL": "https://plot.ly"
       },
       "data": [
        {
         "bingroup": "x",
         "hovertemplate": "diagnosis=%{x}<br>count=%{y}<extra></extra>",
         "legendgroup": "",
         "marker": {
          "color": "#636EFA",
          "pattern": {
           "shape": ""
          }
         },
         "name": "",
         "orientation": "v",
         "showlegend": false,
         "type": "histogram",
         "x": [
          "M",
          "M",
          "M",
          "M",
          "M",
          "M",
          "M",
          "M",
          "M",
          "M",
          "M",
          "M",
          "M",
          "M",
          "M",
          "M",
          "M",
          "M",
          "M",
          "B",
          "B",
          "B",
          "M",
          "M",
          "M",
          "M",
          "M",
          "M",
          "M",
          "M",
          "M",
          "M",
          "M",
          "M",
          "M",
          "M",
          "M",
          "B",
          "M",
          "M",
          "M",
          "M",
          "M",
          "M",
          "M",
          "M",
          "B",
          "M",
          "B",
          "B",
          "B",
          "B",
          "B",
          "M",
          "M",
          "B",
          "M",
          "M",
          "B",
          "B",
          "B",
          "B",
          "M",
          "B",
          "M",
          "M",
          "B",
          "B",
          "B",
          "B",
          "M",
          "B",
          "M",
          "M",
          "B",
          "M",
          "B",
          "M",
          "M",
          "B",
          "B",
          "B",
          "M",
          "M",
          "B",
          "M",
          "M",
          "M",
          "B",
          "B",
          "B",
          "M",
          "B",
          "B",
          "M",
          "M",
          "B",
          "B",
          "B",
          "M",
          "M",
          "B",
          "B",
          "B",
          "B",
          "M",
          "B",
          "B",
          "M",
          "B",
          "B",
          "B",
          "B",
          "B",
          "B",
          "B",
          "B",
          "M",
          "M",
          "M",
          "B",
          "M",
          "M",
          "B",
          "B",
          "B",
          "M",
          "M",
          "B",
          "M",
          "B",
          "M",
          "M",
          "B",
          "M",
          "M",
          "B",
          "B",
          "M",
          "B",
          "B",
          "M",
          "B",
          "B",
          "B",
          "B",
          "M",
          "B",
          "B",
          "B",
          "B",
          "B",
          "B",
          "B",
          "B",
          "B",
          "M",
          "B",
          "B",
          "B",
          "B",
          "M",
          "M",
          "B",
          "M",
          "B",
          "B",
          "M",
          "M",
          "B",
          "B",
          "M",
          "M",
          "B",
          "B",
          "B",
          "B",
          "M",
          "B",
          "B",
          "M",
          "M",
          "M",
          "B",
          "M",
          "B",
          "M",
          "B",
          "B",
          "B",
          "M",
          "B",
          "B",
          "M",
          "M",
          "B",
          "M",
          "M",
          "M",
          "M",
          "B",
          "M",
          "M",
          "M",
          "B",
          "M",
          "B",
          "M",
          "B",
          "B",
          "M",
          "B",
          "M",
          "M",
          "M",
          "M",
          "B",
          "B",
          "M",
          "M",
          "B",
          "B",
          "B",
          "M",
          "B",
          "B",
          "B",
          "B",
          "B",
          "M",
          "M",
          "B",
          "B",
          "M",
          "B",
          "B",
          "M",
          "M",
          "B",
          "M",
          "B",
          "B",
          "B",
          "B",
          "M",
          "B",
          "B",
          "B",
          "B",
          "B",
          "M",
          "B",
          "M",
          "M",
          "M",
          "M",
          "M",
          "M",
          "M",
          "M",
          "M",
          "M",
          "M",
          "M",
          "M",
          "M",
          "B",
          "B",
          "B",
          "B",
          "B",
          "B",
          "M",
          "B",
          "M",
          "B",
          "B",
          "M",
          "B",
          "B",
          "M",
          "B",
          "M",
          "M",
          "B",
          "B",
          "B",
          "B",
          "B",
          "B",
          "B",
          "B",
          "B",
          "B",
          "B",
          "B",
          "B",
          "M",
          "B",
          "B",
          "M",
          "B",
          "M",
          "B",
          "B",
          "B",
          "B",
          "B",
          "B",
          "B",
          "B",
          "B",
          "B",
          "B",
          "B",
          "B",
          "B",
          "M",
          "B",
          "B",
          "B",
          "M",
          "B",
          "M",
          "B",
          "B",
          "B",
          "B",
          "M",
          "M",
          "M",
          "B",
          "B",
          "B",
          "B",
          "M",
          "B",
          "M",
          "B",
          "M",
          "B",
          "B",
          "B",
          "M",
          "B",
          "B",
          "B",
          "B",
          "B",
          "B",
          "B",
          "M",
          "M",
          "M",
          "B",
          "B",
          "B",
          "B",
          "B",
          "B",
          "B",
          "B",
          "B",
          "B",
          "B",
          "M",
          "M",
          "B",
          "M",
          "M",
          "M",
          "B",
          "M",
          "M",
          "B",
          "B",
          "B",
          "B",
          "B",
          "M",
          "B",
          "B",
          "B",
          "B",
          "B",
          "M",
          "B",
          "B",
          "B",
          "M",
          "B",
          "B",
          "M",
          "M",
          "B",
          "B",
          "B",
          "B",
          "B",
          "B",
          "M",
          "B",
          "B",
          "B",
          "B",
          "B",
          "B",
          "B",
          "M",
          "B",
          "B",
          "B",
          "B",
          "B",
          "M",
          "B",
          "B",
          "M",
          "B",
          "B",
          "B",
          "B",
          "B",
          "B",
          "B",
          "B",
          "B",
          "B",
          "B",
          "B",
          "M",
          "B",
          "M",
          "M",
          "B",
          "M",
          "B",
          "B",
          "B",
          "B",
          "B",
          "M",
          "B",
          "B",
          "M",
          "B",
          "M",
          "B",
          "B",
          "M",
          "B",
          "M",
          "B",
          "B",
          "B",
          "B",
          "B",
          "B",
          "B",
          "B",
          "M",
          "M",
          "B",
          "B",
          "B",
          "B",
          "B",
          "B",
          "M",
          "B",
          "B",
          "B",
          "B",
          "B",
          "B",
          "B",
          "B",
          "B",
          "B",
          "M",
          "B",
          "B",
          "B",
          "B",
          "B",
          "B",
          "B",
          "M",
          "B",
          "M",
          "B",
          "B",
          "M",
          "B",
          "B",
          "B",
          "B",
          "B",
          "M",
          "M",
          "B",
          "M",
          "B",
          "M",
          "B",
          "B",
          "B",
          "B",
          "B",
          "M",
          "B",
          "B",
          "M",
          "B",
          "M",
          "B",
          "M",
          "M",
          "B",
          "B",
          "B",
          "M",
          "B",
          "B",
          "B",
          "B",
          "B",
          "B",
          "B",
          "B",
          "B",
          "B",
          "B",
          "M",
          "B",
          "M",
          "M",
          "B",
          "B",
          "B",
          "B",
          "B",
          "B",
          "B",
          "B",
          "B",
          "B",
          "B",
          "B",
          "B",
          "B",
          "B",
          "B",
          "B",
          "B",
          "B",
          "B",
          "B",
          "B",
          "B",
          "B",
          "B",
          "M",
          "M",
          "M",
          "M",
          "M",
          "M",
          "B"
         ],
         "xaxis": "x",
         "yaxis": "y"
        }
       ],
       "layout": {
        "barmode": "relative",
        "legend": {
         "tracegroupgap": 0
        },
        "template": {
         "data": {
          "bar": [
           {
            "error_x": {
             "color": "#2a3f5f"
            },
            "error_y": {
             "color": "#2a3f5f"
            },
            "marker": {
             "line": {
              "color": "#E5ECF6",
              "width": 0.5
             },
             "pattern": {
              "fillmode": "overlay",
              "size": 10,
              "solidity": 0.2
             }
            },
            "type": "bar"
           }
          ],
          "barpolar": [
           {
            "marker": {
             "line": {
              "color": "#E5ECF6",
              "width": 0.5
             },
             "pattern": {
              "fillmode": "overlay",
              "size": 10,
              "solidity": 0.2
             }
            },
            "type": "barpolar"
           }
          ],
          "carpet": [
           {
            "aaxis": {
             "endlinecolor": "#2a3f5f",
             "gridcolor": "white",
             "linecolor": "white",
             "minorgridcolor": "white",
             "startlinecolor": "#2a3f5f"
            },
            "baxis": {
             "endlinecolor": "#2a3f5f",
             "gridcolor": "white",
             "linecolor": "white",
             "minorgridcolor": "white",
             "startlinecolor": "#2a3f5f"
            },
            "type": "carpet"
           }
          ],
          "choropleth": [
           {
            "colorbar": {
             "outlinewidth": 0,
             "ticks": ""
            },
            "type": "choropleth"
           }
          ],
          "contour": [
           {
            "colorbar": {
             "outlinewidth": 0,
             "ticks": ""
            },
            "colorscale": [
             [
              0,
              "#0d0887"
             ],
             [
              0.1111111111111111,
              "#46039f"
             ],
             [
              0.2222222222222222,
              "#7201a8"
             ],
             [
              0.3333333333333333,
              "#9c179e"
             ],
             [
              0.4444444444444444,
              "#bd3786"
             ],
             [
              0.5555555555555556,
              "#d8576b"
             ],
             [
              0.6666666666666666,
              "#ed7953"
             ],
             [
              0.7777777777777778,
              "#fb9f3a"
             ],
             [
              0.8888888888888888,
              "#fdca26"
             ],
             [
              1,
              "#f0f921"
             ]
            ],
            "type": "contour"
           }
          ],
          "contourcarpet": [
           {
            "colorbar": {
             "outlinewidth": 0,
             "ticks": ""
            },
            "type": "contourcarpet"
           }
          ],
          "heatmap": [
           {
            "colorbar": {
             "outlinewidth": 0,
             "ticks": ""
            },
            "colorscale": [
             [
              0,
              "#0d0887"
             ],
             [
              0.1111111111111111,
              "#46039f"
             ],
             [
              0.2222222222222222,
              "#7201a8"
             ],
             [
              0.3333333333333333,
              "#9c179e"
             ],
             [
              0.4444444444444444,
              "#bd3786"
             ],
             [
              0.5555555555555556,
              "#d8576b"
             ],
             [
              0.6666666666666666,
              "#ed7953"
             ],
             [
              0.7777777777777778,
              "#fb9f3a"
             ],
             [
              0.8888888888888888,
              "#fdca26"
             ],
             [
              1,
              "#f0f921"
             ]
            ],
            "type": "heatmap"
           }
          ],
          "histogram": [
           {
            "marker": {
             "pattern": {
              "fillmode": "overlay",
              "size": 10,
              "solidity": 0.2
             }
            },
            "type": "histogram"
           }
          ],
          "histogram2d": [
           {
            "colorbar": {
             "outlinewidth": 0,
             "ticks": ""
            },
            "colorscale": [
             [
              0,
              "#0d0887"
             ],
             [
              0.1111111111111111,
              "#46039f"
             ],
             [
              0.2222222222222222,
              "#7201a8"
             ],
             [
              0.3333333333333333,
              "#9c179e"
             ],
             [
              0.4444444444444444,
              "#bd3786"
             ],
             [
              0.5555555555555556,
              "#d8576b"
             ],
             [
              0.6666666666666666,
              "#ed7953"
             ],
             [
              0.7777777777777778,
              "#fb9f3a"
             ],
             [
              0.8888888888888888,
              "#fdca26"
             ],
             [
              1,
              "#f0f921"
             ]
            ],
            "type": "histogram2d"
           }
          ],
          "histogram2dcontour": [
           {
            "colorbar": {
             "outlinewidth": 0,
             "ticks": ""
            },
            "colorscale": [
             [
              0,
              "#0d0887"
             ],
             [
              0.1111111111111111,
              "#46039f"
             ],
             [
              0.2222222222222222,
              "#7201a8"
             ],
             [
              0.3333333333333333,
              "#9c179e"
             ],
             [
              0.4444444444444444,
              "#bd3786"
             ],
             [
              0.5555555555555556,
              "#d8576b"
             ],
             [
              0.6666666666666666,
              "#ed7953"
             ],
             [
              0.7777777777777778,
              "#fb9f3a"
             ],
             [
              0.8888888888888888,
              "#fdca26"
             ],
             [
              1,
              "#f0f921"
             ]
            ],
            "type": "histogram2dcontour"
           }
          ],
          "mesh3d": [
           {
            "colorbar": {
             "outlinewidth": 0,
             "ticks": ""
            },
            "type": "mesh3d"
           }
          ],
          "parcoords": [
           {
            "line": {
             "colorbar": {
              "outlinewidth": 0,
              "ticks": ""
             }
            },
            "type": "parcoords"
           }
          ],
          "pie": [
           {
            "automargin": true,
            "type": "pie"
           }
          ],
          "scatter": [
           {
            "fillpattern": {
             "fillmode": "overlay",
             "size": 10,
             "solidity": 0.2
            },
            "type": "scatter"
           }
          ],
          "scatter3d": [
           {
            "line": {
             "colorbar": {
              "outlinewidth": 0,
              "ticks": ""
             }
            },
            "marker": {
             "colorbar": {
              "outlinewidth": 0,
              "ticks": ""
             }
            },
            "type": "scatter3d"
           }
          ],
          "scattercarpet": [
           {
            "marker": {
             "colorbar": {
              "outlinewidth": 0,
              "ticks": ""
             }
            },
            "type": "scattercarpet"
           }
          ],
          "scattergeo": [
           {
            "marker": {
             "colorbar": {
              "outlinewidth": 0,
              "ticks": ""
             }
            },
            "type": "scattergeo"
           }
          ],
          "scattergl": [
           {
            "marker": {
             "colorbar": {
              "outlinewidth": 0,
              "ticks": ""
             }
            },
            "type": "scattergl"
           }
          ],
          "scattermap": [
           {
            "marker": {
             "colorbar": {
              "outlinewidth": 0,
              "ticks": ""
             }
            },
            "type": "scattermap"
           }
          ],
          "scattermapbox": [
           {
            "marker": {
             "colorbar": {
              "outlinewidth": 0,
              "ticks": ""
             }
            },
            "type": "scattermapbox"
           }
          ],
          "scatterpolar": [
           {
            "marker": {
             "colorbar": {
              "outlinewidth": 0,
              "ticks": ""
             }
            },
            "type": "scatterpolar"
           }
          ],
          "scatterpolargl": [
           {
            "marker": {
             "colorbar": {
              "outlinewidth": 0,
              "ticks": ""
             }
            },
            "type": "scatterpolargl"
           }
          ],
          "scatterternary": [
           {
            "marker": {
             "colorbar": {
              "outlinewidth": 0,
              "ticks": ""
             }
            },
            "type": "scatterternary"
           }
          ],
          "surface": [
           {
            "colorbar": {
             "outlinewidth": 0,
             "ticks": ""
            },
            "colorscale": [
             [
              0,
              "#0d0887"
             ],
             [
              0.1111111111111111,
              "#46039f"
             ],
             [
              0.2222222222222222,
              "#7201a8"
             ],
             [
              0.3333333333333333,
              "#9c179e"
             ],
             [
              0.4444444444444444,
              "#bd3786"
             ],
             [
              0.5555555555555556,
              "#d8576b"
             ],
             [
              0.6666666666666666,
              "#ed7953"
             ],
             [
              0.7777777777777778,
              "#fb9f3a"
             ],
             [
              0.8888888888888888,
              "#fdca26"
             ],
             [
              1,
              "#f0f921"
             ]
            ],
            "type": "surface"
           }
          ],
          "table": [
           {
            "cells": {
             "fill": {
              "color": "#EBF0F8"
             },
             "line": {
              "color": "white"
             }
            },
            "header": {
             "fill": {
              "color": "#C8D4E3"
             },
             "line": {
              "color": "white"
             }
            },
            "type": "table"
           }
          ]
         },
         "layout": {
          "annotationdefaults": {
           "arrowcolor": "#2a3f5f",
           "arrowhead": 0,
           "arrowwidth": 1
          },
          "autotypenumbers": "strict",
          "coloraxis": {
           "colorbar": {
            "outlinewidth": 0,
            "ticks": ""
           }
          },
          "colorscale": {
           "diverging": [
            [
             0,
             "#8e0152"
            ],
            [
             0.1,
             "#c51b7d"
            ],
            [
             0.2,
             "#de77ae"
            ],
            [
             0.3,
             "#f1b6da"
            ],
            [
             0.4,
             "#fde0ef"
            ],
            [
             0.5,
             "#f7f7f7"
            ],
            [
             0.6,
             "#e6f5d0"
            ],
            [
             0.7,
             "#b8e186"
            ],
            [
             0.8,
             "#7fbc41"
            ],
            [
             0.9,
             "#4d9221"
            ],
            [
             1,
             "#276419"
            ]
           ],
           "sequential": [
            [
             0,
             "#0d0887"
            ],
            [
             0.1111111111111111,
             "#46039f"
            ],
            [
             0.2222222222222222,
             "#7201a8"
            ],
            [
             0.3333333333333333,
             "#9c179e"
            ],
            [
             0.4444444444444444,
             "#bd3786"
            ],
            [
             0.5555555555555556,
             "#d8576b"
            ],
            [
             0.6666666666666666,
             "#ed7953"
            ],
            [
             0.7777777777777778,
             "#fb9f3a"
            ],
            [
             0.8888888888888888,
             "#fdca26"
            ],
            [
             1,
             "#f0f921"
            ]
           ],
           "sequentialminus": [
            [
             0,
             "#0d0887"
            ],
            [
             0.1111111111111111,
             "#46039f"
            ],
            [
             0.2222222222222222,
             "#7201a8"
            ],
            [
             0.3333333333333333,
             "#9c179e"
            ],
            [
             0.4444444444444444,
             "#bd3786"
            ],
            [
             0.5555555555555556,
             "#d8576b"
            ],
            [
             0.6666666666666666,
             "#ed7953"
            ],
            [
             0.7777777777777778,
             "#fb9f3a"
            ],
            [
             0.8888888888888888,
             "#fdca26"
            ],
            [
             1,
             "#f0f921"
            ]
           ]
          },
          "colorway": [
           "#636efa",
           "#EF553B",
           "#00cc96",
           "#ab63fa",
           "#FFA15A",
           "#19d3f3",
           "#FF6692",
           "#B6E880",
           "#FF97FF",
           "#FECB52"
          ],
          "font": {
           "color": "#2a3f5f"
          },
          "geo": {
           "bgcolor": "white",
           "lakecolor": "white",
           "landcolor": "#E5ECF6",
           "showlakes": true,
           "showland": true,
           "subunitcolor": "white"
          },
          "hoverlabel": {
           "align": "left"
          },
          "hovermode": "closest",
          "mapbox": {
           "style": "light"
          },
          "paper_bgcolor": "white",
          "plot_bgcolor": "#E5ECF6",
          "polar": {
           "angularaxis": {
            "gridcolor": "white",
            "linecolor": "white",
            "ticks": ""
           },
           "bgcolor": "#E5ECF6",
           "radialaxis": {
            "gridcolor": "white",
            "linecolor": "white",
            "ticks": ""
           }
          },
          "scene": {
           "xaxis": {
            "backgroundcolor": "#E5ECF6",
            "gridcolor": "white",
            "gridwidth": 2,
            "linecolor": "white",
            "showbackground": true,
            "ticks": "",
            "zerolinecolor": "white"
           },
           "yaxis": {
            "backgroundcolor": "#E5ECF6",
            "gridcolor": "white",
            "gridwidth": 2,
            "linecolor": "white",
            "showbackground": true,
            "ticks": "",
            "zerolinecolor": "white"
           },
           "zaxis": {
            "backgroundcolor": "#E5ECF6",
            "gridcolor": "white",
            "gridwidth": 2,
            "linecolor": "white",
            "showbackground": true,
            "ticks": "",
            "zerolinecolor": "white"
           }
          },
          "shapedefaults": {
           "line": {
            "color": "#2a3f5f"
           }
          },
          "ternary": {
           "aaxis": {
            "gridcolor": "white",
            "linecolor": "white",
            "ticks": ""
           },
           "baxis": {
            "gridcolor": "white",
            "linecolor": "white",
            "ticks": ""
           },
           "bgcolor": "#E5ECF6",
           "caxis": {
            "gridcolor": "white",
            "linecolor": "white",
            "ticks": ""
           }
          },
          "title": {
           "x": 0.05
          },
          "xaxis": {
           "automargin": true,
           "gridcolor": "white",
           "linecolor": "white",
           "ticks": "",
           "title": {
            "standoff": 15
           },
           "zerolinecolor": "white",
           "zerolinewidth": 2
          },
          "yaxis": {
           "automargin": true,
           "gridcolor": "white",
           "linecolor": "white",
           "ticks": "",
           "title": {
            "standoff": 15
           },
           "zerolinecolor": "white",
           "zerolinewidth": 2
          }
         }
        },
        "title": {
         "text": "Distribution of Diagnosis"
        },
        "xaxis": {
         "anchor": "y",
         "domain": [
          0,
          1
         ],
         "title": {
          "text": "diagnosis"
         }
        },
        "yaxis": {
         "anchor": "x",
         "domain": [
          0,
          1
         ],
         "title": {
          "text": "count"
         }
        }
       }
      }
     },
     "metadata": {},
     "output_type": "display_data"
    }
   ],
   "source": [
    "px.histogram(raw_df, x='diagnosis', title='Distribution of Diagnosis', color_discrete_sequence=['#636EFA', '#EF553B'])"
   ]
  },
  {
   "cell_type": "code",
   "execution_count": 335,
   "id": "07abe7f3",
   "metadata": {},
   "outputs": [
    {
     "data": {
      "application/vnd.plotly.v1+json": {
       "config": {
        "plotlyServerURL": "https://plot.ly"
       },
       "data": [
        {
         "bingroup": "x",
         "histnorm": "percent",
         "hovertemplate": "diagnosis=M<br>radius_mean=%{x}<br>percent=%{y}<extra></extra>",
         "legendgroup": "M",
         "marker": {
          "color": "#636EFA",
          "opacity": 0.5,
          "pattern": {
           "shape": ""
          }
         },
         "name": "M",
         "orientation": "v",
         "showlegend": true,
         "type": "histogram",
         "x": {
          "bdata": "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",
          "dtype": "f8"
         },
         "xaxis": "x",
         "yaxis": "y"
        },
        {
         "bingroup": "x",
         "histnorm": "percent",
         "hovertemplate": "diagnosis=B<br>radius_mean=%{x}<br>percent=%{y}<extra></extra>",
         "legendgroup": "B",
         "marker": {
          "color": "#EF553B",
          "opacity": 0.5,
          "pattern": {
           "shape": ""
          }
         },
         "name": "B",
         "orientation": "v",
         "showlegend": true,
         "type": "histogram",
         "x": {
          "bdata": "FK5H4XoUK0ApXI/C9SgqQDVeukkMAiNAj8L1KFwPKkAxCKwcWmQgQJqZmZmZGShAexSuR+H6KkCF61G4HoUnQEjhehSuRytA4XoUrkfhJ0AK16NwPQonQJqZmZmZGSpAI9v5fmo8IUDXo3A9ClckQBkEVg4tMiFAf2q8dJNYIkCuR+F6FO4iQB+F61G4niZAAiuHFtkOIkCPwvUoXI8pQC2yne+nxiFAH4XrUbieKECPwvUoXA8rQLgehetRuClAZmZmZmbmJkCuR+F6FK4qQAAAAAAAAChAuB6F61G4KEBI4XoUrkctQD0K16NwPS1ACtejcD2KKkBmZmZmZuYqQFyPwvUoXChAbef7qfGSI0AzMzMzMzMnQAaBlUOL7BtAXI/C9ShcKECNl24Sg8AjQHsUrkfh+iRASOF6FK5HJ0C4HoXrUbgoQK5H4XoUriZA5/up8dKNI0DD9Shcj0IpQIXrUbgehSxAhetRuB4FJUDByqFFtnMhQFyPwvUo3CdAZmZmZmbmIUBSuB6F69EmQAAAAAAAAC1APQrXo3C9KkAzMzMzM7MrQDMzMzMzMy5A4XoUrkdhKEDsUbgehWsvQOxRuB6FaydAXI/C9SjcJkCPwvUoXI8mQGDl0CLbeSNAXI/C9SjcJkDNzMzMzMwpQAAAAAAAgCVAzczMzMzMJ0BmZmZmZuYtQOF6FK5H4SxAexSuR+F6K0AAAAAAAAAqQOOlm8QgcCBAg8DKoUV2I0DNzMzMzEwmQM3MzMzMTCpAAAAAAACAKEDXo3A9CtcwQB+F61G4HihAzczMzMzMJUAAAAAAAIAnQK5H4XoUrihAcT0K16PwLUCamZmZmZklQHE9Ctej8C1ApHA9CtejKEApXI/C9SgmQFK4HoXrUSVAZDvfT41XIUACK4cW2c4jQIXrUbgeBSpAH4XrUbieKUBSuB6F69EmQClcj8L1KCRA7FG4HoVrJ0AfhetRuJ4nQJqZmZmZmShACtejcD2KKUBxPQrXo3AjQFK4HoXr0SlA9ihcj8J1KEBxPQrXo/AoQI2XbhKDwCNAuB6F61E4KkAK16NwPYouQK5H4XoUridASOF6FK7HJ0BmZmZmZmYkQM3MzMzMTCtAH4XrUbgeK0Bcj8L1KFwkQArXo3A9iipArkfhehSuLEDhehSuR+EkQAAAAAAAAC5APQrXo3A9KUCkcD0K16MmQHE9CtejcCZA/Knx0k0iI0CPwvUoXA8sQHE9CtejcCxASOF6FK5HK0DXo3A9CtcoQJqZmZmZmSZAAAAAAACAK0D2KFyPwvUkQGZmZmZmZipASOF6FK7HKUDNzMzMzEwlQArXo3A9CidAAAAAAAAAJ0AzMzMzMzMlQK5H4XoULitAPQrXo3C9KUDsUbgehWslQBSuR+F6lCxAFK5H4XqUJkCWQ4ts53sjQEjhehSuxydAKVyPwvWoJkCuR+F6FC4rQDMzMzMzsytAexSuR+F6J0BI4XoUrscpQClcj8L1KClA4XoUrkfhJ0BI4XoUrscpQIXrUbgehSZAPQrXo3C9JkBSuB6F69EsQOxRuB6F6y1AZmZmZmbmKUAzMzMzM7MnQHE9CtejcClACtejcD2KK0BSuB6F69ElQIXrUbgehSxAhetRuB4FJUDsUbgehesoQHsUrkfh+iRA7FG4HoXrJkAzMzMzMzMnQGZmZmZmZipAAAAAAAAAIkAAAAAAAAArQJqZmZmZGSpAZmZmZmZmJ0C4HoXrUTgtQIXrUbgehSlAFK5H4XoUJ0CLbOf7qTEhQHsUrkfh+ihAXI/C9ShcKEAv3SQGgRUiQFyPwvUo3ChAAAAAAACAJEC4HoXrUbgpQGZmZmZmZihA16NwPQpXKUC4HoXrUTgsQI/C9ShcDyhA9ihcj8L1KUBxPQrXo3AmQAAAAAAAgCZAmpmZmZmZKEB7FK5H4fopQJqZmZmZGSRA16NwPQrXLECDwMqhRTYjQB+F61G4HiZA7FG4HoVrJ0CF61G4HoUkQB+F61G4HihAhetRuB6FLUBxPQrXo/AmQGZmZmZm5idAUrgehetRJ0BI4XoUrkcmQB+F61G4HilAmpmZmZkZKkA9CtejcL0rQKjGSzeJwSFArBxaZDvfIkAUrkfhehQpQJqZmZmZmSpAhetRuB6FKUAAAAAAAIAwQM3MzMzMzCpA7FG4HoVrKEDhehSuR2EuQOF6FK5HYStA7FG4HoUrMECkcD0K1yMlQOxRuB6F6ypAUrgehetRK0AK16NwPYomQBSuR+F6FCZAmpmZmZkZKEBI4XoUrscoQI/C9ShcjypA7FG4HoVrKEDD9Shcj8IrQArXo3A9iiZAhetRuB6FJEArhxbZznchQDMzMzMzMyhAH4XrUbgeLECF61G4HgUrQJqZmZmZmSlAH4XrUbgeJkCamZmZmZknQFyPwvUo3CdA7FG4HoXrKUDhehSuR+EpQK5H4XoUrihA4XoUrkfhJUCkcD0K1yMwQDMzMzMzsylACtejcD2KKEC4HoXrUbgmQBSuR+F6FCZAJQaBlUPLIkB7FK5H4fotQEjhehSuxydAj8L1KFzPIkBmZmZmZmYpQFK4HoXrUSZApHA9CtcjJ0DhehSuR2EtQLgehetROCdAUrgehetRK0CWQ4ts53sjQI/C9ShcDyRA9ihcj8L1JECamZmZmZklQMP1KFyPQiZAcT0K16NwKUDNzMzMzMwoQLgehetRuC1APQrXo3C9KUAUrkfhehQsQDMzMzMzsytACtejcD0KLEBxPQrXo/AlQI/C9ShcjytApHA9CtcjJUB7FK5H4fonQJqZmZmZmS1Aj8L1KFwPLUA9CtejcL0nQAAAAAAAAChAj8L1KFwPLUA9CtejcD0pQMP1KFyPwipAw/UoXI9CJ0DsUbgehWsqQAAAAAAAACpAw/UoXI+CI0DNzMzMzMwsQDMzMzMzMydA16NwPQpXKkB7FK5H4XoqQEjhehSuRypAvHSTGARWI0A9CtejcD0nQC/dJAaBVSNAFK5H4XoUKEDXo3A9CtctQArXo3A9iihAw/UoXI/CJUApXI/C9agpQGZmZmZmZixAzczMzMzMK0B7FK5H4fomQFK4HoXrUShAzczMzMzMK0BxPQrXo/AqQGZmZmZmZitA9ihcj8J1L0BmZmZmZuYoQEjhehSuRy1AXI/C9ShcJ0AAAAAAAIAoQJqZmZmZ2TFA7FG4HoXrKEBSuB6F61EqQD0K16NwvS1AzczMzMxMKUBxPQrXo/AoQBSuR+F6FC5AFK5H4XoUKUDwp8ZLN4kiQCcxCKwcWiNAcT0K16NwKEAfhetRuB4mQM3MzMzMTDBAexSuR+F6J0AfhetRuJ4tQClcj8L1KC1ArkfhehSuJkDD9Shcj8IpQAAAAAAAgClA16NwPQqXIkCF61G4HoUmQOxRuB6FaytAi2zn+6mxI0AxCKwcWiQhQOxRuB6F6ypArkfhehSuKEDhehSuR+ErQKRwPQrXIyhAAAAAAACAJ0DXo3A9ClcnQFyPwvUoXCtA7FG4HoXrJUDhehSuR2EnQNEi2/l+6h5A3SQGgZXDHkAUrkfhehQnQHE9Ctej8CxAexSuR+F6LUDsUbgehWsqQD0K16NwvStAPQrXo3A9K0CkcD0K16MkQIXrUbgehSRABFYOLbJdI0CkcD0K16MlQLgehetRuCVAw/UoXI9CJkAK16NwPYopQNEi2/l+qiJAw/UoXI/CKUAUrkfhepQkQFK4HoXrUSRAf2q8dJPYIkCuR+F6FC4tQIXrUbgeBSdAmpmZmZkZLEBmZmZmZmYmQArXo3A9Ch9A",
          "dtype": "f8"
         },
         "xaxis": "x",
         "yaxis": "y"
        }
       ],
       "layout": {
        "barmode": "overlay",
        "legend": {
         "title": {
          "text": "diagnosis"
         },
         "tracegroupgap": 0
        },
        "template": {
         "data": {
          "bar": [
           {
            "error_x": {
             "color": "#2a3f5f"
            },
            "error_y": {
             "color": "#2a3f5f"
            },
            "marker": {
             "line": {
              "color": "#E5ECF6",
              "width": 0.5
             },
             "pattern": {
              "fillmode": "overlay",
              "size": 10,
              "solidity": 0.2
             }
            },
            "type": "bar"
           }
          ],
          "barpolar": [
           {
            "marker": {
             "line": {
              "color": "#E5ECF6",
              "width": 0.5
             },
             "pattern": {
              "fillmode": "overlay",
              "size": 10,
              "solidity": 0.2
             }
            },
            "type": "barpolar"
           }
          ],
          "carpet": [
           {
            "aaxis": {
             "endlinecolor": "#2a3f5f",
             "gridcolor": "white",
             "linecolor": "white",
             "minorgridcolor": "white",
             "startlinecolor": "#2a3f5f"
            },
            "baxis": {
             "endlinecolor": "#2a3f5f",
             "gridcolor": "white",
             "linecolor": "white",
             "minorgridcolor": "white",
             "startlinecolor": "#2a3f5f"
            },
            "type": "carpet"
           }
          ],
          "choropleth": [
           {
            "colorbar": {
             "outlinewidth": 0,
             "ticks": ""
            },
            "type": "choropleth"
           }
          ],
          "contour": [
           {
            "colorbar": {
             "outlinewidth": 0,
             "ticks": ""
            },
            "colorscale": [
             [
              0,
              "#0d0887"
             ],
             [
              0.1111111111111111,
              "#46039f"
             ],
             [
              0.2222222222222222,
              "#7201a8"
             ],
             [
              0.3333333333333333,
              "#9c179e"
             ],
             [
              0.4444444444444444,
              "#bd3786"
             ],
             [
              0.5555555555555556,
              "#d8576b"
             ],
             [
              0.6666666666666666,
              "#ed7953"
             ],
             [
              0.7777777777777778,
              "#fb9f3a"
             ],
             [
              0.8888888888888888,
              "#fdca26"
             ],
             [
              1,
              "#f0f921"
             ]
            ],
            "type": "contour"
           }
          ],
          "contourcarpet": [
           {
            "colorbar": {
             "outlinewidth": 0,
             "ticks": ""
            },
            "type": "contourcarpet"
           }
          ],
          "heatmap": [
           {
            "colorbar": {
             "outlinewidth": 0,
             "ticks": ""
            },
            "colorscale": [
             [
              0,
              "#0d0887"
             ],
             [
              0.1111111111111111,
              "#46039f"
             ],
             [
              0.2222222222222222,
              "#7201a8"
             ],
             [
              0.3333333333333333,
              "#9c179e"
             ],
             [
              0.4444444444444444,
              "#bd3786"
             ],
             [
              0.5555555555555556,
              "#d8576b"
             ],
             [
              0.6666666666666666,
              "#ed7953"
             ],
             [
              0.7777777777777778,
              "#fb9f3a"
             ],
             [
              0.8888888888888888,
              "#fdca26"
             ],
             [
              1,
              "#f0f921"
             ]
            ],
            "type": "heatmap"
           }
          ],
          "histogram": [
           {
            "marker": {
             "pattern": {
              "fillmode": "overlay",
              "size": 10,
              "solidity": 0.2
             }
            },
            "type": "histogram"
           }
          ],
          "histogram2d": [
           {
            "colorbar": {
             "outlinewidth": 0,
             "ticks": ""
            },
            "colorscale": [
             [
              0,
              "#0d0887"
             ],
             [
              0.1111111111111111,
              "#46039f"
             ],
             [
              0.2222222222222222,
              "#7201a8"
             ],
             [
              0.3333333333333333,
              "#9c179e"
             ],
             [
              0.4444444444444444,
              "#bd3786"
             ],
             [
              0.5555555555555556,
              "#d8576b"
             ],
             [
              0.6666666666666666,
              "#ed7953"
             ],
             [
              0.7777777777777778,
              "#fb9f3a"
             ],
             [
              0.8888888888888888,
              "#fdca26"
             ],
             [
              1,
              "#f0f921"
             ]
            ],
            "type": "histogram2d"
           }
          ],
          "histogram2dcontour": [
           {
            "colorbar": {
             "outlinewidth": 0,
             "ticks": ""
            },
            "colorscale": [
             [
              0,
              "#0d0887"
             ],
             [
              0.1111111111111111,
              "#46039f"
             ],
             [
              0.2222222222222222,
              "#7201a8"
             ],
             [
              0.3333333333333333,
              "#9c179e"
             ],
             [
              0.4444444444444444,
              "#bd3786"
             ],
             [
              0.5555555555555556,
              "#d8576b"
             ],
             [
              0.6666666666666666,
              "#ed7953"
             ],
             [
              0.7777777777777778,
              "#fb9f3a"
             ],
             [
              0.8888888888888888,
              "#fdca26"
             ],
             [
              1,
              "#f0f921"
             ]
            ],
            "type": "histogram2dcontour"
           }
          ],
          "mesh3d": [
           {
            "colorbar": {
             "outlinewidth": 0,
             "ticks": ""
            },
            "type": "mesh3d"
           }
          ],
          "parcoords": [
           {
            "line": {
             "colorbar": {
              "outlinewidth": 0,
              "ticks": ""
             }
            },
            "type": "parcoords"
           }
          ],
          "pie": [
           {
            "automargin": true,
            "type": "pie"
           }
          ],
          "scatter": [
           {
            "fillpattern": {
             "fillmode": "overlay",
             "size": 10,
             "solidity": 0.2
            },
            "type": "scatter"
           }
          ],
          "scatter3d": [
           {
            "line": {
             "colorbar": {
              "outlinewidth": 0,
              "ticks": ""
             }
            },
            "marker": {
             "colorbar": {
              "outlinewidth": 0,
              "ticks": ""
             }
            },
            "type": "scatter3d"
           }
          ],
          "scattercarpet": [
           {
            "marker": {
             "colorbar": {
              "outlinewidth": 0,
              "ticks": ""
             }
            },
            "type": "scattercarpet"
           }
          ],
          "scattergeo": [
           {
            "marker": {
             "colorbar": {
              "outlinewidth": 0,
              "ticks": ""
             }
            },
            "type": "scattergeo"
           }
          ],
          "scattergl": [
           {
            "marker": {
             "colorbar": {
              "outlinewidth": 0,
              "ticks": ""
             }
            },
            "type": "scattergl"
           }
          ],
          "scattermap": [
           {
            "marker": {
             "colorbar": {
              "outlinewidth": 0,
              "ticks": ""
             }
            },
            "type": "scattermap"
           }
          ],
          "scattermapbox": [
           {
            "marker": {
             "colorbar": {
              "outlinewidth": 0,
              "ticks": ""
             }
            },
            "type": "scattermapbox"
           }
          ],
          "scatterpolar": [
           {
            "marker": {
             "colorbar": {
              "outlinewidth": 0,
              "ticks": ""
             }
            },
            "type": "scatterpolar"
           }
          ],
          "scatterpolargl": [
           {
            "marker": {
             "colorbar": {
              "outlinewidth": 0,
              "ticks": ""
             }
            },
            "type": "scatterpolargl"
           }
          ],
          "scatterternary": [
           {
            "marker": {
             "colorbar": {
              "outlinewidth": 0,
              "ticks": ""
             }
            },
            "type": "scatterternary"
           }
          ],
          "surface": [
           {
            "colorbar": {
             "outlinewidth": 0,
             "ticks": ""
            },
            "colorscale": [
             [
              0,
              "#0d0887"
             ],
             [
              0.1111111111111111,
              "#46039f"
             ],
             [
              0.2222222222222222,
              "#7201a8"
             ],
             [
              0.3333333333333333,
              "#9c179e"
             ],
             [
              0.4444444444444444,
              "#bd3786"
             ],
             [
              0.5555555555555556,
              "#d8576b"
             ],
             [
              0.6666666666666666,
              "#ed7953"
             ],
             [
              0.7777777777777778,
              "#fb9f3a"
             ],
             [
              0.8888888888888888,
              "#fdca26"
             ],
             [
              1,
              "#f0f921"
             ]
            ],
            "type": "surface"
           }
          ],
          "table": [
           {
            "cells": {
             "fill": {
              "color": "#EBF0F8"
             },
             "line": {
              "color": "white"
             }
            },
            "header": {
             "fill": {
              "color": "#C8D4E3"
             },
             "line": {
              "color": "white"
             }
            },
            "type": "table"
           }
          ]
         },
         "layout": {
          "annotationdefaults": {
           "arrowcolor": "#2a3f5f",
           "arrowhead": 0,
           "arrowwidth": 1
          },
          "autotypenumbers": "strict",
          "coloraxis": {
           "colorbar": {
            "outlinewidth": 0,
            "ticks": ""
           }
          },
          "colorscale": {
           "diverging": [
            [
             0,
             "#8e0152"
            ],
            [
             0.1,
             "#c51b7d"
            ],
            [
             0.2,
             "#de77ae"
            ],
            [
             0.3,
             "#f1b6da"
            ],
            [
             0.4,
             "#fde0ef"
            ],
            [
             0.5,
             "#f7f7f7"
            ],
            [
             0.6,
             "#e6f5d0"
            ],
            [
             0.7,
             "#b8e186"
            ],
            [
             0.8,
             "#7fbc41"
            ],
            [
             0.9,
             "#4d9221"
            ],
            [
             1,
             "#276419"
            ]
           ],
           "sequential": [
            [
             0,
             "#0d0887"
            ],
            [
             0.1111111111111111,
             "#46039f"
            ],
            [
             0.2222222222222222,
             "#7201a8"
            ],
            [
             0.3333333333333333,
             "#9c179e"
            ],
            [
             0.4444444444444444,
             "#bd3786"
            ],
            [
             0.5555555555555556,
             "#d8576b"
            ],
            [
             0.6666666666666666,
             "#ed7953"
            ],
            [
             0.7777777777777778,
             "#fb9f3a"
            ],
            [
             0.8888888888888888,
             "#fdca26"
            ],
            [
             1,
             "#f0f921"
            ]
           ],
           "sequentialminus": [
            [
             0,
             "#0d0887"
            ],
            [
             0.1111111111111111,
             "#46039f"
            ],
            [
             0.2222222222222222,
             "#7201a8"
            ],
            [
             0.3333333333333333,
             "#9c179e"
            ],
            [
             0.4444444444444444,
             "#bd3786"
            ],
            [
             0.5555555555555556,
             "#d8576b"
            ],
            [
             0.6666666666666666,
             "#ed7953"
            ],
            [
             0.7777777777777778,
             "#fb9f3a"
            ],
            [
             0.8888888888888888,
             "#fdca26"
            ],
            [
             1,
             "#f0f921"
            ]
           ]
          },
          "colorway": [
           "#636efa",
           "#EF553B",
           "#00cc96",
           "#ab63fa",
           "#FFA15A",
           "#19d3f3",
           "#FF6692",
           "#B6E880",
           "#FF97FF",
           "#FECB52"
          ],
          "font": {
           "color": "#2a3f5f"
          },
          "geo": {
           "bgcolor": "white",
           "lakecolor": "white",
           "landcolor": "#E5ECF6",
           "showlakes": true,
           "showland": true,
           "subunitcolor": "white"
          },
          "hoverlabel": {
           "align": "left"
          },
          "hovermode": "closest",
          "mapbox": {
           "style": "light"
          },
          "paper_bgcolor": "white",
          "plot_bgcolor": "#E5ECF6",
          "polar": {
           "angularaxis": {
            "gridcolor": "white",
            "linecolor": "white",
            "ticks": ""
           },
           "bgcolor": "#E5ECF6",
           "radialaxis": {
            "gridcolor": "white",
            "linecolor": "white",
            "ticks": ""
           }
          },
          "scene": {
           "xaxis": {
            "backgroundcolor": "#E5ECF6",
            "gridcolor": "white",
            "gridwidth": 2,
            "linecolor": "white",
            "showbackground": true,
            "ticks": "",
            "zerolinecolor": "white"
           },
           "yaxis": {
            "backgroundcolor": "#E5ECF6",
            "gridcolor": "white",
            "gridwidth": 2,
            "linecolor": "white",
            "showbackground": true,
            "ticks": "",
            "zerolinecolor": "white"
           },
           "zaxis": {
            "backgroundcolor": "#E5ECF6",
            "gridcolor": "white",
            "gridwidth": 2,
            "linecolor": "white",
            "showbackground": true,
            "ticks": "",
            "zerolinecolor": "white"
           }
          },
          "shapedefaults": {
           "line": {
            "color": "#2a3f5f"
           }
          },
          "ternary": {
           "aaxis": {
            "gridcolor": "white",
            "linecolor": "white",
            "ticks": ""
           },
           "baxis": {
            "gridcolor": "white",
            "linecolor": "white",
            "ticks": ""
           },
           "bgcolor": "#E5ECF6",
           "caxis": {
            "gridcolor": "white",
            "linecolor": "white",
            "ticks": ""
           }
          },
          "title": {
           "x": 0.05
          },
          "xaxis": {
           "automargin": true,
           "gridcolor": "white",
           "linecolor": "white",
           "ticks": "",
           "title": {
            "standoff": 15
           },
           "zerolinecolor": "white",
           "zerolinewidth": 2
          },
          "yaxis": {
           "automargin": true,
           "gridcolor": "white",
           "linecolor": "white",
           "ticks": "",
           "title": {
            "standoff": 15
           },
           "zerolinecolor": "white",
           "zerolinewidth": 2
          }
         }
        },
        "title": {
         "text": "Distribution of Radius Mean by Diagnosis"
        },
        "xaxis": {
         "anchor": "y",
         "domain": [
          0,
          1
         ],
         "title": {
          "text": "radius_mean"
         }
        },
        "yaxis": {
         "anchor": "x",
         "domain": [
          0,
          1
         ],
         "title": {
          "text": "percent"
         }
        }
       }
      }
     },
     "metadata": {},
     "output_type": "display_data"
    }
   ],
   "source": [
    "px.histogram(raw_df,\n",
    "            x='radius_mean',\n",
    "            color='diagnosis',\n",
    "            title='Distribution of Radius Mean by Diagnosis',\n",
    "            barmode='overlay',\n",
    "            color_discrete_sequence=['#636EFA', '#EF553B'],\n",
    "            histnorm='percent',)"
   ]
  },
  {
   "cell_type": "code",
   "execution_count": 336,
   "id": "6cf213b8",
   "metadata": {},
   "outputs": [
    {
     "data": {
      "text/html": [
       "<div>\n",
       "<style scoped>\n",
       "    .dataframe tbody tr th:only-of-type {\n",
       "        vertical-align: middle;\n",
       "    }\n",
       "\n",
       "    .dataframe tbody tr th {\n",
       "        vertical-align: top;\n",
       "    }\n",
       "\n",
       "    .dataframe thead th {\n",
       "        text-align: right;\n",
       "    }\n",
       "</style>\n",
       "<table border=\"1\" class=\"dataframe\">\n",
       "  <thead>\n",
       "    <tr style=\"text-align: right;\">\n",
       "      <th></th>\n",
       "      <th>id</th>\n",
       "      <th>diagnosis</th>\n",
       "      <th>radius_mean</th>\n",
       "      <th>texture_mean</th>\n",
       "      <th>perimeter_mean</th>\n",
       "      <th>area_mean</th>\n",
       "      <th>smoothness_mean</th>\n",
       "      <th>compactness_mean</th>\n",
       "      <th>concavity_mean</th>\n",
       "      <th>concave points_mean</th>\n",
       "      <th>...</th>\n",
       "      <th>radius_worst</th>\n",
       "      <th>texture_worst</th>\n",
       "      <th>perimeter_worst</th>\n",
       "      <th>area_worst</th>\n",
       "      <th>smoothness_worst</th>\n",
       "      <th>compactness_worst</th>\n",
       "      <th>concavity_worst</th>\n",
       "      <th>concave points_worst</th>\n",
       "      <th>symmetry_worst</th>\n",
       "      <th>fractal_dimension_worst</th>\n",
       "    </tr>\n",
       "  </thead>\n",
       "  <tbody>\n",
       "    <tr>\n",
       "      <th>0</th>\n",
       "      <td>842302</td>\n",
       "      <td>M</td>\n",
       "      <td>17.99</td>\n",
       "      <td>10.38</td>\n",
       "      <td>122.80</td>\n",
       "      <td>1001.0</td>\n",
       "      <td>0.11840</td>\n",
       "      <td>0.27760</td>\n",
       "      <td>0.3001</td>\n",
       "      <td>0.14710</td>\n",
       "      <td>...</td>\n",
       "      <td>25.38</td>\n",
       "      <td>17.33</td>\n",
       "      <td>184.60</td>\n",
       "      <td>2019.0</td>\n",
       "      <td>0.1622</td>\n",
       "      <td>0.6656</td>\n",
       "      <td>0.7119</td>\n",
       "      <td>0.2654</td>\n",
       "      <td>0.4601</td>\n",
       "      <td>0.11890</td>\n",
       "    </tr>\n",
       "    <tr>\n",
       "      <th>1</th>\n",
       "      <td>842517</td>\n",
       "      <td>M</td>\n",
       "      <td>20.57</td>\n",
       "      <td>17.77</td>\n",
       "      <td>132.90</td>\n",
       "      <td>1326.0</td>\n",
       "      <td>0.08474</td>\n",
       "      <td>0.07864</td>\n",
       "      <td>0.0869</td>\n",
       "      <td>0.07017</td>\n",
       "      <td>...</td>\n",
       "      <td>24.99</td>\n",
       "      <td>23.41</td>\n",
       "      <td>158.80</td>\n",
       "      <td>1956.0</td>\n",
       "      <td>0.1238</td>\n",
       "      <td>0.1866</td>\n",
       "      <td>0.2416</td>\n",
       "      <td>0.1860</td>\n",
       "      <td>0.2750</td>\n",
       "      <td>0.08902</td>\n",
       "    </tr>\n",
       "    <tr>\n",
       "      <th>2</th>\n",
       "      <td>84300903</td>\n",
       "      <td>M</td>\n",
       "      <td>19.69</td>\n",
       "      <td>21.25</td>\n",
       "      <td>130.00</td>\n",
       "      <td>1203.0</td>\n",
       "      <td>0.10960</td>\n",
       "      <td>0.15990</td>\n",
       "      <td>0.1974</td>\n",
       "      <td>0.12790</td>\n",
       "      <td>...</td>\n",
       "      <td>23.57</td>\n",
       "      <td>25.53</td>\n",
       "      <td>152.50</td>\n",
       "      <td>1709.0</td>\n",
       "      <td>0.1444</td>\n",
       "      <td>0.4245</td>\n",
       "      <td>0.4504</td>\n",
       "      <td>0.2430</td>\n",
       "      <td>0.3613</td>\n",
       "      <td>0.08758</td>\n",
       "    </tr>\n",
       "    <tr>\n",
       "      <th>3</th>\n",
       "      <td>84348301</td>\n",
       "      <td>M</td>\n",
       "      <td>11.42</td>\n",
       "      <td>20.38</td>\n",
       "      <td>77.58</td>\n",
       "      <td>386.1</td>\n",
       "      <td>0.14250</td>\n",
       "      <td>0.28390</td>\n",
       "      <td>0.2414</td>\n",
       "      <td>0.10520</td>\n",
       "      <td>...</td>\n",
       "      <td>14.91</td>\n",
       "      <td>26.50</td>\n",
       "      <td>98.87</td>\n",
       "      <td>567.7</td>\n",
       "      <td>0.2098</td>\n",
       "      <td>0.8663</td>\n",
       "      <td>0.6869</td>\n",
       "      <td>0.2575</td>\n",
       "      <td>0.6638</td>\n",
       "      <td>0.17300</td>\n",
       "    </tr>\n",
       "    <tr>\n",
       "      <th>4</th>\n",
       "      <td>84358402</td>\n",
       "      <td>M</td>\n",
       "      <td>20.29</td>\n",
       "      <td>14.34</td>\n",
       "      <td>135.10</td>\n",
       "      <td>1297.0</td>\n",
       "      <td>0.10030</td>\n",
       "      <td>0.13280</td>\n",
       "      <td>0.1980</td>\n",
       "      <td>0.10430</td>\n",
       "      <td>...</td>\n",
       "      <td>22.54</td>\n",
       "      <td>16.67</td>\n",
       "      <td>152.20</td>\n",
       "      <td>1575.0</td>\n",
       "      <td>0.1374</td>\n",
       "      <td>0.2050</td>\n",
       "      <td>0.4000</td>\n",
       "      <td>0.1625</td>\n",
       "      <td>0.2364</td>\n",
       "      <td>0.07678</td>\n",
       "    </tr>\n",
       "  </tbody>\n",
       "</table>\n",
       "<p>5 rows × 32 columns</p>\n",
       "</div>"
      ],
      "text/plain": [
       "         id diagnosis  radius_mean  texture_mean  perimeter_mean  area_mean  \\\n",
       "0    842302         M        17.99         10.38          122.80     1001.0   \n",
       "1    842517         M        20.57         17.77          132.90     1326.0   \n",
       "2  84300903         M        19.69         21.25          130.00     1203.0   \n",
       "3  84348301         M        11.42         20.38           77.58      386.1   \n",
       "4  84358402         M        20.29         14.34          135.10     1297.0   \n",
       "\n",
       "   smoothness_mean  compactness_mean  concavity_mean  concave points_mean  \\\n",
       "0          0.11840           0.27760          0.3001              0.14710   \n",
       "1          0.08474           0.07864          0.0869              0.07017   \n",
       "2          0.10960           0.15990          0.1974              0.12790   \n",
       "3          0.14250           0.28390          0.2414              0.10520   \n",
       "4          0.10030           0.13280          0.1980              0.10430   \n",
       "\n",
       "   ...  radius_worst  texture_worst  perimeter_worst  area_worst  \\\n",
       "0  ...         25.38          17.33           184.60      2019.0   \n",
       "1  ...         24.99          23.41           158.80      1956.0   \n",
       "2  ...         23.57          25.53           152.50      1709.0   \n",
       "3  ...         14.91          26.50            98.87       567.7   \n",
       "4  ...         22.54          16.67           152.20      1575.0   \n",
       "\n",
       "   smoothness_worst  compactness_worst  concavity_worst  concave points_worst  \\\n",
       "0            0.1622             0.6656           0.7119                0.2654   \n",
       "1            0.1238             0.1866           0.2416                0.1860   \n",
       "2            0.1444             0.4245           0.4504                0.2430   \n",
       "3            0.2098             0.8663           0.6869                0.2575   \n",
       "4            0.1374             0.2050           0.4000                0.1625   \n",
       "\n",
       "   symmetry_worst  fractal_dimension_worst  \n",
       "0          0.4601                  0.11890  \n",
       "1          0.2750                  0.08902  \n",
       "2          0.3613                  0.08758  \n",
       "3          0.6638                  0.17300  \n",
       "4          0.2364                  0.07678  \n",
       "\n",
       "[5 rows x 32 columns]"
      ]
     },
     "execution_count": 336,
     "metadata": {},
     "output_type": "execute_result"
    }
   ],
   "source": [
    "raw_df.head()"
   ]
  },
  {
   "cell_type": "code",
   "execution_count": 337,
   "id": "c9a0823c",
   "metadata": {},
   "outputs": [
    {
     "data": {
      "application/vnd.plotly.v1+json": {
       "config": {
        "plotlyServerURL": "https://plot.ly"
       },
       "data": [
        {
         "bingroup": "x",
         "hovertemplate": "diagnosis=M<br>texture_mean=%{x}<br>count=%{y}<extra></extra>",
         "legendgroup": "M",
         "marker": {
          "color": "#636EFA",
          "opacity": 0.5,
          "pattern": {
           "shape": ""
          }
         },
         "name": "M",
         "nbinsx": 50,
         "orientation": "v",
         "showlegend": true,
         "type": "histogram",
         "x": {
          "bdata": "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",
          "dtype": "f8"
         },
         "xaxis": "x",
         "yaxis": "y"
        },
        {
         "bingroup": "x",
         "hovertemplate": "diagnosis=B<br>texture_mean=%{x}<br>count=%{y}<extra></extra>",
         "legendgroup": "B",
         "marker": {
          "color": "#EF553B",
          "opacity": 0.5,
          "pattern": {
           "shape": ""
          }
         },
         "name": "B",
         "nbinsx": 50,
         "orientation": "v",
         "showlegend": true,
         "type": "histogram",
         "x": {
          "bdata": "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",
          "dtype": "f8"
         },
         "xaxis": "x",
         "yaxis": "y"
        }
       ],
       "layout": {
        "barmode": "overlay",
        "legend": {
         "title": {
          "text": "diagnosis"
         },
         "tracegroupgap": 0
        },
        "template": {
         "data": {
          "bar": [
           {
            "error_x": {
             "color": "#2a3f5f"
            },
            "error_y": {
             "color": "#2a3f5f"
            },
            "marker": {
             "line": {
              "color": "#E5ECF6",
              "width": 0.5
             },
             "pattern": {
              "fillmode": "overlay",
              "size": 10,
              "solidity": 0.2
             }
            },
            "type": "bar"
           }
          ],
          "barpolar": [
           {
            "marker": {
             "line": {
              "color": "#E5ECF6",
              "width": 0.5
             },
             "pattern": {
              "fillmode": "overlay",
              "size": 10,
              "solidity": 0.2
             }
            },
            "type": "barpolar"
           }
          ],
          "carpet": [
           {
            "aaxis": {
             "endlinecolor": "#2a3f5f",
             "gridcolor": "white",
             "linecolor": "white",
             "minorgridcolor": "white",
             "startlinecolor": "#2a3f5f"
            },
            "baxis": {
             "endlinecolor": "#2a3f5f",
             "gridcolor": "white",
             "linecolor": "white",
             "minorgridcolor": "white",
             "startlinecolor": "#2a3f5f"
            },
            "type": "carpet"
           }
          ],
          "choropleth": [
           {
            "colorbar": {
             "outlinewidth": 0,
             "ticks": ""
            },
            "type": "choropleth"
           }
          ],
          "contour": [
           {
            "colorbar": {
             "outlinewidth": 0,
             "ticks": ""
            },
            "colorscale": [
             [
              0,
              "#0d0887"
             ],
             [
              0.1111111111111111,
              "#46039f"
             ],
             [
              0.2222222222222222,
              "#7201a8"
             ],
             [
              0.3333333333333333,
              "#9c179e"
             ],
             [
              0.4444444444444444,
              "#bd3786"
             ],
             [
              0.5555555555555556,
              "#d8576b"
             ],
             [
              0.6666666666666666,
              "#ed7953"
             ],
             [
              0.7777777777777778,
              "#fb9f3a"
             ],
             [
              0.8888888888888888,
              "#fdca26"
             ],
             [
              1,
              "#f0f921"
             ]
            ],
            "type": "contour"
           }
          ],
          "contourcarpet": [
           {
            "colorbar": {
             "outlinewidth": 0,
             "ticks": ""
            },
            "type": "contourcarpet"
           }
          ],
          "heatmap": [
           {
            "colorbar": {
             "outlinewidth": 0,
             "ticks": ""
            },
            "colorscale": [
             [
              0,
              "#0d0887"
             ],
             [
              0.1111111111111111,
              "#46039f"
             ],
             [
              0.2222222222222222,
              "#7201a8"
             ],
             [
              0.3333333333333333,
              "#9c179e"
             ],
             [
              0.4444444444444444,
              "#bd3786"
             ],
             [
              0.5555555555555556,
              "#d8576b"
             ],
             [
              0.6666666666666666,
              "#ed7953"
             ],
             [
              0.7777777777777778,
              "#fb9f3a"
             ],
             [
              0.8888888888888888,
              "#fdca26"
             ],
             [
              1,
              "#f0f921"
             ]
            ],
            "type": "heatmap"
           }
          ],
          "histogram": [
           {
            "marker": {
             "pattern": {
              "fillmode": "overlay",
              "size": 10,
              "solidity": 0.2
             }
            },
            "type": "histogram"
           }
          ],
          "histogram2d": [
           {
            "colorbar": {
             "outlinewidth": 0,
             "ticks": ""
            },
            "colorscale": [
             [
              0,
              "#0d0887"
             ],
             [
              0.1111111111111111,
              "#46039f"
             ],
             [
              0.2222222222222222,
              "#7201a8"
             ],
             [
              0.3333333333333333,
              "#9c179e"
             ],
             [
              0.4444444444444444,
              "#bd3786"
             ],
             [
              0.5555555555555556,
              "#d8576b"
             ],
             [
              0.6666666666666666,
              "#ed7953"
             ],
             [
              0.7777777777777778,
              "#fb9f3a"
             ],
             [
              0.8888888888888888,
              "#fdca26"
             ],
             [
              1,
              "#f0f921"
             ]
            ],
            "type": "histogram2d"
           }
          ],
          "histogram2dcontour": [
           {
            "colorbar": {
             "outlinewidth": 0,
             "ticks": ""
            },
            "colorscale": [
             [
              0,
              "#0d0887"
             ],
             [
              0.1111111111111111,
              "#46039f"
             ],
             [
              0.2222222222222222,
              "#7201a8"
             ],
             [
              0.3333333333333333,
              "#9c179e"
             ],
             [
              0.4444444444444444,
              "#bd3786"
             ],
             [
              0.5555555555555556,
              "#d8576b"
             ],
             [
              0.6666666666666666,
              "#ed7953"
             ],
             [
              0.7777777777777778,
              "#fb9f3a"
             ],
             [
              0.8888888888888888,
              "#fdca26"
             ],
             [
              1,
              "#f0f921"
             ]
            ],
            "type": "histogram2dcontour"
           }
          ],
          "mesh3d": [
           {
            "colorbar": {
             "outlinewidth": 0,
             "ticks": ""
            },
            "type": "mesh3d"
           }
          ],
          "parcoords": [
           {
            "line": {
             "colorbar": {
              "outlinewidth": 0,
              "ticks": ""
             }
            },
            "type": "parcoords"
           }
          ],
          "pie": [
           {
            "automargin": true,
            "type": "pie"
           }
          ],
          "scatter": [
           {
            "fillpattern": {
             "fillmode": "overlay",
             "size": 10,
             "solidity": 0.2
            },
            "type": "scatter"
           }
          ],
          "scatter3d": [
           {
            "line": {
             "colorbar": {
              "outlinewidth": 0,
              "ticks": ""
             }
            },
            "marker": {
             "colorbar": {
              "outlinewidth": 0,
              "ticks": ""
             }
            },
            "type": "scatter3d"
           }
          ],
          "scattercarpet": [
           {
            "marker": {
             "colorbar": {
              "outlinewidth": 0,
              "ticks": ""
             }
            },
            "type": "scattercarpet"
           }
          ],
          "scattergeo": [
           {
            "marker": {
             "colorbar": {
              "outlinewidth": 0,
              "ticks": ""
             }
            },
            "type": "scattergeo"
           }
          ],
          "scattergl": [
           {
            "marker": {
             "colorbar": {
              "outlinewidth": 0,
              "ticks": ""
             }
            },
            "type": "scattergl"
           }
          ],
          "scattermap": [
           {
            "marker": {
             "colorbar": {
              "outlinewidth": 0,
              "ticks": ""
             }
            },
            "type": "scattermap"
           }
          ],
          "scattermapbox": [
           {
            "marker": {
             "colorbar": {
              "outlinewidth": 0,
              "ticks": ""
             }
            },
            "type": "scattermapbox"
           }
          ],
          "scatterpolar": [
           {
            "marker": {
             "colorbar": {
              "outlinewidth": 0,
              "ticks": ""
             }
            },
            "type": "scatterpolar"
           }
          ],
          "scatterpolargl": [
           {
            "marker": {
             "colorbar": {
              "outlinewidth": 0,
              "ticks": ""
             }
            },
            "type": "scatterpolargl"
           }
          ],
          "scatterternary": [
           {
            "marker": {
             "colorbar": {
              "outlinewidth": 0,
              "ticks": ""
             }
            },
            "type": "scatterternary"
           }
          ],
          "surface": [
           {
            "colorbar": {
             "outlinewidth": 0,
             "ticks": ""
            },
            "colorscale": [
             [
              0,
              "#0d0887"
             ],
             [
              0.1111111111111111,
              "#46039f"
             ],
             [
              0.2222222222222222,
              "#7201a8"
             ],
             [
              0.3333333333333333,
              "#9c179e"
             ],
             [
              0.4444444444444444,
              "#bd3786"
             ],
             [
              0.5555555555555556,
              "#d8576b"
             ],
             [
              0.6666666666666666,
              "#ed7953"
             ],
             [
              0.7777777777777778,
              "#fb9f3a"
             ],
             [
              0.8888888888888888,
              "#fdca26"
             ],
             [
              1,
              "#f0f921"
             ]
            ],
            "type": "surface"
           }
          ],
          "table": [
           {
            "cells": {
             "fill": {
              "color": "#EBF0F8"
             },
             "line": {
              "color": "white"
             }
            },
            "header": {
             "fill": {
              "color": "#C8D4E3"
             },
             "line": {
              "color": "white"
             }
            },
            "type": "table"
           }
          ]
         },
         "layout": {
          "annotationdefaults": {
           "arrowcolor": "#2a3f5f",
           "arrowhead": 0,
           "arrowwidth": 1
          },
          "autotypenumbers": "strict",
          "coloraxis": {
           "colorbar": {
            "outlinewidth": 0,
            "ticks": ""
           }
          },
          "colorscale": {
           "diverging": [
            [
             0,
             "#8e0152"
            ],
            [
             0.1,
             "#c51b7d"
            ],
            [
             0.2,
             "#de77ae"
            ],
            [
             0.3,
             "#f1b6da"
            ],
            [
             0.4,
             "#fde0ef"
            ],
            [
             0.5,
             "#f7f7f7"
            ],
            [
             0.6,
             "#e6f5d0"
            ],
            [
             0.7,
             "#b8e186"
            ],
            [
             0.8,
             "#7fbc41"
            ],
            [
             0.9,
             "#4d9221"
            ],
            [
             1,
             "#276419"
            ]
           ],
           "sequential": [
            [
             0,
             "#0d0887"
            ],
            [
             0.1111111111111111,
             "#46039f"
            ],
            [
             0.2222222222222222,
             "#7201a8"
            ],
            [
             0.3333333333333333,
             "#9c179e"
            ],
            [
             0.4444444444444444,
             "#bd3786"
            ],
            [
             0.5555555555555556,
             "#d8576b"
            ],
            [
             0.6666666666666666,
             "#ed7953"
            ],
            [
             0.7777777777777778,
             "#fb9f3a"
            ],
            [
             0.8888888888888888,
             "#fdca26"
            ],
            [
             1,
             "#f0f921"
            ]
           ],
           "sequentialminus": [
            [
             0,
             "#0d0887"
            ],
            [
             0.1111111111111111,
             "#46039f"
            ],
            [
             0.2222222222222222,
             "#7201a8"
            ],
            [
             0.3333333333333333,
             "#9c179e"
            ],
            [
             0.4444444444444444,
             "#bd3786"
            ],
            [
             0.5555555555555556,
             "#d8576b"
            ],
            [
             0.6666666666666666,
             "#ed7953"
            ],
            [
             0.7777777777777778,
             "#fb9f3a"
            ],
            [
             0.8888888888888888,
             "#fdca26"
            ],
            [
             1,
             "#f0f921"
            ]
           ]
          },
          "colorway": [
           "#636efa",
           "#EF553B",
           "#00cc96",
           "#ab63fa",
           "#FFA15A",
           "#19d3f3",
           "#FF6692",
           "#B6E880",
           "#FF97FF",
           "#FECB52"
          ],
          "font": {
           "color": "#2a3f5f"
          },
          "geo": {
           "bgcolor": "white",
           "lakecolor": "white",
           "landcolor": "#E5ECF6",
           "showlakes": true,
           "showland": true,
           "subunitcolor": "white"
          },
          "hoverlabel": {
           "align": "left"
          },
          "hovermode": "closest",
          "mapbox": {
           "style": "light"
          },
          "paper_bgcolor": "white",
          "plot_bgcolor": "#E5ECF6",
          "polar": {
           "angularaxis": {
            "gridcolor": "white",
            "linecolor": "white",
            "ticks": ""
           },
           "bgcolor": "#E5ECF6",
           "radialaxis": {
            "gridcolor": "white",
            "linecolor": "white",
            "ticks": ""
           }
          },
          "scene": {
           "xaxis": {
            "backgroundcolor": "#E5ECF6",
            "gridcolor": "white",
            "gridwidth": 2,
            "linecolor": "white",
            "showbackground": true,
            "ticks": "",
            "zerolinecolor": "white"
           },
           "yaxis": {
            "backgroundcolor": "#E5ECF6",
            "gridcolor": "white",
            "gridwidth": 2,
            "linecolor": "white",
            "showbackground": true,
            "ticks": "",
            "zerolinecolor": "white"
           },
           "zaxis": {
            "backgroundcolor": "#E5ECF6",
            "gridcolor": "white",
            "gridwidth": 2,
            "linecolor": "white",
            "showbackground": true,
            "ticks": "",
            "zerolinecolor": "white"
           }
          },
          "shapedefaults": {
           "line": {
            "color": "#2a3f5f"
           }
          },
          "ternary": {
           "aaxis": {
            "gridcolor": "white",
            "linecolor": "white",
            "ticks": ""
           },
           "baxis": {
            "gridcolor": "white",
            "linecolor": "white",
            "ticks": ""
           },
           "bgcolor": "#E5ECF6",
           "caxis": {
            "gridcolor": "white",
            "linecolor": "white",
            "ticks": ""
           }
          },
          "title": {
           "x": 0.05
          },
          "xaxis": {
           "automargin": true,
           "gridcolor": "white",
           "linecolor": "white",
           "ticks": "",
           "title": {
            "standoff": 15
           },
           "zerolinecolor": "white",
           "zerolinewidth": 2
          },
          "yaxis": {
           "automargin": true,
           "gridcolor": "white",
           "linecolor": "white",
           "ticks": "",
           "title": {
            "standoff": 15
           },
           "zerolinecolor": "white",
           "zerolinewidth": 2
          }
         }
        },
        "title": {
         "text": "Distribution of Texture Mean by Diagnosis"
        },
        "xaxis": {
         "anchor": "y",
         "domain": [
          0,
          1
         ],
         "title": {
          "text": "texture_mean"
         }
        },
        "yaxis": {
         "anchor": "x",
         "domain": [
          0,
          1
         ],
         "title": {
          "text": "count"
         }
        }
       }
      }
     },
     "metadata": {},
     "output_type": "display_data"
    }
   ],
   "source": [
    "px.histogram(raw_df,\n",
    "             x='texture_mean',\n",
    "             color='diagnosis',\n",
    "             title='Distribution of Texture Mean by Diagnosis',\n",
    "             barmode='overlay',\n",
    "             color_discrete_sequence=['#636EFA', '#EF553B'],\n",
    "             nbins=50)"
   ]
  },
  {
   "cell_type": "code",
   "execution_count": 338,
   "id": "b7f4a6d6",
   "metadata": {},
   "outputs": [
    {
     "data": {
      "application/vnd.plotly.v1+json": {
       "config": {
        "plotlyServerURL": "https://plot.ly"
       },
       "data": [
        {
         "bingroup": "x",
         "hovertemplate": "diagnosis=M<br>perimeter_mean=%{x}<br>count=%{y}<extra></extra>",
         "legendgroup": "M",
         "marker": {
          "color": "#636EFA",
          "opacity": 0.5,
          "pattern": {
           "shape": ""
          }
         },
         "name": "M",
         "orientation": "v",
         "showlegend": true,
         "type": "histogram",
         "x": {
          "bdata": "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",
          "dtype": "f8"
         },
         "xaxis": "x",
         "yaxis": "y"
        },
        {
         "bingroup": "x",
         "hovertemplate": "diagnosis=B<br>perimeter_mean=%{x}<br>count=%{y}<extra></extra>",
         "legendgroup": "B",
         "marker": {
          "color": "#EF553B",
          "opacity": 0.5,
          "pattern": {
           "shape": ""
          }
         },
         "name": "B",
         "orientation": "v",
         "showlegend": true,
         "type": "histogram",
         "x": {
          "bdata": "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",
          "dtype": "f8"
         },
         "xaxis": "x",
         "yaxis": "y"
        }
       ],
       "layout": {
        "barmode": "overlay",
        "legend": {
         "title": {
          "text": "diagnosis"
         },
         "tracegroupgap": 0
        },
        "template": {
         "data": {
          "bar": [
           {
            "error_x": {
             "color": "#2a3f5f"
            },
            "error_y": {
             "color": "#2a3f5f"
            },
            "marker": {
             "line": {
              "color": "#E5ECF6",
              "width": 0.5
             },
             "pattern": {
              "fillmode": "overlay",
              "size": 10,
              "solidity": 0.2
             }
            },
            "type": "bar"
           }
          ],
          "barpolar": [
           {
            "marker": {
             "line": {
              "color": "#E5ECF6",
              "width": 0.5
             },
             "pattern": {
              "fillmode": "overlay",
              "size": 10,
              "solidity": 0.2
             }
            },
            "type": "barpolar"
           }
          ],
          "carpet": [
           {
            "aaxis": {
             "endlinecolor": "#2a3f5f",
             "gridcolor": "white",
             "linecolor": "white",
             "minorgridcolor": "white",
             "startlinecolor": "#2a3f5f"
            },
            "baxis": {
             "endlinecolor": "#2a3f5f",
             "gridcolor": "white",
             "linecolor": "white",
             "minorgridcolor": "white",
             "startlinecolor": "#2a3f5f"
            },
            "type": "carpet"
           }
          ],
          "choropleth": [
           {
            "colorbar": {
             "outlinewidth": 0,
             "ticks": ""
            },
            "type": "choropleth"
           }
          ],
          "contour": [
           {
            "colorbar": {
             "outlinewidth": 0,
             "ticks": ""
            },
            "colorscale": [
             [
              0,
              "#0d0887"
             ],
             [
              0.1111111111111111,
              "#46039f"
             ],
             [
              0.2222222222222222,
              "#7201a8"
             ],
             [
              0.3333333333333333,
              "#9c179e"
             ],
             [
              0.4444444444444444,
              "#bd3786"
             ],
             [
              0.5555555555555556,
              "#d8576b"
             ],
             [
              0.6666666666666666,
              "#ed7953"
             ],
             [
              0.7777777777777778,
              "#fb9f3a"
             ],
             [
              0.8888888888888888,
              "#fdca26"
             ],
             [
              1,
              "#f0f921"
             ]
            ],
            "type": "contour"
           }
          ],
          "contourcarpet": [
           {
            "colorbar": {
             "outlinewidth": 0,
             "ticks": ""
            },
            "type": "contourcarpet"
           }
          ],
          "heatmap": [
           {
            "colorbar": {
             "outlinewidth": 0,
             "ticks": ""
            },
            "colorscale": [
             [
              0,
              "#0d0887"
             ],
             [
              0.1111111111111111,
              "#46039f"
             ],
             [
              0.2222222222222222,
              "#7201a8"
             ],
             [
              0.3333333333333333,
              "#9c179e"
             ],
             [
              0.4444444444444444,
              "#bd3786"
             ],
             [
              0.5555555555555556,
              "#d8576b"
             ],
             [
              0.6666666666666666,
              "#ed7953"
             ],
             [
              0.7777777777777778,
              "#fb9f3a"
             ],
             [
              0.8888888888888888,
              "#fdca26"
             ],
             [
              1,
              "#f0f921"
             ]
            ],
            "type": "heatmap"
           }
          ],
          "histogram": [
           {
            "marker": {
             "pattern": {
              "fillmode": "overlay",
              "size": 10,
              "solidity": 0.2
             }
            },
            "type": "histogram"
           }
          ],
          "histogram2d": [
           {
            "colorbar": {
             "outlinewidth": 0,
             "ticks": ""
            },
            "colorscale": [
             [
              0,
              "#0d0887"
             ],
             [
              0.1111111111111111,
              "#46039f"
             ],
             [
              0.2222222222222222,
              "#7201a8"
             ],
             [
              0.3333333333333333,
              "#9c179e"
             ],
             [
              0.4444444444444444,
              "#bd3786"
             ],
             [
              0.5555555555555556,
              "#d8576b"
             ],
             [
              0.6666666666666666,
              "#ed7953"
             ],
             [
              0.7777777777777778,
              "#fb9f3a"
             ],
             [
              0.8888888888888888,
              "#fdca26"
             ],
             [
              1,
              "#f0f921"
             ]
            ],
            "type": "histogram2d"
           }
          ],
          "histogram2dcontour": [
           {
            "colorbar": {
             "outlinewidth": 0,
             "ticks": ""
            },
            "colorscale": [
             [
              0,
              "#0d0887"
             ],
             [
              0.1111111111111111,
              "#46039f"
             ],
             [
              0.2222222222222222,
              "#7201a8"
             ],
             [
              0.3333333333333333,
              "#9c179e"
             ],
             [
              0.4444444444444444,
              "#bd3786"
             ],
             [
              0.5555555555555556,
              "#d8576b"
             ],
             [
              0.6666666666666666,
              "#ed7953"
             ],
             [
              0.7777777777777778,
              "#fb9f3a"
             ],
             [
              0.8888888888888888,
              "#fdca26"
             ],
             [
              1,
              "#f0f921"
             ]
            ],
            "type": "histogram2dcontour"
           }
          ],
          "mesh3d": [
           {
            "colorbar": {
             "outlinewidth": 0,
             "ticks": ""
            },
            "type": "mesh3d"
           }
          ],
          "parcoords": [
           {
            "line": {
             "colorbar": {
              "outlinewidth": 0,
              "ticks": ""
             }
            },
            "type": "parcoords"
           }
          ],
          "pie": [
           {
            "automargin": true,
            "type": "pie"
           }
          ],
          "scatter": [
           {
            "fillpattern": {
             "fillmode": "overlay",
             "size": 10,
             "solidity": 0.2
            },
            "type": "scatter"
           }
          ],
          "scatter3d": [
           {
            "line": {
             "colorbar": {
              "outlinewidth": 0,
              "ticks": ""
             }
            },
            "marker": {
             "colorbar": {
              "outlinewidth": 0,
              "ticks": ""
             }
            },
            "type": "scatter3d"
           }
          ],
          "scattercarpet": [
           {
            "marker": {
             "colorbar": {
              "outlinewidth": 0,
              "ticks": ""
             }
            },
            "type": "scattercarpet"
           }
          ],
          "scattergeo": [
           {
            "marker": {
             "colorbar": {
              "outlinewidth": 0,
              "ticks": ""
             }
            },
            "type": "scattergeo"
           }
          ],
          "scattergl": [
           {
            "marker": {
             "colorbar": {
              "outlinewidth": 0,
              "ticks": ""
             }
            },
            "type": "scattergl"
           }
          ],
          "scattermap": [
           {
            "marker": {
             "colorbar": {
              "outlinewidth": 0,
              "ticks": ""
             }
            },
            "type": "scattermap"
           }
          ],
          "scattermapbox": [
           {
            "marker": {
             "colorbar": {
              "outlinewidth": 0,
              "ticks": ""
             }
            },
            "type": "scattermapbox"
           }
          ],
          "scatterpolar": [
           {
            "marker": {
             "colorbar": {
              "outlinewidth": 0,
              "ticks": ""
             }
            },
            "type": "scatterpolar"
           }
          ],
          "scatterpolargl": [
           {
            "marker": {
             "colorbar": {
              "outlinewidth": 0,
              "ticks": ""
             }
            },
            "type": "scatterpolargl"
           }
          ],
          "scatterternary": [
           {
            "marker": {
             "colorbar": {
              "outlinewidth": 0,
              "ticks": ""
             }
            },
            "type": "scatterternary"
           }
          ],
          "surface": [
           {
            "colorbar": {
             "outlinewidth": 0,
             "ticks": ""
            },
            "colorscale": [
             [
              0,
              "#0d0887"
             ],
             [
              0.1111111111111111,
              "#46039f"
             ],
             [
              0.2222222222222222,
              "#7201a8"
             ],
             [
              0.3333333333333333,
              "#9c179e"
             ],
             [
              0.4444444444444444,
              "#bd3786"
             ],
             [
              0.5555555555555556,
              "#d8576b"
             ],
             [
              0.6666666666666666,
              "#ed7953"
             ],
             [
              0.7777777777777778,
              "#fb9f3a"
             ],
             [
              0.8888888888888888,
              "#fdca26"
             ],
             [
              1,
              "#f0f921"
             ]
            ],
            "type": "surface"
           }
          ],
          "table": [
           {
            "cells": {
             "fill": {
              "color": "#EBF0F8"
             },
             "line": {
              "color": "white"
             }
            },
            "header": {
             "fill": {
              "color": "#C8D4E3"
             },
             "line": {
              "color": "white"
             }
            },
            "type": "table"
           }
          ]
         },
         "layout": {
          "annotationdefaults": {
           "arrowcolor": "#2a3f5f",
           "arrowhead": 0,
           "arrowwidth": 1
          },
          "autotypenumbers": "strict",
          "coloraxis": {
           "colorbar": {
            "outlinewidth": 0,
            "ticks": ""
           }
          },
          "colorscale": {
           "diverging": [
            [
             0,
             "#8e0152"
            ],
            [
             0.1,
             "#c51b7d"
            ],
            [
             0.2,
             "#de77ae"
            ],
            [
             0.3,
             "#f1b6da"
            ],
            [
             0.4,
             "#fde0ef"
            ],
            [
             0.5,
             "#f7f7f7"
            ],
            [
             0.6,
             "#e6f5d0"
            ],
            [
             0.7,
             "#b8e186"
            ],
            [
             0.8,
             "#7fbc41"
            ],
            [
             0.9,
             "#4d9221"
            ],
            [
             1,
             "#276419"
            ]
           ],
           "sequential": [
            [
             0,
             "#0d0887"
            ],
            [
             0.1111111111111111,
             "#46039f"
            ],
            [
             0.2222222222222222,
             "#7201a8"
            ],
            [
             0.3333333333333333,
             "#9c179e"
            ],
            [
             0.4444444444444444,
             "#bd3786"
            ],
            [
             0.5555555555555556,
             "#d8576b"
            ],
            [
             0.6666666666666666,
             "#ed7953"
            ],
            [
             0.7777777777777778,
             "#fb9f3a"
            ],
            [
             0.8888888888888888,
             "#fdca26"
            ],
            [
             1,
             "#f0f921"
            ]
           ],
           "sequentialminus": [
            [
             0,
             "#0d0887"
            ],
            [
             0.1111111111111111,
             "#46039f"
            ],
            [
             0.2222222222222222,
             "#7201a8"
            ],
            [
             0.3333333333333333,
             "#9c179e"
            ],
            [
             0.4444444444444444,
             "#bd3786"
            ],
            [
             0.5555555555555556,
             "#d8576b"
            ],
            [
             0.6666666666666666,
             "#ed7953"
            ],
            [
             0.7777777777777778,
             "#fb9f3a"
            ],
            [
             0.8888888888888888,
             "#fdca26"
            ],
            [
             1,
             "#f0f921"
            ]
           ]
          },
          "colorway": [
           "#636efa",
           "#EF553B",
           "#00cc96",
           "#ab63fa",
           "#FFA15A",
           "#19d3f3",
           "#FF6692",
           "#B6E880",
           "#FF97FF",
           "#FECB52"
          ],
          "font": {
           "color": "#2a3f5f"
          },
          "geo": {
           "bgcolor": "white",
           "lakecolor": "white",
           "landcolor": "#E5ECF6",
           "showlakes": true,
           "showland": true,
           "subunitcolor": "white"
          },
          "hoverlabel": {
           "align": "left"
          },
          "hovermode": "closest",
          "mapbox": {
           "style": "light"
          },
          "paper_bgcolor": "white",
          "plot_bgcolor": "#E5ECF6",
          "polar": {
           "angularaxis": {
            "gridcolor": "white",
            "linecolor": "white",
            "ticks": ""
           },
           "bgcolor": "#E5ECF6",
           "radialaxis": {
            "gridcolor": "white",
            "linecolor": "white",
            "ticks": ""
           }
          },
          "scene": {
           "xaxis": {
            "backgroundcolor": "#E5ECF6",
            "gridcolor": "white",
            "gridwidth": 2,
            "linecolor": "white",
            "showbackground": true,
            "ticks": "",
            "zerolinecolor": "white"
           },
           "yaxis": {
            "backgroundcolor": "#E5ECF6",
            "gridcolor": "white",
            "gridwidth": 2,
            "linecolor": "white",
            "showbackground": true,
            "ticks": "",
            "zerolinecolor": "white"
           },
           "zaxis": {
            "backgroundcolor": "#E5ECF6",
            "gridcolor": "white",
            "gridwidth": 2,
            "linecolor": "white",
            "showbackground": true,
            "ticks": "",
            "zerolinecolor": "white"
           }
          },
          "shapedefaults": {
           "line": {
            "color": "#2a3f5f"
           }
          },
          "ternary": {
           "aaxis": {
            "gridcolor": "white",
            "linecolor": "white",
            "ticks": ""
           },
           "baxis": {
            "gridcolor": "white",
            "linecolor": "white",
            "ticks": ""
           },
           "bgcolor": "#E5ECF6",
           "caxis": {
            "gridcolor": "white",
            "linecolor": "white",
            "ticks": ""
           }
          },
          "title": {
           "x": 0.05
          },
          "xaxis": {
           "automargin": true,
           "gridcolor": "white",
           "linecolor": "white",
           "ticks": "",
           "title": {
            "standoff": 15
           },
           "zerolinecolor": "white",
           "zerolinewidth": 2
          },
          "yaxis": {
           "automargin": true,
           "gridcolor": "white",
           "linecolor": "white",
           "ticks": "",
           "title": {
            "standoff": 15
           },
           "zerolinecolor": "white",
           "zerolinewidth": 2
          }
         }
        },
        "title": {
         "text": "Distribution of Perimeter Mean by Diagnosis"
        },
        "xaxis": {
         "anchor": "y",
         "domain": [
          0,
          1
         ],
         "title": {
          "text": "perimeter_mean"
         }
        },
        "yaxis": {
         "anchor": "x",
         "domain": [
          0,
          1
         ],
         "title": {
          "text": "count"
         }
        }
       }
      }
     },
     "metadata": {},
     "output_type": "display_data"
    }
   ],
   "source": [
    "px.histogram(raw_df,\n",
    "             x='perimeter_mean',\n",
    "             color = 'diagnosis',\n",
    "             title='Distribution of Perimeter Mean by Diagnosis',\n",
    "             barmode='overlay',\n",
    "             color_discrete_sequence=['#636EFA', '#EF553B'],)"
   ]
  },
  {
   "cell_type": "code",
   "execution_count": 339,
   "id": "a31e1967",
   "metadata": {},
   "outputs": [
    {
     "data": {
      "application/vnd.plotly.v1+json": {
       "config": {
        "plotlyServerURL": "https://plot.ly"
       },
       "data": [
        {
         "hovertemplate": "diagnosis=M<br>radius_mean=%{x}<br>texture_mean=%{y}<extra></extra>",
         "legendgroup": "M",
         "marker": {
          "color": "#636EFA",
          "opacity": 0.7,
          "symbol": "circle"
         },
         "mode": "markers",
         "name": "M",
         "orientation": "v",
         "showlegend": true,
         "type": "scatter",
         "x": {
          "bdata": "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",
          "dtype": "f8"
         },
         "xaxis": "x",
         "y": {
          "bdata": "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",
          "dtype": "f8"
         },
         "yaxis": "y"
        },
        {
         "hovertemplate": "diagnosis=B<br>radius_mean=%{x}<br>texture_mean=%{y}<extra></extra>",
         "legendgroup": "B",
         "marker": {
          "color": "#EF553B",
          "opacity": 0.7,
          "symbol": "circle"
         },
         "mode": "markers",
         "name": "B",
         "orientation": "v",
         "showlegend": true,
         "type": "scatter",
         "x": {
          "bdata": "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",
          "dtype": "f8"
         },
         "xaxis": "x",
         "y": {
          "bdata": "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",
          "dtype": "f8"
         },
         "yaxis": "y"
        }
       ],
       "layout": {
        "legend": {
         "title": {
          "text": "diagnosis"
         },
         "tracegroupgap": 0
        },
        "template": {
         "data": {
          "bar": [
           {
            "error_x": {
             "color": "#2a3f5f"
            },
            "error_y": {
             "color": "#2a3f5f"
            },
            "marker": {
             "line": {
              "color": "#E5ECF6",
              "width": 0.5
             },
             "pattern": {
              "fillmode": "overlay",
              "size": 10,
              "solidity": 0.2
             }
            },
            "type": "bar"
           }
          ],
          "barpolar": [
           {
            "marker": {
             "line": {
              "color": "#E5ECF6",
              "width": 0.5
             },
             "pattern": {
              "fillmode": "overlay",
              "size": 10,
              "solidity": 0.2
             }
            },
            "type": "barpolar"
           }
          ],
          "carpet": [
           {
            "aaxis": {
             "endlinecolor": "#2a3f5f",
             "gridcolor": "white",
             "linecolor": "white",
             "minorgridcolor": "white",
             "startlinecolor": "#2a3f5f"
            },
            "baxis": {
             "endlinecolor": "#2a3f5f",
             "gridcolor": "white",
             "linecolor": "white",
             "minorgridcolor": "white",
             "startlinecolor": "#2a3f5f"
            },
            "type": "carpet"
           }
          ],
          "choropleth": [
           {
            "colorbar": {
             "outlinewidth": 0,
             "ticks": ""
            },
            "type": "choropleth"
           }
          ],
          "contour": [
           {
            "colorbar": {
             "outlinewidth": 0,
             "ticks": ""
            },
            "colorscale": [
             [
              0,
              "#0d0887"
             ],
             [
              0.1111111111111111,
              "#46039f"
             ],
             [
              0.2222222222222222,
              "#7201a8"
             ],
             [
              0.3333333333333333,
              "#9c179e"
             ],
             [
              0.4444444444444444,
              "#bd3786"
             ],
             [
              0.5555555555555556,
              "#d8576b"
             ],
             [
              0.6666666666666666,
              "#ed7953"
             ],
             [
              0.7777777777777778,
              "#fb9f3a"
             ],
             [
              0.8888888888888888,
              "#fdca26"
             ],
             [
              1,
              "#f0f921"
             ]
            ],
            "type": "contour"
           }
          ],
          "contourcarpet": [
           {
            "colorbar": {
             "outlinewidth": 0,
             "ticks": ""
            },
            "type": "contourcarpet"
           }
          ],
          "heatmap": [
           {
            "colorbar": {
             "outlinewidth": 0,
             "ticks": ""
            },
            "colorscale": [
             [
              0,
              "#0d0887"
             ],
             [
              0.1111111111111111,
              "#46039f"
             ],
             [
              0.2222222222222222,
              "#7201a8"
             ],
             [
              0.3333333333333333,
              "#9c179e"
             ],
             [
              0.4444444444444444,
              "#bd3786"
             ],
             [
              0.5555555555555556,
              "#d8576b"
             ],
             [
              0.6666666666666666,
              "#ed7953"
             ],
             [
              0.7777777777777778,
              "#fb9f3a"
             ],
             [
              0.8888888888888888,
              "#fdca26"
             ],
             [
              1,
              "#f0f921"
             ]
            ],
            "type": "heatmap"
           }
          ],
          "histogram": [
           {
            "marker": {
             "pattern": {
              "fillmode": "overlay",
              "size": 10,
              "solidity": 0.2
             }
            },
            "type": "histogram"
           }
          ],
          "histogram2d": [
           {
            "colorbar": {
             "outlinewidth": 0,
             "ticks": ""
            },
            "colorscale": [
             [
              0,
              "#0d0887"
             ],
             [
              0.1111111111111111,
              "#46039f"
             ],
             [
              0.2222222222222222,
              "#7201a8"
             ],
             [
              0.3333333333333333,
              "#9c179e"
             ],
             [
              0.4444444444444444,
              "#bd3786"
             ],
             [
              0.5555555555555556,
              "#d8576b"
             ],
             [
              0.6666666666666666,
              "#ed7953"
             ],
             [
              0.7777777777777778,
              "#fb9f3a"
             ],
             [
              0.8888888888888888,
              "#fdca26"
             ],
             [
              1,
              "#f0f921"
             ]
            ],
            "type": "histogram2d"
           }
          ],
          "histogram2dcontour": [
           {
            "colorbar": {
             "outlinewidth": 0,
             "ticks": ""
            },
            "colorscale": [
             [
              0,
              "#0d0887"
             ],
             [
              0.1111111111111111,
              "#46039f"
             ],
             [
              0.2222222222222222,
              "#7201a8"
             ],
             [
              0.3333333333333333,
              "#9c179e"
             ],
             [
              0.4444444444444444,
              "#bd3786"
             ],
             [
              0.5555555555555556,
              "#d8576b"
             ],
             [
              0.6666666666666666,
              "#ed7953"
             ],
             [
              0.7777777777777778,
              "#fb9f3a"
             ],
             [
              0.8888888888888888,
              "#fdca26"
             ],
             [
              1,
              "#f0f921"
             ]
            ],
            "type": "histogram2dcontour"
           }
          ],
          "mesh3d": [
           {
            "colorbar": {
             "outlinewidth": 0,
             "ticks": ""
            },
            "type": "mesh3d"
           }
          ],
          "parcoords": [
           {
            "line": {
             "colorbar": {
              "outlinewidth": 0,
              "ticks": ""
             }
            },
            "type": "parcoords"
           }
          ],
          "pie": [
           {
            "automargin": true,
            "type": "pie"
           }
          ],
          "scatter": [
           {
            "fillpattern": {
             "fillmode": "overlay",
             "size": 10,
             "solidity": 0.2
            },
            "type": "scatter"
           }
          ],
          "scatter3d": [
           {
            "line": {
             "colorbar": {
              "outlinewidth": 0,
              "ticks": ""
             }
            },
            "marker": {
             "colorbar": {
              "outlinewidth": 0,
              "ticks": ""
             }
            },
            "type": "scatter3d"
           }
          ],
          "scattercarpet": [
           {
            "marker": {
             "colorbar": {
              "outlinewidth": 0,
              "ticks": ""
             }
            },
            "type": "scattercarpet"
           }
          ],
          "scattergeo": [
           {
            "marker": {
             "colorbar": {
              "outlinewidth": 0,
              "ticks": ""
             }
            },
            "type": "scattergeo"
           }
          ],
          "scattergl": [
           {
            "marker": {
             "colorbar": {
              "outlinewidth": 0,
              "ticks": ""
             }
            },
            "type": "scattergl"
           }
          ],
          "scattermap": [
           {
            "marker": {
             "colorbar": {
              "outlinewidth": 0,
              "ticks": ""
             }
            },
            "type": "scattermap"
           }
          ],
          "scattermapbox": [
           {
            "marker": {
             "colorbar": {
              "outlinewidth": 0,
              "ticks": ""
             }
            },
            "type": "scattermapbox"
           }
          ],
          "scatterpolar": [
           {
            "marker": {
             "colorbar": {
              "outlinewidth": 0,
              "ticks": ""
             }
            },
            "type": "scatterpolar"
           }
          ],
          "scatterpolargl": [
           {
            "marker": {
             "colorbar": {
              "outlinewidth": 0,
              "ticks": ""
             }
            },
            "type": "scatterpolargl"
           }
          ],
          "scatterternary": [
           {
            "marker": {
             "colorbar": {
              "outlinewidth": 0,
              "ticks": ""
             }
            },
            "type": "scatterternary"
           }
          ],
          "surface": [
           {
            "colorbar": {
             "outlinewidth": 0,
             "ticks": ""
            },
            "colorscale": [
             [
              0,
              "#0d0887"
             ],
             [
              0.1111111111111111,
              "#46039f"
             ],
             [
              0.2222222222222222,
              "#7201a8"
             ],
             [
              0.3333333333333333,
              "#9c179e"
             ],
             [
              0.4444444444444444,
              "#bd3786"
             ],
             [
              0.5555555555555556,
              "#d8576b"
             ],
             [
              0.6666666666666666,
              "#ed7953"
             ],
             [
              0.7777777777777778,
              "#fb9f3a"
             ],
             [
              0.8888888888888888,
              "#fdca26"
             ],
             [
              1,
              "#f0f921"
             ]
            ],
            "type": "surface"
           }
          ],
          "table": [
           {
            "cells": {
             "fill": {
              "color": "#EBF0F8"
             },
             "line": {
              "color": "white"
             }
            },
            "header": {
             "fill": {
              "color": "#C8D4E3"
             },
             "line": {
              "color": "white"
             }
            },
            "type": "table"
           }
          ]
         },
         "layout": {
          "annotationdefaults": {
           "arrowcolor": "#2a3f5f",
           "arrowhead": 0,
           "arrowwidth": 1
          },
          "autotypenumbers": "strict",
          "coloraxis": {
           "colorbar": {
            "outlinewidth": 0,
            "ticks": ""
           }
          },
          "colorscale": {
           "diverging": [
            [
             0,
             "#8e0152"
            ],
            [
             0.1,
             "#c51b7d"
            ],
            [
             0.2,
             "#de77ae"
            ],
            [
             0.3,
             "#f1b6da"
            ],
            [
             0.4,
             "#fde0ef"
            ],
            [
             0.5,
             "#f7f7f7"
            ],
            [
             0.6,
             "#e6f5d0"
            ],
            [
             0.7,
             "#b8e186"
            ],
            [
             0.8,
             "#7fbc41"
            ],
            [
             0.9,
             "#4d9221"
            ],
            [
             1,
             "#276419"
            ]
           ],
           "sequential": [
            [
             0,
             "#0d0887"
            ],
            [
             0.1111111111111111,
             "#46039f"
            ],
            [
             0.2222222222222222,
             "#7201a8"
            ],
            [
             0.3333333333333333,
             "#9c179e"
            ],
            [
             0.4444444444444444,
             "#bd3786"
            ],
            [
             0.5555555555555556,
             "#d8576b"
            ],
            [
             0.6666666666666666,
             "#ed7953"
            ],
            [
             0.7777777777777778,
             "#fb9f3a"
            ],
            [
             0.8888888888888888,
             "#fdca26"
            ],
            [
             1,
             "#f0f921"
            ]
           ],
           "sequentialminus": [
            [
             0,
             "#0d0887"
            ],
            [
             0.1111111111111111,
             "#46039f"
            ],
            [
             0.2222222222222222,
             "#7201a8"
            ],
            [
             0.3333333333333333,
             "#9c179e"
            ],
            [
             0.4444444444444444,
             "#bd3786"
            ],
            [
             0.5555555555555556,
             "#d8576b"
            ],
            [
             0.6666666666666666,
             "#ed7953"
            ],
            [
             0.7777777777777778,
             "#fb9f3a"
            ],
            [
             0.8888888888888888,
             "#fdca26"
            ],
            [
             1,
             "#f0f921"
            ]
           ]
          },
          "colorway": [
           "#636efa",
           "#EF553B",
           "#00cc96",
           "#ab63fa",
           "#FFA15A",
           "#19d3f3",
           "#FF6692",
           "#B6E880",
           "#FF97FF",
           "#FECB52"
          ],
          "font": {
           "color": "#2a3f5f"
          },
          "geo": {
           "bgcolor": "white",
           "lakecolor": "white",
           "landcolor": "#E5ECF6",
           "showlakes": true,
           "showland": true,
           "subunitcolor": "white"
          },
          "hoverlabel": {
           "align": "left"
          },
          "hovermode": "closest",
          "mapbox": {
           "style": "light"
          },
          "paper_bgcolor": "white",
          "plot_bgcolor": "#E5ECF6",
          "polar": {
           "angularaxis": {
            "gridcolor": "white",
            "linecolor": "white",
            "ticks": ""
           },
           "bgcolor": "#E5ECF6",
           "radialaxis": {
            "gridcolor": "white",
            "linecolor": "white",
            "ticks": ""
           }
          },
          "scene": {
           "xaxis": {
            "backgroundcolor": "#E5ECF6",
            "gridcolor": "white",
            "gridwidth": 2,
            "linecolor": "white",
            "showbackground": true,
            "ticks": "",
            "zerolinecolor": "white"
           },
           "yaxis": {
            "backgroundcolor": "#E5ECF6",
            "gridcolor": "white",
            "gridwidth": 2,
            "linecolor": "white",
            "showbackground": true,
            "ticks": "",
            "zerolinecolor": "white"
           },
           "zaxis": {
            "backgroundcolor": "#E5ECF6",
            "gridcolor": "white",
            "gridwidth": 2,
            "linecolor": "white",
            "showbackground": true,
            "ticks": "",
            "zerolinecolor": "white"
           }
          },
          "shapedefaults": {
           "line": {
            "color": "#2a3f5f"
           }
          },
          "ternary": {
           "aaxis": {
            "gridcolor": "white",
            "linecolor": "white",
            "ticks": ""
           },
           "baxis": {
            "gridcolor": "white",
            "linecolor": "white",
            "ticks": ""
           },
           "bgcolor": "#E5ECF6",
           "caxis": {
            "gridcolor": "white",
            "linecolor": "white",
            "ticks": ""
           }
          },
          "title": {
           "x": 0.05
          },
          "xaxis": {
           "automargin": true,
           "gridcolor": "white",
           "linecolor": "white",
           "ticks": "",
           "title": {
            "standoff": 15
           },
           "zerolinecolor": "white",
           "zerolinewidth": 2
          },
          "yaxis": {
           "automargin": true,
           "gridcolor": "white",
           "linecolor": "white",
           "ticks": "",
           "title": {
            "standoff": 15
           },
           "zerolinecolor": "white",
           "zerolinewidth": 2
          }
         }
        },
        "title": {
         "text": "Radius Mean vs Texture Mean"
        },
        "xaxis": {
         "anchor": "y",
         "domain": [
          0,
          1
         ],
         "title": {
          "text": "radius_mean"
         }
        },
        "yaxis": {
         "anchor": "x",
         "domain": [
          0,
          1
         ],
         "title": {
          "text": "texture_mean"
         }
        }
       }
      }
     },
     "metadata": {},
     "output_type": "display_data"
    }
   ],
   "source": [
    "px.scatter(raw_df,\n",
    "           x='radius_mean',\n",
    "           y='texture_mean',\n",
    "           color='diagnosis',\n",
    "           title='Radius Mean vs Texture Mean',\n",
    "           color_discrete_sequence=['#636EFA', '#EF553B'],\n",
    "           opacity=0.7)"
   ]
  },
  {
   "cell_type": "code",
   "execution_count": 340,
   "id": "1990571b",
   "metadata": {},
   "outputs": [
    {
     "data": {
      "application/vnd.plotly.v1+json": {
       "config": {
        "plotlyServerURL": "https://plot.ly"
       },
       "data": [
        {
         "hovertemplate": "diagnosis=M<br>perimeter_mean=%{x}<br>area_mean=%{y}<extra></extra>",
         "legendgroup": "M",
         "marker": {
          "color": "#636efa",
          "symbol": "circle"
         },
         "mode": "markers",
         "name": "M",
         "orientation": "v",
         "showlegend": true,
         "type": "scatter",
         "x": {
          "bdata": "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",
          "dtype": "f8"
         },
         "xaxis": "x",
         "y": {
          "bdata": "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",
          "dtype": "f8"
         },
         "yaxis": "y"
        },
        {
         "hovertemplate": "diagnosis=B<br>perimeter_mean=%{x}<br>area_mean=%{y}<extra></extra>",
         "legendgroup": "B",
         "marker": {
          "color": "#EF553B",
          "symbol": "circle"
         },
         "mode": "markers",
         "name": "B",
         "orientation": "v",
         "showlegend": true,
         "type": "scatter",
         "x": {
          "bdata": "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",
          "dtype": "f8"
         },
         "xaxis": "x",
         "y": {
          "bdata": "ZmZmZmaygUAAAAAAAECAQGZmZmZmHnFAZmZmZmZegEDNzMzMzDxpQM3MzMzMFHxAAAAAAACIgUBmZmZmZr56QGZmZmZm3oFAmpmZmZlZe0AAAAAAAJB5QJqZmZmZeYBAAAAAAAAQbEBmZmZmZn5zQJqZmZmZuWtAZmZmZmZOcEBmZmZmZtZwQJqZmZmZoXhAAAAAAABQb0AAAAAAAGh/QAAAAAAAgG5AZmZmZmZufUCamZmZmXmBQM3MzMzMpH9AAAAAAAAYeUAAAAAAAECAQM3MzMzMtHtAmpmZmZkhfUAzMzMzM1+EQJqZmZmZtYRAmpmZmZk9gUDNzMzMzFiBQJqZmZmZMXxAAAAAAABockCamZmZmcl5QAAAAAAA8GFAMzMzMzOrfEDNzMzMzKRyQJqZmZmZAXVAAAAAAADIeUAzMzMzMyt9QAAAAAAAyHhAMzMzMzMjckBmZmZmZgZ+QDMzMzMzr4NAMzMzMzPjdEDNzMzMzNxsQJqZmZmZaXtAZmZmZmambkDNzMzMzDR5QJqZmZmZBYRAAAAAAABMgUCamZmZmWWCQAAAAAAAFIVAzczMzMx8fECamZmZmc2HQJqZmZmZeXpAzczMzMz8eEDNzMzMzAx4QAAAAAAACHJAAAAAAADgeECamZmZmQGAQM3MzMzMNHZAzczMzMwMe0AAAAAAAIyFQM3MzMzMAIRAAAAAAABIgkAzMzMzMzuAQM3MzMzMfGlAMzMzMzPDckBmZmZmZt53QDMzMzMz14BAzczMzMzEfECamZmZmYGLQJqZmZmZCXxAzczMzMzsdkDNzMzMzDx6QAAAAAAACH1AmpmZmZmRhUCamZmZmVl2QDMzMzMzb4VAmpmZmZkBfUAzMzMzM0t3QJqZmZmZ2XVAZmZmZmZmbEBmZmZmZuZyQDMzMzMzc4BAzczMzMzMf0AAAAAAACB5QAAAAAAA2HNAzczMzMxEekBmZmZmZs56QDMzMzMz+3xAZmZmZma2f0CamZmZmQFyQDMzMzMzI4BAAAAAAADQfEBmZmZmZh5+QGZmZmZmdnJAMzMzMzOLgEAAAAAAAKyGQAAAAAAAwHpAMzMzMzMDe0AzMzMzMxN0QDMzMzMzx4FAZmZmZmaKgUCamZmZmZFzQDMzMzMzE4FAmpmZmZkJhECamZmZmZl0QAAAAAAAZIVAZmZmZmYGf0AzMzMzM7t4QM3MzMzMLHhAmpmZmZl5cUAzMzMzM9uCQDMzMzMzf4NAZmZmZmb6gUAAAAAAAMh9QGZmZmZmVnhAAAAAAABwgkAzMzMzMxt1QM3MzMzM7IBAmpmZmZkBgEAAAAAAALB1QM3MzMzMZHlAZmZmZmZ2eUBmZmZmZqZ1QAAAAAAAiIFAmpmZmZkBgEBmZmZmZo51QM3MzMzMxINAAAAAAABAeEBmZmZmZh5yQJqZmZmZOXtAmpmZmZnJeEBmZmZmZuKBQDMzMzMzW4JAzczMzMy0ekDNzMzMzCSAQAAAAAAAkH5AAAAAAACQe0AzMzMzMx+AQJqZmZmZoXhAAAAAAADAeEAAAAAAAFiEQGZmZmZmeoVAmpmZmZkNgEAzMzMzMwt7QJqZmZmZwX5AmpmZmZk1gkAzMzMzM7t2QM3MzMzMyINAMzMzMzPjdEDNzMzMzHR9QM3MzMzM5HRAmpmZmZkxeUAzMzMzMxN6QGZmZmZmyoBAmpmZmZnJbkCamZmZmbGBQM3MzMzMlIBAMzMzMzMrekAzMzMzM8eEQJqZmZmZgX9AmpmZmZmReUBmZmZmZqZrQJqZmZmZGX5AZmZmZmbWfEAAAAAAAJBuQM3MzMzM1H1AMzMzMzNDdEDNzMzMzIx/QGZmZmZmnnxAZmZmZmaefkAAAAAAAESDQAAAAAAA4HtAAAAAAAAQgEDNzMzMzDR4QAAAAAAAYHhAZmZmZmYGfUBmZmZmZhKAQM3MzMzMbHNAmpmZmZkJhEAAAAAAAIhxQGZmZmZmXndAzczMzMxEekCamZmZmRl0QM3MzMzM1HtAmpmZmZnlhEAzMzMzMyt5QDMzMzMzq3pAAAAAAABQekCamZmZmQl4QM3MzMzMXH5AAAAAAAAAgECamZmZmY2CQAAAAAAAIG5AmpmZmZlpcUBmZmZmZr5+QM3MzMzMEIFAmpmZmZkJf0DNzMzMzDCKQDMzMzMzQ4FAZmZmZmamfEBmZmZmZj6GQM3MzMzMGIJAAAAAAACkiEDNzMzMzCR1QM3MzMzMkIFAzczMzMwkgkDNzMzMzCR4QDMzMzMzS3dAzczMzMz8e0BmZmZmZu58QGZmZmZm7oBAAAAAAADgfEDNzMzMzKSCQAAAAAAAgHhAmpmZmZkZdECamZmZmUltQDMzMzMz43tAzczMzMwIg0DNzMzMzHCBQM3MzMzMxH9AMzMzMzOjd0BmZmZmZv56QDMzMzMzq3tAmpmZmZlpgECamZmZmbl/QJqZmZmZUX1AAAAAAAAgd0AAAAAAAACJQAAAAAAAFIBAmpmZmZkhfUDNzMzMzPx4QDMzMzMzU3dAzczMzMzMcECamZmZma2FQM3MzMzMHHtAMzMzMzPzcEAAAAAAAPB+QM3MzMzMxHdAMzMzMzObeUDNzMzMzICEQDMzMzMzg3lAZmZmZmb6gUAzMzMzMxtyQM3MzMzMNHNAmpmZmZnZdEBmZmZmZn52QJqZmZmZ0XdAzczMzMxUf0DNzMzMzDx9QJqZmZmZDYVAMzMzMzPTf0CamZmZmRmDQM3MzMzMhIJAAAAAAAD0gkAAAAAAADh3QDMzMzMzT4JAZmZmZmZOdUDNzMzMzJR7QGZmZmZmFoVAmpmZmZmdhEAAAAAAAAB7QAAAAAAAqHtAmpmZmZkhhEBmZmZmZs5+QJqZmZmZaYFAmpmZmZnxeUAzMzMzM8+AQJqZmZmZQYBAZmZmZmYuckDNzMzMzDCEQDMzMzMzy3lAZmZmZmbKgEAzMzMzM/eAQDMzMzMzx4BAzczMzMzkcUDNzMzMzIx5QJqZmZmZEXJAZmZmZmYefEAzMzMzM3eFQGZmZmZmFn1AZmZmZmZudkBmZmZmZq5/QDMzMzMzU4NAMzMzMzO7gkBmZmZmZk55QM3MzMzMdHxAMzMzMzPXgkBmZmZmZhKBQM3MzMzM2IFAmpmZmZlZh0AzMzMzM8t9QAAAAAAA0IRAAAAAAABIekAAAAAAACh9QM3MzMzMAI9AzczMzMzUfUCamZmZmdWAQDMzMzMzR4VAmpmZmZlZfkCamZmZmQF+QDMzMzMzi4VAzczMzMzEfUBmZmZmZhZvQAAAAAAACHFAmpmZmZlRfEAAAAAAAOh2QGZmZmZmnolAAAAAAACgekCamZmZmUWFQGZmZmZmloRAMzMzMzNzeECamZmZmdF+QM3MzMzM3H5AzczMzMwccECamZmZmUF4QAAAAAAA2IFAMzMzMzNTckCamZmZmalrQM3MzMzMOIFAAAAAAABIfUCamZmZmZGCQDMzMzMz03tAZmZmZmZuekAzMzMzMwN6QAAAAAAA/IFAmpmZmZnZdkBmZmZmZmZ5QJqZmZmZWWZAzczMzMxMZUBmZmZmZi55QDMzMzMzg4RAzczMzMzkhEAzMzMzM9OAQGZmZmZmRoJAmpmZmZnpgUBmZmZmZk50QM3MzMzMDHRAMzMzMzPbcUCamZmZmZl2QAAAAAAAiHZAZmZmZmamd0BmZmZmZr5/QAAAAAAAgHBAZmZmZmYSgEBmZmZmZhZ0QDMzMzMze3NAzczMzMz0cEDNzMzMzIiEQAAAAAAAOHlAMzMzMzPDgkAAAAAAACB4QAAAAAAAoGZA",
          "dtype": "f8"
         },
         "yaxis": "y"
        }
       ],
       "layout": {
        "legend": {
         "title": {
          "text": "diagnosis"
         },
         "tracegroupgap": 0
        },
        "template": {
         "data": {
          "bar": [
           {
            "error_x": {
             "color": "#2a3f5f"
            },
            "error_y": {
             "color": "#2a3f5f"
            },
            "marker": {
             "line": {
              "color": "#E5ECF6",
              "width": 0.5
             },
             "pattern": {
              "fillmode": "overlay",
              "size": 10,
              "solidity": 0.2
             }
            },
            "type": "bar"
           }
          ],
          "barpolar": [
           {
            "marker": {
             "line": {
              "color": "#E5ECF6",
              "width": 0.5
             },
             "pattern": {
              "fillmode": "overlay",
              "size": 10,
              "solidity": 0.2
             }
            },
            "type": "barpolar"
           }
          ],
          "carpet": [
           {
            "aaxis": {
             "endlinecolor": "#2a3f5f",
             "gridcolor": "white",
             "linecolor": "white",
             "minorgridcolor": "white",
             "startlinecolor": "#2a3f5f"
            },
            "baxis": {
             "endlinecolor": "#2a3f5f",
             "gridcolor": "white",
             "linecolor": "white",
             "minorgridcolor": "white",
             "startlinecolor": "#2a3f5f"
            },
            "type": "carpet"
           }
          ],
          "choropleth": [
           {
            "colorbar": {
             "outlinewidth": 0,
             "ticks": ""
            },
            "type": "choropleth"
           }
          ],
          "contour": [
           {
            "colorbar": {
             "outlinewidth": 0,
             "ticks": ""
            },
            "colorscale": [
             [
              0,
              "#0d0887"
             ],
             [
              0.1111111111111111,
              "#46039f"
             ],
             [
              0.2222222222222222,
              "#7201a8"
             ],
             [
              0.3333333333333333,
              "#9c179e"
             ],
             [
              0.4444444444444444,
              "#bd3786"
             ],
             [
              0.5555555555555556,
              "#d8576b"
             ],
             [
              0.6666666666666666,
              "#ed7953"
             ],
             [
              0.7777777777777778,
              "#fb9f3a"
             ],
             [
              0.8888888888888888,
              "#fdca26"
             ],
             [
              1,
              "#f0f921"
             ]
            ],
            "type": "contour"
           }
          ],
          "contourcarpet": [
           {
            "colorbar": {
             "outlinewidth": 0,
             "ticks": ""
            },
            "type": "contourcarpet"
           }
          ],
          "heatmap": [
           {
            "colorbar": {
             "outlinewidth": 0,
             "ticks": ""
            },
            "colorscale": [
             [
              0,
              "#0d0887"
             ],
             [
              0.1111111111111111,
              "#46039f"
             ],
             [
              0.2222222222222222,
              "#7201a8"
             ],
             [
              0.3333333333333333,
              "#9c179e"
             ],
             [
              0.4444444444444444,
              "#bd3786"
             ],
             [
              0.5555555555555556,
              "#d8576b"
             ],
             [
              0.6666666666666666,
              "#ed7953"
             ],
             [
              0.7777777777777778,
              "#fb9f3a"
             ],
             [
              0.8888888888888888,
              "#fdca26"
             ],
             [
              1,
              "#f0f921"
             ]
            ],
            "type": "heatmap"
           }
          ],
          "histogram": [
           {
            "marker": {
             "pattern": {
              "fillmode": "overlay",
              "size": 10,
              "solidity": 0.2
             }
            },
            "type": "histogram"
           }
          ],
          "histogram2d": [
           {
            "colorbar": {
             "outlinewidth": 0,
             "ticks": ""
            },
            "colorscale": [
             [
              0,
              "#0d0887"
             ],
             [
              0.1111111111111111,
              "#46039f"
             ],
             [
              0.2222222222222222,
              "#7201a8"
             ],
             [
              0.3333333333333333,
              "#9c179e"
             ],
             [
              0.4444444444444444,
              "#bd3786"
             ],
             [
              0.5555555555555556,
              "#d8576b"
             ],
             [
              0.6666666666666666,
              "#ed7953"
             ],
             [
              0.7777777777777778,
              "#fb9f3a"
             ],
             [
              0.8888888888888888,
              "#fdca26"
             ],
             [
              1,
              "#f0f921"
             ]
            ],
            "type": "histogram2d"
           }
          ],
          "histogram2dcontour": [
           {
            "colorbar": {
             "outlinewidth": 0,
             "ticks": ""
            },
            "colorscale": [
             [
              0,
              "#0d0887"
             ],
             [
              0.1111111111111111,
              "#46039f"
             ],
             [
              0.2222222222222222,
              "#7201a8"
             ],
             [
              0.3333333333333333,
              "#9c179e"
             ],
             [
              0.4444444444444444,
              "#bd3786"
             ],
             [
              0.5555555555555556,
              "#d8576b"
             ],
             [
              0.6666666666666666,
              "#ed7953"
             ],
             [
              0.7777777777777778,
              "#fb9f3a"
             ],
             [
              0.8888888888888888,
              "#fdca26"
             ],
             [
              1,
              "#f0f921"
             ]
            ],
            "type": "histogram2dcontour"
           }
          ],
          "mesh3d": [
           {
            "colorbar": {
             "outlinewidth": 0,
             "ticks": ""
            },
            "type": "mesh3d"
           }
          ],
          "parcoords": [
           {
            "line": {
             "colorbar": {
              "outlinewidth": 0,
              "ticks": ""
             }
            },
            "type": "parcoords"
           }
          ],
          "pie": [
           {
            "automargin": true,
            "type": "pie"
           }
          ],
          "scatter": [
           {
            "fillpattern": {
             "fillmode": "overlay",
             "size": 10,
             "solidity": 0.2
            },
            "type": "scatter"
           }
          ],
          "scatter3d": [
           {
            "line": {
             "colorbar": {
              "outlinewidth": 0,
              "ticks": ""
             }
            },
            "marker": {
             "colorbar": {
              "outlinewidth": 0,
              "ticks": ""
             }
            },
            "type": "scatter3d"
           }
          ],
          "scattercarpet": [
           {
            "marker": {
             "colorbar": {
              "outlinewidth": 0,
              "ticks": ""
             }
            },
            "type": "scattercarpet"
           }
          ],
          "scattergeo": [
           {
            "marker": {
             "colorbar": {
              "outlinewidth": 0,
              "ticks": ""
             }
            },
            "type": "scattergeo"
           }
          ],
          "scattergl": [
           {
            "marker": {
             "colorbar": {
              "outlinewidth": 0,
              "ticks": ""
             }
            },
            "type": "scattergl"
           }
          ],
          "scattermap": [
           {
            "marker": {
             "colorbar": {
              "outlinewidth": 0,
              "ticks": ""
             }
            },
            "type": "scattermap"
           }
          ],
          "scattermapbox": [
           {
            "marker": {
             "colorbar": {
              "outlinewidth": 0,
              "ticks": ""
             }
            },
            "type": "scattermapbox"
           }
          ],
          "scatterpolar": [
           {
            "marker": {
             "colorbar": {
              "outlinewidth": 0,
              "ticks": ""
             }
            },
            "type": "scatterpolar"
           }
          ],
          "scatterpolargl": [
           {
            "marker": {
             "colorbar": {
              "outlinewidth": 0,
              "ticks": ""
             }
            },
            "type": "scatterpolargl"
           }
          ],
          "scatterternary": [
           {
            "marker": {
             "colorbar": {
              "outlinewidth": 0,
              "ticks": ""
             }
            },
            "type": "scatterternary"
           }
          ],
          "surface": [
           {
            "colorbar": {
             "outlinewidth": 0,
             "ticks": ""
            },
            "colorscale": [
             [
              0,
              "#0d0887"
             ],
             [
              0.1111111111111111,
              "#46039f"
             ],
             [
              0.2222222222222222,
              "#7201a8"
             ],
             [
              0.3333333333333333,
              "#9c179e"
             ],
             [
              0.4444444444444444,
              "#bd3786"
             ],
             [
              0.5555555555555556,
              "#d8576b"
             ],
             [
              0.6666666666666666,
              "#ed7953"
             ],
             [
              0.7777777777777778,
              "#fb9f3a"
             ],
             [
              0.8888888888888888,
              "#fdca26"
             ],
             [
              1,
              "#f0f921"
             ]
            ],
            "type": "surface"
           }
          ],
          "table": [
           {
            "cells": {
             "fill": {
              "color": "#EBF0F8"
             },
             "line": {
              "color": "white"
             }
            },
            "header": {
             "fill": {
              "color": "#C8D4E3"
             },
             "line": {
              "color": "white"
             }
            },
            "type": "table"
           }
          ]
         },
         "layout": {
          "annotationdefaults": {
           "arrowcolor": "#2a3f5f",
           "arrowhead": 0,
           "arrowwidth": 1
          },
          "autotypenumbers": "strict",
          "coloraxis": {
           "colorbar": {
            "outlinewidth": 0,
            "ticks": ""
           }
          },
          "colorscale": {
           "diverging": [
            [
             0,
             "#8e0152"
            ],
            [
             0.1,
             "#c51b7d"
            ],
            [
             0.2,
             "#de77ae"
            ],
            [
             0.3,
             "#f1b6da"
            ],
            [
             0.4,
             "#fde0ef"
            ],
            [
             0.5,
             "#f7f7f7"
            ],
            [
             0.6,
             "#e6f5d0"
            ],
            [
             0.7,
             "#b8e186"
            ],
            [
             0.8,
             "#7fbc41"
            ],
            [
             0.9,
             "#4d9221"
            ],
            [
             1,
             "#276419"
            ]
           ],
           "sequential": [
            [
             0,
             "#0d0887"
            ],
            [
             0.1111111111111111,
             "#46039f"
            ],
            [
             0.2222222222222222,
             "#7201a8"
            ],
            [
             0.3333333333333333,
             "#9c179e"
            ],
            [
             0.4444444444444444,
             "#bd3786"
            ],
            [
             0.5555555555555556,
             "#d8576b"
            ],
            [
             0.6666666666666666,
             "#ed7953"
            ],
            [
             0.7777777777777778,
             "#fb9f3a"
            ],
            [
             0.8888888888888888,
             "#fdca26"
            ],
            [
             1,
             "#f0f921"
            ]
           ],
           "sequentialminus": [
            [
             0,
             "#0d0887"
            ],
            [
             0.1111111111111111,
             "#46039f"
            ],
            [
             0.2222222222222222,
             "#7201a8"
            ],
            [
             0.3333333333333333,
             "#9c179e"
            ],
            [
             0.4444444444444444,
             "#bd3786"
            ],
            [
             0.5555555555555556,
             "#d8576b"
            ],
            [
             0.6666666666666666,
             "#ed7953"
            ],
            [
             0.7777777777777778,
             "#fb9f3a"
            ],
            [
             0.8888888888888888,
             "#fdca26"
            ],
            [
             1,
             "#f0f921"
            ]
           ]
          },
          "colorway": [
           "#636efa",
           "#EF553B",
           "#00cc96",
           "#ab63fa",
           "#FFA15A",
           "#19d3f3",
           "#FF6692",
           "#B6E880",
           "#FF97FF",
           "#FECB52"
          ],
          "font": {
           "color": "#2a3f5f"
          },
          "geo": {
           "bgcolor": "white",
           "lakecolor": "white",
           "landcolor": "#E5ECF6",
           "showlakes": true,
           "showland": true,
           "subunitcolor": "white"
          },
          "hoverlabel": {
           "align": "left"
          },
          "hovermode": "closest",
          "mapbox": {
           "style": "light"
          },
          "paper_bgcolor": "white",
          "plot_bgcolor": "#E5ECF6",
          "polar": {
           "angularaxis": {
            "gridcolor": "white",
            "linecolor": "white",
            "ticks": ""
           },
           "bgcolor": "#E5ECF6",
           "radialaxis": {
            "gridcolor": "white",
            "linecolor": "white",
            "ticks": ""
           }
          },
          "scene": {
           "xaxis": {
            "backgroundcolor": "#E5ECF6",
            "gridcolor": "white",
            "gridwidth": 2,
            "linecolor": "white",
            "showbackground": true,
            "ticks": "",
            "zerolinecolor": "white"
           },
           "yaxis": {
            "backgroundcolor": "#E5ECF6",
            "gridcolor": "white",
            "gridwidth": 2,
            "linecolor": "white",
            "showbackground": true,
            "ticks": "",
            "zerolinecolor": "white"
           },
           "zaxis": {
            "backgroundcolor": "#E5ECF6",
            "gridcolor": "white",
            "gridwidth": 2,
            "linecolor": "white",
            "showbackground": true,
            "ticks": "",
            "zerolinecolor": "white"
           }
          },
          "shapedefaults": {
           "line": {
            "color": "#2a3f5f"
           }
          },
          "ternary": {
           "aaxis": {
            "gridcolor": "white",
            "linecolor": "white",
            "ticks": ""
           },
           "baxis": {
            "gridcolor": "white",
            "linecolor": "white",
            "ticks": ""
           },
           "bgcolor": "#E5ECF6",
           "caxis": {
            "gridcolor": "white",
            "linecolor": "white",
            "ticks": ""
           }
          },
          "title": {
           "x": 0.05
          },
          "xaxis": {
           "automargin": true,
           "gridcolor": "white",
           "linecolor": "white",
           "ticks": "",
           "title": {
            "standoff": 15
           },
           "zerolinecolor": "white",
           "zerolinewidth": 2
          },
          "yaxis": {
           "automargin": true,
           "gridcolor": "white",
           "linecolor": "white",
           "ticks": "",
           "title": {
            "standoff": 15
           },
           "zerolinecolor": "white",
           "zerolinewidth": 2
          }
         }
        },
        "title": {
         "text": "area mean vs perimeter mean"
        },
        "xaxis": {
         "anchor": "y",
         "domain": [
          0,
          1
         ],
         "title": {
          "text": "perimeter_mean"
         }
        },
        "yaxis": {
         "anchor": "x",
         "domain": [
          0,
          1
         ],
         "title": {
          "text": "area_mean"
         }
        }
       }
      }
     },
     "metadata": {},
     "output_type": "display_data"
    }
   ],
   "source": [
    "px.scatter(raw_df,\n",
    "           title=\"area mean vs perimeter mean\",\n",
    "           x = 'perimeter_mean',\n",
    "           y = 'area_mean',\n",
    "           color= 'diagnosis'\n",
    "           )"
   ]
  },
  {
   "cell_type": "code",
   "execution_count": 341,
   "id": "f0a23e36",
   "metadata": {},
   "outputs": [
    {
     "name": "stdout",
     "output_type": "stream",
     "text": [
      "\n",
      "Usage:   \n",
      "  /home/stanley-otieno/Machine-Learning/Breast-cancer-diagnosis/breast-cancer/bin/python -m pip install [options] <requirement specifier> [package-index-options] ...\n",
      "  /home/stanley-otieno/Machine-Learning/Breast-cancer-diagnosis/breast-cancer/bin/python -m pip install [options] -r <requirements file> [package-index-options] ...\n",
      "  /home/stanley-otieno/Machine-Learning/Breast-cancer-diagnosis/breast-cancer/bin/python -m pip install [options] [-e] <vcs project url> ...\n",
      "  /home/stanley-otieno/Machine-Learning/Breast-cancer-diagnosis/breast-cancer/bin/python -m pip install [options] [-e] <local project path> ...\n",
      "  /home/stanley-otieno/Machine-Learning/Breast-cancer-diagnosis/breast-cancer/bin/python -m pip install [options] <archive url/path> ...\n",
      "\n",
      "no such option: --quite\n",
      "Note: you may need to restart the kernel to use updated packages.\n"
     ]
    }
   ],
   "source": [
    "%pip install scikit-learn --upgrade --quite"
   ]
  },
  {
   "cell_type": "code",
   "execution_count": 342,
   "id": "49faf43a",
   "metadata": {},
   "outputs": [],
   "source": [
    "from sklearn.model_selection import train_test_split"
   ]
  },
  {
   "cell_type": "code",
   "execution_count": 343,
   "id": "176f2114",
   "metadata": {},
   "outputs": [],
   "source": [
    "train_val_df, test_df = train_test_split(raw_df, test_size=0.2, random_state=42)\n",
    "train_df, val_df = train_test_split(train_val_df, test_size=0.25, random_state=42)"
   ]
  },
  {
   "cell_type": "code",
   "execution_count": 344,
   "id": "c00c8485",
   "metadata": {},
   "outputs": [
    {
     "name": "stdout",
     "output_type": "stream",
     "text": [
      "train_df:  (341, 32)\n",
      "val_df:  (114, 32)\n",
      "test_df:  (114, 32)\n"
     ]
    }
   ],
   "source": [
    "print (\"train_df: \" ,train_df.shape)\n",
    "print (\"val_df: \" ,val_df.shape)\n",
    "print (\"test_df: \" ,test_df.shape)"
   ]
  },
  {
   "cell_type": "code",
   "execution_count": 345,
   "id": "fcfc56b5",
   "metadata": {},
   "outputs": [
    {
     "data": {
      "text/html": [
       "<div>\n",
       "<style scoped>\n",
       "    .dataframe tbody tr th:only-of-type {\n",
       "        vertical-align: middle;\n",
       "    }\n",
       "\n",
       "    .dataframe tbody tr th {\n",
       "        vertical-align: top;\n",
       "    }\n",
       "\n",
       "    .dataframe thead th {\n",
       "        text-align: right;\n",
       "    }\n",
       "</style>\n",
       "<table border=\"1\" class=\"dataframe\">\n",
       "  <thead>\n",
       "    <tr style=\"text-align: right;\">\n",
       "      <th></th>\n",
       "      <th>id</th>\n",
       "      <th>diagnosis</th>\n",
       "      <th>radius_mean</th>\n",
       "      <th>texture_mean</th>\n",
       "      <th>perimeter_mean</th>\n",
       "      <th>area_mean</th>\n",
       "      <th>smoothness_mean</th>\n",
       "      <th>compactness_mean</th>\n",
       "      <th>concavity_mean</th>\n",
       "      <th>concave points_mean</th>\n",
       "      <th>...</th>\n",
       "      <th>radius_worst</th>\n",
       "      <th>texture_worst</th>\n",
       "      <th>perimeter_worst</th>\n",
       "      <th>area_worst</th>\n",
       "      <th>smoothness_worst</th>\n",
       "      <th>compactness_worst</th>\n",
       "      <th>concavity_worst</th>\n",
       "      <th>concave points_worst</th>\n",
       "      <th>symmetry_worst</th>\n",
       "      <th>fractal_dimension_worst</th>\n",
       "    </tr>\n",
       "  </thead>\n",
       "  <tbody>\n",
       "    <tr>\n",
       "      <th>217</th>\n",
       "      <td>8811779</td>\n",
       "      <td>B</td>\n",
       "      <td>10.200</td>\n",
       "      <td>17.48</td>\n",
       "      <td>65.05</td>\n",
       "      <td>321.2</td>\n",
       "      <td>0.08054</td>\n",
       "      <td>0.05907</td>\n",
       "      <td>0.05774</td>\n",
       "      <td>0.01071</td>\n",
       "      <td>...</td>\n",
       "      <td>11.48</td>\n",
       "      <td>24.47</td>\n",
       "      <td>75.40</td>\n",
       "      <td>403.7</td>\n",
       "      <td>0.09527</td>\n",
       "      <td>0.1397</td>\n",
       "      <td>0.19250</td>\n",
       "      <td>0.03571</td>\n",
       "      <td>0.2868</td>\n",
       "      <td>0.07809</td>\n",
       "    </tr>\n",
       "    <tr>\n",
       "      <th>283</th>\n",
       "      <td>8912280</td>\n",
       "      <td>M</td>\n",
       "      <td>16.240</td>\n",
       "      <td>18.77</td>\n",
       "      <td>108.80</td>\n",
       "      <td>805.1</td>\n",
       "      <td>0.10660</td>\n",
       "      <td>0.18020</td>\n",
       "      <td>0.19480</td>\n",
       "      <td>0.09052</td>\n",
       "      <td>...</td>\n",
       "      <td>18.55</td>\n",
       "      <td>25.09</td>\n",
       "      <td>126.90</td>\n",
       "      <td>1031.0</td>\n",
       "      <td>0.13650</td>\n",
       "      <td>0.4706</td>\n",
       "      <td>0.50260</td>\n",
       "      <td>0.17320</td>\n",
       "      <td>0.2770</td>\n",
       "      <td>0.10630</td>\n",
       "    </tr>\n",
       "    <tr>\n",
       "      <th>0</th>\n",
       "      <td>842302</td>\n",
       "      <td>M</td>\n",
       "      <td>17.990</td>\n",
       "      <td>10.38</td>\n",
       "      <td>122.80</td>\n",
       "      <td>1001.0</td>\n",
       "      <td>0.11840</td>\n",
       "      <td>0.27760</td>\n",
       "      <td>0.30010</td>\n",
       "      <td>0.14710</td>\n",
       "      <td>...</td>\n",
       "      <td>25.38</td>\n",
       "      <td>17.33</td>\n",
       "      <td>184.60</td>\n",
       "      <td>2019.0</td>\n",
       "      <td>0.16220</td>\n",
       "      <td>0.6656</td>\n",
       "      <td>0.71190</td>\n",
       "      <td>0.26540</td>\n",
       "      <td>0.4601</td>\n",
       "      <td>0.11890</td>\n",
       "    </tr>\n",
       "    <tr>\n",
       "      <th>504</th>\n",
       "      <td>915186</td>\n",
       "      <td>B</td>\n",
       "      <td>9.268</td>\n",
       "      <td>12.87</td>\n",
       "      <td>61.49</td>\n",
       "      <td>248.7</td>\n",
       "      <td>0.16340</td>\n",
       "      <td>0.22390</td>\n",
       "      <td>0.09730</td>\n",
       "      <td>0.05252</td>\n",
       "      <td>...</td>\n",
       "      <td>10.28</td>\n",
       "      <td>16.38</td>\n",
       "      <td>69.05</td>\n",
       "      <td>300.2</td>\n",
       "      <td>0.19020</td>\n",
       "      <td>0.3441</td>\n",
       "      <td>0.20990</td>\n",
       "      <td>0.10250</td>\n",
       "      <td>0.3038</td>\n",
       "      <td>0.12520</td>\n",
       "    </tr>\n",
       "    <tr>\n",
       "      <th>251</th>\n",
       "      <td>88518501</td>\n",
       "      <td>B</td>\n",
       "      <td>11.500</td>\n",
       "      <td>18.45</td>\n",
       "      <td>73.28</td>\n",
       "      <td>407.4</td>\n",
       "      <td>0.09345</td>\n",
       "      <td>0.05991</td>\n",
       "      <td>0.02638</td>\n",
       "      <td>0.02069</td>\n",
       "      <td>...</td>\n",
       "      <td>12.97</td>\n",
       "      <td>22.46</td>\n",
       "      <td>83.12</td>\n",
       "      <td>508.9</td>\n",
       "      <td>0.11830</td>\n",
       "      <td>0.1049</td>\n",
       "      <td>0.08105</td>\n",
       "      <td>0.06544</td>\n",
       "      <td>0.2740</td>\n",
       "      <td>0.06487</td>\n",
       "    </tr>\n",
       "    <tr>\n",
       "      <th>...</th>\n",
       "      <td>...</td>\n",
       "      <td>...</td>\n",
       "      <td>...</td>\n",
       "      <td>...</td>\n",
       "      <td>...</td>\n",
       "      <td>...</td>\n",
       "      <td>...</td>\n",
       "      <td>...</td>\n",
       "      <td>...</td>\n",
       "      <td>...</td>\n",
       "      <td>...</td>\n",
       "      <td>...</td>\n",
       "      <td>...</td>\n",
       "      <td>...</td>\n",
       "      <td>...</td>\n",
       "      <td>...</td>\n",
       "      <td>...</td>\n",
       "      <td>...</td>\n",
       "      <td>...</td>\n",
       "      <td>...</td>\n",
       "      <td>...</td>\n",
       "    </tr>\n",
       "    <tr>\n",
       "      <th>57</th>\n",
       "      <td>857793</td>\n",
       "      <td>M</td>\n",
       "      <td>14.710</td>\n",
       "      <td>21.59</td>\n",
       "      <td>95.55</td>\n",
       "      <td>656.9</td>\n",
       "      <td>0.11370</td>\n",
       "      <td>0.13650</td>\n",
       "      <td>0.12930</td>\n",
       "      <td>0.08123</td>\n",
       "      <td>...</td>\n",
       "      <td>17.87</td>\n",
       "      <td>30.70</td>\n",
       "      <td>115.70</td>\n",
       "      <td>985.5</td>\n",
       "      <td>0.13680</td>\n",
       "      <td>0.4290</td>\n",
       "      <td>0.35870</td>\n",
       "      <td>0.18340</td>\n",
       "      <td>0.3698</td>\n",
       "      <td>0.10940</td>\n",
       "    </tr>\n",
       "    <tr>\n",
       "      <th>492</th>\n",
       "      <td>914062</td>\n",
       "      <td>M</td>\n",
       "      <td>18.010</td>\n",
       "      <td>20.56</td>\n",
       "      <td>118.40</td>\n",
       "      <td>1007.0</td>\n",
       "      <td>0.10010</td>\n",
       "      <td>0.12890</td>\n",
       "      <td>0.11700</td>\n",
       "      <td>0.07762</td>\n",
       "      <td>...</td>\n",
       "      <td>21.53</td>\n",
       "      <td>26.06</td>\n",
       "      <td>143.40</td>\n",
       "      <td>1426.0</td>\n",
       "      <td>0.13090</td>\n",
       "      <td>0.2327</td>\n",
       "      <td>0.25440</td>\n",
       "      <td>0.14890</td>\n",
       "      <td>0.3251</td>\n",
       "      <td>0.07625</td>\n",
       "    </tr>\n",
       "    <tr>\n",
       "      <th>418</th>\n",
       "      <td>906024</td>\n",
       "      <td>B</td>\n",
       "      <td>12.700</td>\n",
       "      <td>12.17</td>\n",
       "      <td>80.88</td>\n",
       "      <td>495.0</td>\n",
       "      <td>0.08785</td>\n",
       "      <td>0.05794</td>\n",
       "      <td>0.02360</td>\n",
       "      <td>0.02402</td>\n",
       "      <td>...</td>\n",
       "      <td>13.65</td>\n",
       "      <td>16.92</td>\n",
       "      <td>88.12</td>\n",
       "      <td>566.9</td>\n",
       "      <td>0.13140</td>\n",
       "      <td>0.1607</td>\n",
       "      <td>0.09385</td>\n",
       "      <td>0.08224</td>\n",
       "      <td>0.2775</td>\n",
       "      <td>0.09464</td>\n",
       "    </tr>\n",
       "    <tr>\n",
       "      <th>385</th>\n",
       "      <td>90291</td>\n",
       "      <td>M</td>\n",
       "      <td>14.600</td>\n",
       "      <td>23.29</td>\n",
       "      <td>93.97</td>\n",
       "      <td>664.7</td>\n",
       "      <td>0.08682</td>\n",
       "      <td>0.06636</td>\n",
       "      <td>0.08390</td>\n",
       "      <td>0.05271</td>\n",
       "      <td>...</td>\n",
       "      <td>15.79</td>\n",
       "      <td>31.71</td>\n",
       "      <td>102.20</td>\n",
       "      <td>758.2</td>\n",
       "      <td>0.13120</td>\n",
       "      <td>0.1581</td>\n",
       "      <td>0.26750</td>\n",
       "      <td>0.13590</td>\n",
       "      <td>0.2477</td>\n",
       "      <td>0.06836</td>\n",
       "    </tr>\n",
       "    <tr>\n",
       "      <th>325</th>\n",
       "      <td>89511502</td>\n",
       "      <td>B</td>\n",
       "      <td>12.670</td>\n",
       "      <td>17.30</td>\n",
       "      <td>81.25</td>\n",
       "      <td>489.9</td>\n",
       "      <td>0.10280</td>\n",
       "      <td>0.07664</td>\n",
       "      <td>0.03193</td>\n",
       "      <td>0.02107</td>\n",
       "      <td>...</td>\n",
       "      <td>13.71</td>\n",
       "      <td>21.10</td>\n",
       "      <td>88.70</td>\n",
       "      <td>574.4</td>\n",
       "      <td>0.13840</td>\n",
       "      <td>0.1212</td>\n",
       "      <td>0.10200</td>\n",
       "      <td>0.05602</td>\n",
       "      <td>0.2688</td>\n",
       "      <td>0.06888</td>\n",
       "    </tr>\n",
       "  </tbody>\n",
       "</table>\n",
       "<p>341 rows × 32 columns</p>\n",
       "</div>"
      ],
      "text/plain": [
       "           id diagnosis  radius_mean  texture_mean  perimeter_mean  area_mean  \\\n",
       "217   8811779         B       10.200         17.48           65.05      321.2   \n",
       "283   8912280         M       16.240         18.77          108.80      805.1   \n",
       "0      842302         M       17.990         10.38          122.80     1001.0   \n",
       "504    915186         B        9.268         12.87           61.49      248.7   \n",
       "251  88518501         B       11.500         18.45           73.28      407.4   \n",
       "..        ...       ...          ...           ...             ...        ...   \n",
       "57     857793         M       14.710         21.59           95.55      656.9   \n",
       "492    914062         M       18.010         20.56          118.40     1007.0   \n",
       "418    906024         B       12.700         12.17           80.88      495.0   \n",
       "385     90291         M       14.600         23.29           93.97      664.7   \n",
       "325  89511502         B       12.670         17.30           81.25      489.9   \n",
       "\n",
       "     smoothness_mean  compactness_mean  concavity_mean  concave points_mean  \\\n",
       "217          0.08054           0.05907         0.05774              0.01071   \n",
       "283          0.10660           0.18020         0.19480              0.09052   \n",
       "0            0.11840           0.27760         0.30010              0.14710   \n",
       "504          0.16340           0.22390         0.09730              0.05252   \n",
       "251          0.09345           0.05991         0.02638              0.02069   \n",
       "..               ...               ...             ...                  ...   \n",
       "57           0.11370           0.13650         0.12930              0.08123   \n",
       "492          0.10010           0.12890         0.11700              0.07762   \n",
       "418          0.08785           0.05794         0.02360              0.02402   \n",
       "385          0.08682           0.06636         0.08390              0.05271   \n",
       "325          0.10280           0.07664         0.03193              0.02107   \n",
       "\n",
       "     ...  radius_worst  texture_worst  perimeter_worst  area_worst  \\\n",
       "217  ...         11.48          24.47            75.40       403.7   \n",
       "283  ...         18.55          25.09           126.90      1031.0   \n",
       "0    ...         25.38          17.33           184.60      2019.0   \n",
       "504  ...         10.28          16.38            69.05       300.2   \n",
       "251  ...         12.97          22.46            83.12       508.9   \n",
       "..   ...           ...            ...              ...         ...   \n",
       "57   ...         17.87          30.70           115.70       985.5   \n",
       "492  ...         21.53          26.06           143.40      1426.0   \n",
       "418  ...         13.65          16.92            88.12       566.9   \n",
       "385  ...         15.79          31.71           102.20       758.2   \n",
       "325  ...         13.71          21.10            88.70       574.4   \n",
       "\n",
       "     smoothness_worst  compactness_worst  concavity_worst  \\\n",
       "217           0.09527             0.1397          0.19250   \n",
       "283           0.13650             0.4706          0.50260   \n",
       "0             0.16220             0.6656          0.71190   \n",
       "504           0.19020             0.3441          0.20990   \n",
       "251           0.11830             0.1049          0.08105   \n",
       "..                ...                ...              ...   \n",
       "57            0.13680             0.4290          0.35870   \n",
       "492           0.13090             0.2327          0.25440   \n",
       "418           0.13140             0.1607          0.09385   \n",
       "385           0.13120             0.1581          0.26750   \n",
       "325           0.13840             0.1212          0.10200   \n",
       "\n",
       "     concave points_worst  symmetry_worst  fractal_dimension_worst  \n",
       "217               0.03571          0.2868                  0.07809  \n",
       "283               0.17320          0.2770                  0.10630  \n",
       "0                 0.26540          0.4601                  0.11890  \n",
       "504               0.10250          0.3038                  0.12520  \n",
       "251               0.06544          0.2740                  0.06487  \n",
       "..                    ...             ...                      ...  \n",
       "57                0.18340          0.3698                  0.10940  \n",
       "492               0.14890          0.3251                  0.07625  \n",
       "418               0.08224          0.2775                  0.09464  \n",
       "385               0.13590          0.2477                  0.06836  \n",
       "325               0.05602          0.2688                  0.06888  \n",
       "\n",
       "[341 rows x 32 columns]"
      ]
     },
     "execution_count": 345,
     "metadata": {},
     "output_type": "execute_result"
    }
   ],
   "source": [
    "train_df"
   ]
  },
  {
   "cell_type": "code",
   "execution_count": 346,
   "id": "c4eba450",
   "metadata": {},
   "outputs": [
    {
     "data": {
      "text/html": [
       "<div>\n",
       "<style scoped>\n",
       "    .dataframe tbody tr th:only-of-type {\n",
       "        vertical-align: middle;\n",
       "    }\n",
       "\n",
       "    .dataframe tbody tr th {\n",
       "        vertical-align: top;\n",
       "    }\n",
       "\n",
       "    .dataframe thead th {\n",
       "        text-align: right;\n",
       "    }\n",
       "</style>\n",
       "<table border=\"1\" class=\"dataframe\">\n",
       "  <thead>\n",
       "    <tr style=\"text-align: right;\">\n",
       "      <th></th>\n",
       "      <th>id</th>\n",
       "      <th>diagnosis</th>\n",
       "      <th>radius_mean</th>\n",
       "      <th>texture_mean</th>\n",
       "      <th>perimeter_mean</th>\n",
       "      <th>area_mean</th>\n",
       "      <th>smoothness_mean</th>\n",
       "      <th>compactness_mean</th>\n",
       "      <th>concavity_mean</th>\n",
       "      <th>concave points_mean</th>\n",
       "      <th>...</th>\n",
       "      <th>radius_worst</th>\n",
       "      <th>texture_worst</th>\n",
       "      <th>perimeter_worst</th>\n",
       "      <th>area_worst</th>\n",
       "      <th>smoothness_worst</th>\n",
       "      <th>compactness_worst</th>\n",
       "      <th>concavity_worst</th>\n",
       "      <th>concave points_worst</th>\n",
       "      <th>symmetry_worst</th>\n",
       "      <th>fractal_dimension_worst</th>\n",
       "    </tr>\n",
       "  </thead>\n",
       "  <tbody>\n",
       "    <tr>\n",
       "      <th>95</th>\n",
       "      <td>86208</td>\n",
       "      <td>M</td>\n",
       "      <td>20.26</td>\n",
       "      <td>23.03</td>\n",
       "      <td>132.40</td>\n",
       "      <td>1264.0</td>\n",
       "      <td>0.09078</td>\n",
       "      <td>0.13130</td>\n",
       "      <td>0.14650</td>\n",
       "      <td>0.08683</td>\n",
       "      <td>...</td>\n",
       "      <td>24.220</td>\n",
       "      <td>31.59</td>\n",
       "      <td>156.10</td>\n",
       "      <td>1750.0</td>\n",
       "      <td>0.1190</td>\n",
       "      <td>0.35390</td>\n",
       "      <td>0.40980</td>\n",
       "      <td>0.15730</td>\n",
       "      <td>0.3689</td>\n",
       "      <td>0.08368</td>\n",
       "    </tr>\n",
       "    <tr>\n",
       "      <th>93</th>\n",
       "      <td>862009</td>\n",
       "      <td>B</td>\n",
       "      <td>13.45</td>\n",
       "      <td>18.30</td>\n",
       "      <td>86.60</td>\n",
       "      <td>555.1</td>\n",
       "      <td>0.10220</td>\n",
       "      <td>0.08165</td>\n",
       "      <td>0.03974</td>\n",
       "      <td>0.02780</td>\n",
       "      <td>...</td>\n",
       "      <td>15.100</td>\n",
       "      <td>25.94</td>\n",
       "      <td>97.59</td>\n",
       "      <td>699.4</td>\n",
       "      <td>0.1339</td>\n",
       "      <td>0.17510</td>\n",
       "      <td>0.13810</td>\n",
       "      <td>0.07911</td>\n",
       "      <td>0.2678</td>\n",
       "      <td>0.06603</td>\n",
       "    </tr>\n",
       "    <tr>\n",
       "      <th>401</th>\n",
       "      <td>904647</td>\n",
       "      <td>B</td>\n",
       "      <td>11.93</td>\n",
       "      <td>10.91</td>\n",
       "      <td>76.14</td>\n",
       "      <td>442.7</td>\n",
       "      <td>0.08872</td>\n",
       "      <td>0.05242</td>\n",
       "      <td>0.02606</td>\n",
       "      <td>0.01796</td>\n",
       "      <td>...</td>\n",
       "      <td>13.800</td>\n",
       "      <td>20.14</td>\n",
       "      <td>87.64</td>\n",
       "      <td>589.5</td>\n",
       "      <td>0.1374</td>\n",
       "      <td>0.15750</td>\n",
       "      <td>0.15140</td>\n",
       "      <td>0.06876</td>\n",
       "      <td>0.2460</td>\n",
       "      <td>0.07262</td>\n",
       "    </tr>\n",
       "    <tr>\n",
       "      <th>345</th>\n",
       "      <td>898677</td>\n",
       "      <td>B</td>\n",
       "      <td>10.26</td>\n",
       "      <td>14.71</td>\n",
       "      <td>66.20</td>\n",
       "      <td>321.6</td>\n",
       "      <td>0.09882</td>\n",
       "      <td>0.09159</td>\n",
       "      <td>0.03581</td>\n",
       "      <td>0.02037</td>\n",
       "      <td>...</td>\n",
       "      <td>10.880</td>\n",
       "      <td>19.48</td>\n",
       "      <td>70.89</td>\n",
       "      <td>357.1</td>\n",
       "      <td>0.1360</td>\n",
       "      <td>0.16360</td>\n",
       "      <td>0.07162</td>\n",
       "      <td>0.04074</td>\n",
       "      <td>0.2434</td>\n",
       "      <td>0.08488</td>\n",
       "    </tr>\n",
       "    <tr>\n",
       "      <th>194</th>\n",
       "      <td>87556202</td>\n",
       "      <td>M</td>\n",
       "      <td>14.86</td>\n",
       "      <td>23.21</td>\n",
       "      <td>100.40</td>\n",
       "      <td>671.4</td>\n",
       "      <td>0.10440</td>\n",
       "      <td>0.19800</td>\n",
       "      <td>0.16970</td>\n",
       "      <td>0.08878</td>\n",
       "      <td>...</td>\n",
       "      <td>16.080</td>\n",
       "      <td>27.78</td>\n",
       "      <td>118.60</td>\n",
       "      <td>784.7</td>\n",
       "      <td>0.1316</td>\n",
       "      <td>0.46480</td>\n",
       "      <td>0.45890</td>\n",
       "      <td>0.17270</td>\n",
       "      <td>0.3000</td>\n",
       "      <td>0.08701</td>\n",
       "    </tr>\n",
       "    <tr>\n",
       "      <th>...</th>\n",
       "      <td>...</td>\n",
       "      <td>...</td>\n",
       "      <td>...</td>\n",
       "      <td>...</td>\n",
       "      <td>...</td>\n",
       "      <td>...</td>\n",
       "      <td>...</td>\n",
       "      <td>...</td>\n",
       "      <td>...</td>\n",
       "      <td>...</td>\n",
       "      <td>...</td>\n",
       "      <td>...</td>\n",
       "      <td>...</td>\n",
       "      <td>...</td>\n",
       "      <td>...</td>\n",
       "      <td>...</td>\n",
       "      <td>...</td>\n",
       "      <td>...</td>\n",
       "      <td>...</td>\n",
       "      <td>...</td>\n",
       "      <td>...</td>\n",
       "    </tr>\n",
       "    <tr>\n",
       "      <th>212</th>\n",
       "      <td>8810703</td>\n",
       "      <td>M</td>\n",
       "      <td>28.11</td>\n",
       "      <td>18.47</td>\n",
       "      <td>188.50</td>\n",
       "      <td>2499.0</td>\n",
       "      <td>0.11420</td>\n",
       "      <td>0.15160</td>\n",
       "      <td>0.32010</td>\n",
       "      <td>0.15950</td>\n",
       "      <td>...</td>\n",
       "      <td>28.110</td>\n",
       "      <td>18.47</td>\n",
       "      <td>188.50</td>\n",
       "      <td>2499.0</td>\n",
       "      <td>0.1142</td>\n",
       "      <td>0.15160</td>\n",
       "      <td>0.32010</td>\n",
       "      <td>0.15950</td>\n",
       "      <td>0.1648</td>\n",
       "      <td>0.05525</td>\n",
       "    </tr>\n",
       "    <tr>\n",
       "      <th>15</th>\n",
       "      <td>84799002</td>\n",
       "      <td>M</td>\n",
       "      <td>14.54</td>\n",
       "      <td>27.54</td>\n",
       "      <td>96.73</td>\n",
       "      <td>658.8</td>\n",
       "      <td>0.11390</td>\n",
       "      <td>0.15950</td>\n",
       "      <td>0.16390</td>\n",
       "      <td>0.07364</td>\n",
       "      <td>...</td>\n",
       "      <td>17.460</td>\n",
       "      <td>37.13</td>\n",
       "      <td>124.10</td>\n",
       "      <td>943.2</td>\n",
       "      <td>0.1678</td>\n",
       "      <td>0.65770</td>\n",
       "      <td>0.70260</td>\n",
       "      <td>0.17120</td>\n",
       "      <td>0.4218</td>\n",
       "      <td>0.13410</td>\n",
       "    </tr>\n",
       "    <tr>\n",
       "      <th>428</th>\n",
       "      <td>90769601</td>\n",
       "      <td>B</td>\n",
       "      <td>11.13</td>\n",
       "      <td>16.62</td>\n",
       "      <td>70.47</td>\n",
       "      <td>381.1</td>\n",
       "      <td>0.08151</td>\n",
       "      <td>0.03834</td>\n",
       "      <td>0.01369</td>\n",
       "      <td>0.01370</td>\n",
       "      <td>...</td>\n",
       "      <td>11.680</td>\n",
       "      <td>20.29</td>\n",
       "      <td>74.35</td>\n",
       "      <td>421.1</td>\n",
       "      <td>0.1030</td>\n",
       "      <td>0.06219</td>\n",
       "      <td>0.04580</td>\n",
       "      <td>0.04044</td>\n",
       "      <td>0.2383</td>\n",
       "      <td>0.07083</td>\n",
       "    </tr>\n",
       "    <tr>\n",
       "      <th>363</th>\n",
       "      <td>9010872</td>\n",
       "      <td>B</td>\n",
       "      <td>16.50</td>\n",
       "      <td>18.29</td>\n",
       "      <td>106.60</td>\n",
       "      <td>838.1</td>\n",
       "      <td>0.09686</td>\n",
       "      <td>0.08468</td>\n",
       "      <td>0.05862</td>\n",
       "      <td>0.04835</td>\n",
       "      <td>...</td>\n",
       "      <td>18.130</td>\n",
       "      <td>25.45</td>\n",
       "      <td>117.20</td>\n",
       "      <td>1009.0</td>\n",
       "      <td>0.1338</td>\n",
       "      <td>0.16790</td>\n",
       "      <td>0.16630</td>\n",
       "      <td>0.09123</td>\n",
       "      <td>0.2394</td>\n",
       "      <td>0.06469</td>\n",
       "    </tr>\n",
       "    <tr>\n",
       "      <th>116</th>\n",
       "      <td>864726</td>\n",
       "      <td>B</td>\n",
       "      <td>8.95</td>\n",
       "      <td>15.76</td>\n",
       "      <td>58.74</td>\n",
       "      <td>245.2</td>\n",
       "      <td>0.09462</td>\n",
       "      <td>0.12430</td>\n",
       "      <td>0.09263</td>\n",
       "      <td>0.02308</td>\n",
       "      <td>...</td>\n",
       "      <td>9.414</td>\n",
       "      <td>17.07</td>\n",
       "      <td>63.34</td>\n",
       "      <td>270.0</td>\n",
       "      <td>0.1179</td>\n",
       "      <td>0.18790</td>\n",
       "      <td>0.15440</td>\n",
       "      <td>0.03846</td>\n",
       "      <td>0.1652</td>\n",
       "      <td>0.07722</td>\n",
       "    </tr>\n",
       "  </tbody>\n",
       "</table>\n",
       "<p>114 rows × 32 columns</p>\n",
       "</div>"
      ],
      "text/plain": [
       "           id diagnosis  radius_mean  texture_mean  perimeter_mean  area_mean  \\\n",
       "95      86208         M        20.26         23.03          132.40     1264.0   \n",
       "93     862009         B        13.45         18.30           86.60      555.1   \n",
       "401    904647         B        11.93         10.91           76.14      442.7   \n",
       "345    898677         B        10.26         14.71           66.20      321.6   \n",
       "194  87556202         M        14.86         23.21          100.40      671.4   \n",
       "..        ...       ...          ...           ...             ...        ...   \n",
       "212   8810703         M        28.11         18.47          188.50     2499.0   \n",
       "15   84799002         M        14.54         27.54           96.73      658.8   \n",
       "428  90769601         B        11.13         16.62           70.47      381.1   \n",
       "363   9010872         B        16.50         18.29          106.60      838.1   \n",
       "116    864726         B         8.95         15.76           58.74      245.2   \n",
       "\n",
       "     smoothness_mean  compactness_mean  concavity_mean  concave points_mean  \\\n",
       "95           0.09078           0.13130         0.14650              0.08683   \n",
       "93           0.10220           0.08165         0.03974              0.02780   \n",
       "401          0.08872           0.05242         0.02606              0.01796   \n",
       "345          0.09882           0.09159         0.03581              0.02037   \n",
       "194          0.10440           0.19800         0.16970              0.08878   \n",
       "..               ...               ...             ...                  ...   \n",
       "212          0.11420           0.15160         0.32010              0.15950   \n",
       "15           0.11390           0.15950         0.16390              0.07364   \n",
       "428          0.08151           0.03834         0.01369              0.01370   \n",
       "363          0.09686           0.08468         0.05862              0.04835   \n",
       "116          0.09462           0.12430         0.09263              0.02308   \n",
       "\n",
       "     ...  radius_worst  texture_worst  perimeter_worst  area_worst  \\\n",
       "95   ...        24.220          31.59           156.10      1750.0   \n",
       "93   ...        15.100          25.94            97.59       699.4   \n",
       "401  ...        13.800          20.14            87.64       589.5   \n",
       "345  ...        10.880          19.48            70.89       357.1   \n",
       "194  ...        16.080          27.78           118.60       784.7   \n",
       "..   ...           ...            ...              ...         ...   \n",
       "212  ...        28.110          18.47           188.50      2499.0   \n",
       "15   ...        17.460          37.13           124.10       943.2   \n",
       "428  ...        11.680          20.29            74.35       421.1   \n",
       "363  ...        18.130          25.45           117.20      1009.0   \n",
       "116  ...         9.414          17.07            63.34       270.0   \n",
       "\n",
       "     smoothness_worst  compactness_worst  concavity_worst  \\\n",
       "95             0.1190            0.35390          0.40980   \n",
       "93             0.1339            0.17510          0.13810   \n",
       "401            0.1374            0.15750          0.15140   \n",
       "345            0.1360            0.16360          0.07162   \n",
       "194            0.1316            0.46480          0.45890   \n",
       "..                ...                ...              ...   \n",
       "212            0.1142            0.15160          0.32010   \n",
       "15             0.1678            0.65770          0.70260   \n",
       "428            0.1030            0.06219          0.04580   \n",
       "363            0.1338            0.16790          0.16630   \n",
       "116            0.1179            0.18790          0.15440   \n",
       "\n",
       "     concave points_worst  symmetry_worst  fractal_dimension_worst  \n",
       "95                0.15730          0.3689                  0.08368  \n",
       "93                0.07911          0.2678                  0.06603  \n",
       "401               0.06876          0.2460                  0.07262  \n",
       "345               0.04074          0.2434                  0.08488  \n",
       "194               0.17270          0.3000                  0.08701  \n",
       "..                    ...             ...                      ...  \n",
       "212               0.15950          0.1648                  0.05525  \n",
       "15                0.17120          0.4218                  0.13410  \n",
       "428               0.04044          0.2383                  0.07083  \n",
       "363               0.09123          0.2394                  0.06469  \n",
       "116               0.03846          0.1652                  0.07722  \n",
       "\n",
       "[114 rows x 32 columns]"
      ]
     },
     "execution_count": 346,
     "metadata": {},
     "output_type": "execute_result"
    }
   ],
   "source": [
    "val_df"
   ]
  },
  {
   "cell_type": "code",
   "execution_count": 347,
   "id": "8e938c12",
   "metadata": {},
   "outputs": [
    {
     "data": {
      "text/html": [
       "<div>\n",
       "<style scoped>\n",
       "    .dataframe tbody tr th:only-of-type {\n",
       "        vertical-align: middle;\n",
       "    }\n",
       "\n",
       "    .dataframe tbody tr th {\n",
       "        vertical-align: top;\n",
       "    }\n",
       "\n",
       "    .dataframe thead th {\n",
       "        text-align: right;\n",
       "    }\n",
       "</style>\n",
       "<table border=\"1\" class=\"dataframe\">\n",
       "  <thead>\n",
       "    <tr style=\"text-align: right;\">\n",
       "      <th></th>\n",
       "      <th>id</th>\n",
       "      <th>diagnosis</th>\n",
       "      <th>radius_mean</th>\n",
       "      <th>texture_mean</th>\n",
       "      <th>perimeter_mean</th>\n",
       "      <th>area_mean</th>\n",
       "      <th>smoothness_mean</th>\n",
       "      <th>compactness_mean</th>\n",
       "      <th>concavity_mean</th>\n",
       "      <th>concave points_mean</th>\n",
       "      <th>...</th>\n",
       "      <th>radius_worst</th>\n",
       "      <th>texture_worst</th>\n",
       "      <th>perimeter_worst</th>\n",
       "      <th>area_worst</th>\n",
       "      <th>smoothness_worst</th>\n",
       "      <th>compactness_worst</th>\n",
       "      <th>concavity_worst</th>\n",
       "      <th>concave points_worst</th>\n",
       "      <th>symmetry_worst</th>\n",
       "      <th>fractal_dimension_worst</th>\n",
       "    </tr>\n",
       "  </thead>\n",
       "  <tbody>\n",
       "    <tr>\n",
       "      <th>204</th>\n",
       "      <td>87930</td>\n",
       "      <td>B</td>\n",
       "      <td>12.47</td>\n",
       "      <td>18.60</td>\n",
       "      <td>81.09</td>\n",
       "      <td>481.9</td>\n",
       "      <td>0.09965</td>\n",
       "      <td>0.10580</td>\n",
       "      <td>0.08005</td>\n",
       "      <td>0.03821</td>\n",
       "      <td>...</td>\n",
       "      <td>14.97</td>\n",
       "      <td>24.64</td>\n",
       "      <td>96.05</td>\n",
       "      <td>677.9</td>\n",
       "      <td>0.1426</td>\n",
       "      <td>0.2378</td>\n",
       "      <td>0.2671</td>\n",
       "      <td>0.10150</td>\n",
       "      <td>0.3014</td>\n",
       "      <td>0.08750</td>\n",
       "    </tr>\n",
       "    <tr>\n",
       "      <th>70</th>\n",
       "      <td>859575</td>\n",
       "      <td>M</td>\n",
       "      <td>18.94</td>\n",
       "      <td>21.31</td>\n",
       "      <td>123.60</td>\n",
       "      <td>1130.0</td>\n",
       "      <td>0.09009</td>\n",
       "      <td>0.10290</td>\n",
       "      <td>0.10800</td>\n",
       "      <td>0.07951</td>\n",
       "      <td>...</td>\n",
       "      <td>24.86</td>\n",
       "      <td>26.58</td>\n",
       "      <td>165.90</td>\n",
       "      <td>1866.0</td>\n",
       "      <td>0.1193</td>\n",
       "      <td>0.2336</td>\n",
       "      <td>0.2687</td>\n",
       "      <td>0.17890</td>\n",
       "      <td>0.2551</td>\n",
       "      <td>0.06589</td>\n",
       "    </tr>\n",
       "    <tr>\n",
       "      <th>131</th>\n",
       "      <td>8670</td>\n",
       "      <td>M</td>\n",
       "      <td>15.46</td>\n",
       "      <td>19.48</td>\n",
       "      <td>101.70</td>\n",
       "      <td>748.9</td>\n",
       "      <td>0.10920</td>\n",
       "      <td>0.12230</td>\n",
       "      <td>0.14660</td>\n",
       "      <td>0.08087</td>\n",
       "      <td>...</td>\n",
       "      <td>19.26</td>\n",
       "      <td>26.00</td>\n",
       "      <td>124.90</td>\n",
       "      <td>1156.0</td>\n",
       "      <td>0.1546</td>\n",
       "      <td>0.2394</td>\n",
       "      <td>0.3791</td>\n",
       "      <td>0.15140</td>\n",
       "      <td>0.2837</td>\n",
       "      <td>0.08019</td>\n",
       "    </tr>\n",
       "    <tr>\n",
       "      <th>431</th>\n",
       "      <td>907915</td>\n",
       "      <td>B</td>\n",
       "      <td>12.40</td>\n",
       "      <td>17.68</td>\n",
       "      <td>81.47</td>\n",
       "      <td>467.8</td>\n",
       "      <td>0.10540</td>\n",
       "      <td>0.13160</td>\n",
       "      <td>0.07741</td>\n",
       "      <td>0.02799</td>\n",
       "      <td>...</td>\n",
       "      <td>12.88</td>\n",
       "      <td>22.91</td>\n",
       "      <td>89.61</td>\n",
       "      <td>515.8</td>\n",
       "      <td>0.1450</td>\n",
       "      <td>0.2629</td>\n",
       "      <td>0.2403</td>\n",
       "      <td>0.07370</td>\n",
       "      <td>0.2556</td>\n",
       "      <td>0.09359</td>\n",
       "    </tr>\n",
       "    <tr>\n",
       "      <th>540</th>\n",
       "      <td>921385</td>\n",
       "      <td>B</td>\n",
       "      <td>11.54</td>\n",
       "      <td>14.44</td>\n",
       "      <td>74.65</td>\n",
       "      <td>402.9</td>\n",
       "      <td>0.09984</td>\n",
       "      <td>0.11200</td>\n",
       "      <td>0.06737</td>\n",
       "      <td>0.02594</td>\n",
       "      <td>...</td>\n",
       "      <td>12.26</td>\n",
       "      <td>19.68</td>\n",
       "      <td>78.78</td>\n",
       "      <td>457.8</td>\n",
       "      <td>0.1345</td>\n",
       "      <td>0.2118</td>\n",
       "      <td>0.1797</td>\n",
       "      <td>0.06918</td>\n",
       "      <td>0.2329</td>\n",
       "      <td>0.08134</td>\n",
       "    </tr>\n",
       "    <tr>\n",
       "      <th>...</th>\n",
       "      <td>...</td>\n",
       "      <td>...</td>\n",
       "      <td>...</td>\n",
       "      <td>...</td>\n",
       "      <td>...</td>\n",
       "      <td>...</td>\n",
       "      <td>...</td>\n",
       "      <td>...</td>\n",
       "      <td>...</td>\n",
       "      <td>...</td>\n",
       "      <td>...</td>\n",
       "      <td>...</td>\n",
       "      <td>...</td>\n",
       "      <td>...</td>\n",
       "      <td>...</td>\n",
       "      <td>...</td>\n",
       "      <td>...</td>\n",
       "      <td>...</td>\n",
       "      <td>...</td>\n",
       "      <td>...</td>\n",
       "      <td>...</td>\n",
       "    </tr>\n",
       "    <tr>\n",
       "      <th>486</th>\n",
       "      <td>913102</td>\n",
       "      <td>B</td>\n",
       "      <td>14.64</td>\n",
       "      <td>16.85</td>\n",
       "      <td>94.21</td>\n",
       "      <td>666.0</td>\n",
       "      <td>0.08641</td>\n",
       "      <td>0.06698</td>\n",
       "      <td>0.05192</td>\n",
       "      <td>0.02791</td>\n",
       "      <td>...</td>\n",
       "      <td>16.46</td>\n",
       "      <td>25.44</td>\n",
       "      <td>106.00</td>\n",
       "      <td>831.0</td>\n",
       "      <td>0.1142</td>\n",
       "      <td>0.2070</td>\n",
       "      <td>0.2437</td>\n",
       "      <td>0.07828</td>\n",
       "      <td>0.2455</td>\n",
       "      <td>0.06596</td>\n",
       "    </tr>\n",
       "    <tr>\n",
       "      <th>75</th>\n",
       "      <td>8610404</td>\n",
       "      <td>M</td>\n",
       "      <td>16.07</td>\n",
       "      <td>19.65</td>\n",
       "      <td>104.10</td>\n",
       "      <td>817.7</td>\n",
       "      <td>0.09168</td>\n",
       "      <td>0.08424</td>\n",
       "      <td>0.09769</td>\n",
       "      <td>0.06638</td>\n",
       "      <td>...</td>\n",
       "      <td>19.77</td>\n",
       "      <td>24.56</td>\n",
       "      <td>128.80</td>\n",
       "      <td>1223.0</td>\n",
       "      <td>0.1500</td>\n",
       "      <td>0.2045</td>\n",
       "      <td>0.2829</td>\n",
       "      <td>0.15200</td>\n",
       "      <td>0.2650</td>\n",
       "      <td>0.06387</td>\n",
       "    </tr>\n",
       "    <tr>\n",
       "      <th>249</th>\n",
       "      <td>884689</td>\n",
       "      <td>B</td>\n",
       "      <td>11.52</td>\n",
       "      <td>14.93</td>\n",
       "      <td>73.87</td>\n",
       "      <td>406.3</td>\n",
       "      <td>0.10130</td>\n",
       "      <td>0.07808</td>\n",
       "      <td>0.04328</td>\n",
       "      <td>0.02929</td>\n",
       "      <td>...</td>\n",
       "      <td>12.65</td>\n",
       "      <td>21.19</td>\n",
       "      <td>80.88</td>\n",
       "      <td>491.8</td>\n",
       "      <td>0.1389</td>\n",
       "      <td>0.1582</td>\n",
       "      <td>0.1804</td>\n",
       "      <td>0.09608</td>\n",
       "      <td>0.2664</td>\n",
       "      <td>0.07809</td>\n",
       "    </tr>\n",
       "    <tr>\n",
       "      <th>238</th>\n",
       "      <td>883270</td>\n",
       "      <td>B</td>\n",
       "      <td>14.22</td>\n",
       "      <td>27.85</td>\n",
       "      <td>92.55</td>\n",
       "      <td>623.9</td>\n",
       "      <td>0.08223</td>\n",
       "      <td>0.10390</td>\n",
       "      <td>0.11030</td>\n",
       "      <td>0.04408</td>\n",
       "      <td>...</td>\n",
       "      <td>15.75</td>\n",
       "      <td>40.54</td>\n",
       "      <td>102.50</td>\n",
       "      <td>764.0</td>\n",
       "      <td>0.1081</td>\n",
       "      <td>0.2426</td>\n",
       "      <td>0.3064</td>\n",
       "      <td>0.08219</td>\n",
       "      <td>0.1890</td>\n",
       "      <td>0.07796</td>\n",
       "    </tr>\n",
       "    <tr>\n",
       "      <th>265</th>\n",
       "      <td>88995002</td>\n",
       "      <td>M</td>\n",
       "      <td>20.73</td>\n",
       "      <td>31.12</td>\n",
       "      <td>135.70</td>\n",
       "      <td>1419.0</td>\n",
       "      <td>0.09469</td>\n",
       "      <td>0.11430</td>\n",
       "      <td>0.13670</td>\n",
       "      <td>0.08646</td>\n",
       "      <td>...</td>\n",
       "      <td>32.49</td>\n",
       "      <td>47.16</td>\n",
       "      <td>214.00</td>\n",
       "      <td>3432.0</td>\n",
       "      <td>0.1401</td>\n",
       "      <td>0.2644</td>\n",
       "      <td>0.3442</td>\n",
       "      <td>0.16590</td>\n",
       "      <td>0.2868</td>\n",
       "      <td>0.08218</td>\n",
       "    </tr>\n",
       "  </tbody>\n",
       "</table>\n",
       "<p>114 rows × 32 columns</p>\n",
       "</div>"
      ],
      "text/plain": [
       "           id diagnosis  radius_mean  texture_mean  perimeter_mean  area_mean  \\\n",
       "204     87930         B        12.47         18.60           81.09      481.9   \n",
       "70     859575         M        18.94         21.31          123.60     1130.0   \n",
       "131      8670         M        15.46         19.48          101.70      748.9   \n",
       "431    907915         B        12.40         17.68           81.47      467.8   \n",
       "540    921385         B        11.54         14.44           74.65      402.9   \n",
       "..        ...       ...          ...           ...             ...        ...   \n",
       "486    913102         B        14.64         16.85           94.21      666.0   \n",
       "75    8610404         M        16.07         19.65          104.10      817.7   \n",
       "249    884689         B        11.52         14.93           73.87      406.3   \n",
       "238    883270         B        14.22         27.85           92.55      623.9   \n",
       "265  88995002         M        20.73         31.12          135.70     1419.0   \n",
       "\n",
       "     smoothness_mean  compactness_mean  concavity_mean  concave points_mean  \\\n",
       "204          0.09965           0.10580         0.08005              0.03821   \n",
       "70           0.09009           0.10290         0.10800              0.07951   \n",
       "131          0.10920           0.12230         0.14660              0.08087   \n",
       "431          0.10540           0.13160         0.07741              0.02799   \n",
       "540          0.09984           0.11200         0.06737              0.02594   \n",
       "..               ...               ...             ...                  ...   \n",
       "486          0.08641           0.06698         0.05192              0.02791   \n",
       "75           0.09168           0.08424         0.09769              0.06638   \n",
       "249          0.10130           0.07808         0.04328              0.02929   \n",
       "238          0.08223           0.10390         0.11030              0.04408   \n",
       "265          0.09469           0.11430         0.13670              0.08646   \n",
       "\n",
       "     ...  radius_worst  texture_worst  perimeter_worst  area_worst  \\\n",
       "204  ...         14.97          24.64            96.05       677.9   \n",
       "70   ...         24.86          26.58           165.90      1866.0   \n",
       "131  ...         19.26          26.00           124.90      1156.0   \n",
       "431  ...         12.88          22.91            89.61       515.8   \n",
       "540  ...         12.26          19.68            78.78       457.8   \n",
       "..   ...           ...            ...              ...         ...   \n",
       "486  ...         16.46          25.44           106.00       831.0   \n",
       "75   ...         19.77          24.56           128.80      1223.0   \n",
       "249  ...         12.65          21.19            80.88       491.8   \n",
       "238  ...         15.75          40.54           102.50       764.0   \n",
       "265  ...         32.49          47.16           214.00      3432.0   \n",
       "\n",
       "     smoothness_worst  compactness_worst  concavity_worst  \\\n",
       "204            0.1426             0.2378           0.2671   \n",
       "70             0.1193             0.2336           0.2687   \n",
       "131            0.1546             0.2394           0.3791   \n",
       "431            0.1450             0.2629           0.2403   \n",
       "540            0.1345             0.2118           0.1797   \n",
       "..                ...                ...              ...   \n",
       "486            0.1142             0.2070           0.2437   \n",
       "75             0.1500             0.2045           0.2829   \n",
       "249            0.1389             0.1582           0.1804   \n",
       "238            0.1081             0.2426           0.3064   \n",
       "265            0.1401             0.2644           0.3442   \n",
       "\n",
       "     concave points_worst  symmetry_worst  fractal_dimension_worst  \n",
       "204               0.10150          0.3014                  0.08750  \n",
       "70                0.17890          0.2551                  0.06589  \n",
       "131               0.15140          0.2837                  0.08019  \n",
       "431               0.07370          0.2556                  0.09359  \n",
       "540               0.06918          0.2329                  0.08134  \n",
       "..                    ...             ...                      ...  \n",
       "486               0.07828          0.2455                  0.06596  \n",
       "75                0.15200          0.2650                  0.06387  \n",
       "249               0.09608          0.2664                  0.07809  \n",
       "238               0.08219          0.1890                  0.07796  \n",
       "265               0.16590          0.2868                  0.08218  \n",
       "\n",
       "[114 rows x 32 columns]"
      ]
     },
     "execution_count": 347,
     "metadata": {},
     "output_type": "execute_result"
    }
   ],
   "source": [
    "test_df"
   ]
  },
  {
   "cell_type": "code",
   "execution_count": 348,
   "id": "8410d17e",
   "metadata": {},
   "outputs": [],
   "source": [
    "input_cols = [col for col in train_df.columns if col not in ['id', 'diagnosis', 'Unnamed: 32']]\n",
    "target_col = 'diagnosis'"
   ]
  },
  {
   "cell_type": "code",
   "execution_count": 349,
   "id": "94ca200f",
   "metadata": {},
   "outputs": [
    {
     "name": "stdout",
     "output_type": "stream",
     "text": [
      "['radius_mean', 'texture_mean', 'perimeter_mean', 'area_mean', 'smoothness_mean', 'compactness_mean', 'concavity_mean', 'concave points_mean', 'symmetry_mean', 'fractal_dimension_mean', 'radius_se', 'texture_se', 'perimeter_se', 'area_se', 'smoothness_se', 'compactness_se', 'concavity_se', 'concave points_se', 'symmetry_se', 'fractal_dimension_se', 'radius_worst', 'texture_worst', 'perimeter_worst', 'area_worst', 'smoothness_worst', 'compactness_worst', 'concavity_worst', 'concave points_worst', 'symmetry_worst', 'fractal_dimension_worst']\n"
     ]
    }
   ],
   "source": [
    "print(input_cols)"
   ]
  },
  {
   "cell_type": "code",
   "execution_count": 350,
   "id": "7f4b88d9",
   "metadata": {},
   "outputs": [
    {
     "data": {
      "text/plain": [
       "'diagnosis'"
      ]
     },
     "execution_count": 350,
     "metadata": {},
     "output_type": "execute_result"
    }
   ],
   "source": [
    "target_col"
   ]
  },
  {
   "cell_type": "code",
   "execution_count": 351,
   "id": "458b4b47",
   "metadata": {},
   "outputs": [],
   "source": [
    "train_inputs = train_df[input_cols].copy()\n",
    "train_targets = train_df[target_col].copy()"
   ]
  },
  {
   "cell_type": "code",
   "execution_count": 352,
   "id": "9645a126",
   "metadata": {},
   "outputs": [
    {
     "name": "stdout",
     "output_type": "stream",
     "text": [
      "     radius_mean  texture_mean  perimeter_mean  area_mean  smoothness_mean  \\\n",
      "217       10.200         17.48           65.05      321.2          0.08054   \n",
      "283       16.240         18.77          108.80      805.1          0.10660   \n",
      "0         17.990         10.38          122.80     1001.0          0.11840   \n",
      "504        9.268         12.87           61.49      248.7          0.16340   \n",
      "251       11.500         18.45           73.28      407.4          0.09345   \n",
      "..           ...           ...             ...        ...              ...   \n",
      "57        14.710         21.59           95.55      656.9          0.11370   \n",
      "492       18.010         20.56          118.40     1007.0          0.10010   \n",
      "418       12.700         12.17           80.88      495.0          0.08785   \n",
      "385       14.600         23.29           93.97      664.7          0.08682   \n",
      "325       12.670         17.30           81.25      489.9          0.10280   \n",
      "\n",
      "     compactness_mean  concavity_mean  concave points_mean  symmetry_mean  \\\n",
      "217           0.05907         0.05774              0.01071         0.1964   \n",
      "283           0.18020         0.19480              0.09052         0.1876   \n",
      "0             0.27760         0.30010              0.14710         0.2419   \n",
      "504           0.22390         0.09730              0.05252         0.2378   \n",
      "251           0.05991         0.02638              0.02069         0.1834   \n",
      "..                ...             ...                  ...            ...   \n",
      "57            0.13650         0.12930              0.08123         0.2027   \n",
      "492           0.12890         0.11700              0.07762         0.2116   \n",
      "418           0.05794         0.02360              0.02402         0.1583   \n",
      "385           0.06636         0.08390              0.05271         0.1627   \n",
      "325           0.07664         0.03193              0.02107         0.1707   \n",
      "\n",
      "     fractal_dimension_mean  ...  radius_worst  texture_worst  \\\n",
      "217                 0.06315  ...         11.48          24.47   \n",
      "283                 0.06684  ...         18.55          25.09   \n",
      "0                   0.07871  ...         25.38          17.33   \n",
      "504                 0.09502  ...         10.28          16.38   \n",
      "251                 0.05934  ...         12.97          22.46   \n",
      "..                      ...  ...           ...            ...   \n",
      "57                  0.06758  ...         17.87          30.70   \n",
      "492                 0.06077  ...         21.53          26.06   \n",
      "418                 0.06275  ...         13.65          16.92   \n",
      "385                 0.05416  ...         15.79          31.71   \n",
      "325                 0.05984  ...         13.71          21.10   \n",
      "\n",
      "     perimeter_worst  area_worst  smoothness_worst  compactness_worst  \\\n",
      "217            75.40       403.7           0.09527             0.1397   \n",
      "283           126.90      1031.0           0.13650             0.4706   \n",
      "0             184.60      2019.0           0.16220             0.6656   \n",
      "504            69.05       300.2           0.19020             0.3441   \n",
      "251            83.12       508.9           0.11830             0.1049   \n",
      "..               ...         ...               ...                ...   \n",
      "57            115.70       985.5           0.13680             0.4290   \n",
      "492           143.40      1426.0           0.13090             0.2327   \n",
      "418            88.12       566.9           0.13140             0.1607   \n",
      "385           102.20       758.2           0.13120             0.1581   \n",
      "325            88.70       574.4           0.13840             0.1212   \n",
      "\n",
      "     concavity_worst  concave points_worst  symmetry_worst  \\\n",
      "217          0.19250               0.03571          0.2868   \n",
      "283          0.50260               0.17320          0.2770   \n",
      "0            0.71190               0.26540          0.4601   \n",
      "504          0.20990               0.10250          0.3038   \n",
      "251          0.08105               0.06544          0.2740   \n",
      "..               ...                   ...             ...   \n",
      "57           0.35870               0.18340          0.3698   \n",
      "492          0.25440               0.14890          0.3251   \n",
      "418          0.09385               0.08224          0.2775   \n",
      "385          0.26750               0.13590          0.2477   \n",
      "325          0.10200               0.05602          0.2688   \n",
      "\n",
      "     fractal_dimension_worst  \n",
      "217                  0.07809  \n",
      "283                  0.10630  \n",
      "0                    0.11890  \n",
      "504                  0.12520  \n",
      "251                  0.06487  \n",
      "..                       ...  \n",
      "57                   0.10940  \n",
      "492                  0.07625  \n",
      "418                  0.09464  \n",
      "385                  0.06836  \n",
      "325                  0.06888  \n",
      "\n",
      "[341 rows x 30 columns]\n"
     ]
    }
   ],
   "source": [
    "print(train_inputs)"
   ]
  },
  {
   "cell_type": "code",
   "execution_count": 353,
   "id": "2a15e519",
   "metadata": {},
   "outputs": [
    {
     "name": "stdout",
     "output_type": "stream",
     "text": [
      "217    B\n",
      "283    M\n",
      "0      M\n",
      "504    B\n",
      "251    B\n",
      "      ..\n",
      "57     M\n",
      "492    M\n",
      "418    B\n",
      "385    M\n",
      "325    B\n",
      "Name: diagnosis, Length: 341, dtype: object\n"
     ]
    }
   ],
   "source": [
    "print(train_targets)"
   ]
  },
  {
   "cell_type": "code",
   "execution_count": 354,
   "id": "e7771a43",
   "metadata": {},
   "outputs": [],
   "source": [
    "val_inputs = val_df[input_cols].copy()\n",
    "val_targets = val_df[target_col].copy()"
   ]
  },
  {
   "cell_type": "code",
   "execution_count": 355,
   "id": "081614c8",
   "metadata": {},
   "outputs": [
    {
     "data": {
      "text/html": [
       "<div>\n",
       "<style scoped>\n",
       "    .dataframe tbody tr th:only-of-type {\n",
       "        vertical-align: middle;\n",
       "    }\n",
       "\n",
       "    .dataframe tbody tr th {\n",
       "        vertical-align: top;\n",
       "    }\n",
       "\n",
       "    .dataframe thead th {\n",
       "        text-align: right;\n",
       "    }\n",
       "</style>\n",
       "<table border=\"1\" class=\"dataframe\">\n",
       "  <thead>\n",
       "    <tr style=\"text-align: right;\">\n",
       "      <th></th>\n",
       "      <th>radius_mean</th>\n",
       "      <th>texture_mean</th>\n",
       "      <th>perimeter_mean</th>\n",
       "      <th>area_mean</th>\n",
       "      <th>smoothness_mean</th>\n",
       "      <th>compactness_mean</th>\n",
       "      <th>concavity_mean</th>\n",
       "      <th>concave points_mean</th>\n",
       "      <th>symmetry_mean</th>\n",
       "      <th>fractal_dimension_mean</th>\n",
       "      <th>...</th>\n",
       "      <th>radius_worst</th>\n",
       "      <th>texture_worst</th>\n",
       "      <th>perimeter_worst</th>\n",
       "      <th>area_worst</th>\n",
       "      <th>smoothness_worst</th>\n",
       "      <th>compactness_worst</th>\n",
       "      <th>concavity_worst</th>\n",
       "      <th>concave points_worst</th>\n",
       "      <th>symmetry_worst</th>\n",
       "      <th>fractal_dimension_worst</th>\n",
       "    </tr>\n",
       "  </thead>\n",
       "  <tbody>\n",
       "    <tr>\n",
       "      <th>95</th>\n",
       "      <td>20.26</td>\n",
       "      <td>23.03</td>\n",
       "      <td>132.40</td>\n",
       "      <td>1264.0</td>\n",
       "      <td>0.09078</td>\n",
       "      <td>0.13130</td>\n",
       "      <td>0.14650</td>\n",
       "      <td>0.08683</td>\n",
       "      <td>0.2095</td>\n",
       "      <td>0.05649</td>\n",
       "      <td>...</td>\n",
       "      <td>24.220</td>\n",
       "      <td>31.59</td>\n",
       "      <td>156.10</td>\n",
       "      <td>1750.0</td>\n",
       "      <td>0.1190</td>\n",
       "      <td>0.35390</td>\n",
       "      <td>0.40980</td>\n",
       "      <td>0.15730</td>\n",
       "      <td>0.3689</td>\n",
       "      <td>0.08368</td>\n",
       "    </tr>\n",
       "    <tr>\n",
       "      <th>93</th>\n",
       "      <td>13.45</td>\n",
       "      <td>18.30</td>\n",
       "      <td>86.60</td>\n",
       "      <td>555.1</td>\n",
       "      <td>0.10220</td>\n",
       "      <td>0.08165</td>\n",
       "      <td>0.03974</td>\n",
       "      <td>0.02780</td>\n",
       "      <td>0.1638</td>\n",
       "      <td>0.05710</td>\n",
       "      <td>...</td>\n",
       "      <td>15.100</td>\n",
       "      <td>25.94</td>\n",
       "      <td>97.59</td>\n",
       "      <td>699.4</td>\n",
       "      <td>0.1339</td>\n",
       "      <td>0.17510</td>\n",
       "      <td>0.13810</td>\n",
       "      <td>0.07911</td>\n",
       "      <td>0.2678</td>\n",
       "      <td>0.06603</td>\n",
       "    </tr>\n",
       "    <tr>\n",
       "      <th>401</th>\n",
       "      <td>11.93</td>\n",
       "      <td>10.91</td>\n",
       "      <td>76.14</td>\n",
       "      <td>442.7</td>\n",
       "      <td>0.08872</td>\n",
       "      <td>0.05242</td>\n",
       "      <td>0.02606</td>\n",
       "      <td>0.01796</td>\n",
       "      <td>0.1601</td>\n",
       "      <td>0.05541</td>\n",
       "      <td>...</td>\n",
       "      <td>13.800</td>\n",
       "      <td>20.14</td>\n",
       "      <td>87.64</td>\n",
       "      <td>589.5</td>\n",
       "      <td>0.1374</td>\n",
       "      <td>0.15750</td>\n",
       "      <td>0.15140</td>\n",
       "      <td>0.06876</td>\n",
       "      <td>0.2460</td>\n",
       "      <td>0.07262</td>\n",
       "    </tr>\n",
       "    <tr>\n",
       "      <th>345</th>\n",
       "      <td>10.26</td>\n",
       "      <td>14.71</td>\n",
       "      <td>66.20</td>\n",
       "      <td>321.6</td>\n",
       "      <td>0.09882</td>\n",
       "      <td>0.09159</td>\n",
       "      <td>0.03581</td>\n",
       "      <td>0.02037</td>\n",
       "      <td>0.1633</td>\n",
       "      <td>0.07005</td>\n",
       "      <td>...</td>\n",
       "      <td>10.880</td>\n",
       "      <td>19.48</td>\n",
       "      <td>70.89</td>\n",
       "      <td>357.1</td>\n",
       "      <td>0.1360</td>\n",
       "      <td>0.16360</td>\n",
       "      <td>0.07162</td>\n",
       "      <td>0.04074</td>\n",
       "      <td>0.2434</td>\n",
       "      <td>0.08488</td>\n",
       "    </tr>\n",
       "    <tr>\n",
       "      <th>194</th>\n",
       "      <td>14.86</td>\n",
       "      <td>23.21</td>\n",
       "      <td>100.40</td>\n",
       "      <td>671.4</td>\n",
       "      <td>0.10440</td>\n",
       "      <td>0.19800</td>\n",
       "      <td>0.16970</td>\n",
       "      <td>0.08878</td>\n",
       "      <td>0.1737</td>\n",
       "      <td>0.06672</td>\n",
       "      <td>...</td>\n",
       "      <td>16.080</td>\n",
       "      <td>27.78</td>\n",
       "      <td>118.60</td>\n",
       "      <td>784.7</td>\n",
       "      <td>0.1316</td>\n",
       "      <td>0.46480</td>\n",
       "      <td>0.45890</td>\n",
       "      <td>0.17270</td>\n",
       "      <td>0.3000</td>\n",
       "      <td>0.08701</td>\n",
       "    </tr>\n",
       "    <tr>\n",
       "      <th>...</th>\n",
       "      <td>...</td>\n",
       "      <td>...</td>\n",
       "      <td>...</td>\n",
       "      <td>...</td>\n",
       "      <td>...</td>\n",
       "      <td>...</td>\n",
       "      <td>...</td>\n",
       "      <td>...</td>\n",
       "      <td>...</td>\n",
       "      <td>...</td>\n",
       "      <td>...</td>\n",
       "      <td>...</td>\n",
       "      <td>...</td>\n",
       "      <td>...</td>\n",
       "      <td>...</td>\n",
       "      <td>...</td>\n",
       "      <td>...</td>\n",
       "      <td>...</td>\n",
       "      <td>...</td>\n",
       "      <td>...</td>\n",
       "      <td>...</td>\n",
       "    </tr>\n",
       "    <tr>\n",
       "      <th>212</th>\n",
       "      <td>28.11</td>\n",
       "      <td>18.47</td>\n",
       "      <td>188.50</td>\n",
       "      <td>2499.0</td>\n",
       "      <td>0.11420</td>\n",
       "      <td>0.15160</td>\n",
       "      <td>0.32010</td>\n",
       "      <td>0.15950</td>\n",
       "      <td>0.1648</td>\n",
       "      <td>0.05525</td>\n",
       "      <td>...</td>\n",
       "      <td>28.110</td>\n",
       "      <td>18.47</td>\n",
       "      <td>188.50</td>\n",
       "      <td>2499.0</td>\n",
       "      <td>0.1142</td>\n",
       "      <td>0.15160</td>\n",
       "      <td>0.32010</td>\n",
       "      <td>0.15950</td>\n",
       "      <td>0.1648</td>\n",
       "      <td>0.05525</td>\n",
       "    </tr>\n",
       "    <tr>\n",
       "      <th>15</th>\n",
       "      <td>14.54</td>\n",
       "      <td>27.54</td>\n",
       "      <td>96.73</td>\n",
       "      <td>658.8</td>\n",
       "      <td>0.11390</td>\n",
       "      <td>0.15950</td>\n",
       "      <td>0.16390</td>\n",
       "      <td>0.07364</td>\n",
       "      <td>0.2303</td>\n",
       "      <td>0.07077</td>\n",
       "      <td>...</td>\n",
       "      <td>17.460</td>\n",
       "      <td>37.13</td>\n",
       "      <td>124.10</td>\n",
       "      <td>943.2</td>\n",
       "      <td>0.1678</td>\n",
       "      <td>0.65770</td>\n",
       "      <td>0.70260</td>\n",
       "      <td>0.17120</td>\n",
       "      <td>0.4218</td>\n",
       "      <td>0.13410</td>\n",
       "    </tr>\n",
       "    <tr>\n",
       "      <th>428</th>\n",
       "      <td>11.13</td>\n",
       "      <td>16.62</td>\n",
       "      <td>70.47</td>\n",
       "      <td>381.1</td>\n",
       "      <td>0.08151</td>\n",
       "      <td>0.03834</td>\n",
       "      <td>0.01369</td>\n",
       "      <td>0.01370</td>\n",
       "      <td>0.1511</td>\n",
       "      <td>0.06148</td>\n",
       "      <td>...</td>\n",
       "      <td>11.680</td>\n",
       "      <td>20.29</td>\n",
       "      <td>74.35</td>\n",
       "      <td>421.1</td>\n",
       "      <td>0.1030</td>\n",
       "      <td>0.06219</td>\n",
       "      <td>0.04580</td>\n",
       "      <td>0.04044</td>\n",
       "      <td>0.2383</td>\n",
       "      <td>0.07083</td>\n",
       "    </tr>\n",
       "    <tr>\n",
       "      <th>363</th>\n",
       "      <td>16.50</td>\n",
       "      <td>18.29</td>\n",
       "      <td>106.60</td>\n",
       "      <td>838.1</td>\n",
       "      <td>0.09686</td>\n",
       "      <td>0.08468</td>\n",
       "      <td>0.05862</td>\n",
       "      <td>0.04835</td>\n",
       "      <td>0.1495</td>\n",
       "      <td>0.05593</td>\n",
       "      <td>...</td>\n",
       "      <td>18.130</td>\n",
       "      <td>25.45</td>\n",
       "      <td>117.20</td>\n",
       "      <td>1009.0</td>\n",
       "      <td>0.1338</td>\n",
       "      <td>0.16790</td>\n",
       "      <td>0.16630</td>\n",
       "      <td>0.09123</td>\n",
       "      <td>0.2394</td>\n",
       "      <td>0.06469</td>\n",
       "    </tr>\n",
       "    <tr>\n",
       "      <th>116</th>\n",
       "      <td>8.95</td>\n",
       "      <td>15.76</td>\n",
       "      <td>58.74</td>\n",
       "      <td>245.2</td>\n",
       "      <td>0.09462</td>\n",
       "      <td>0.12430</td>\n",
       "      <td>0.09263</td>\n",
       "      <td>0.02308</td>\n",
       "      <td>0.1305</td>\n",
       "      <td>0.07163</td>\n",
       "      <td>...</td>\n",
       "      <td>9.414</td>\n",
       "      <td>17.07</td>\n",
       "      <td>63.34</td>\n",
       "      <td>270.0</td>\n",
       "      <td>0.1179</td>\n",
       "      <td>0.18790</td>\n",
       "      <td>0.15440</td>\n",
       "      <td>0.03846</td>\n",
       "      <td>0.1652</td>\n",
       "      <td>0.07722</td>\n",
       "    </tr>\n",
       "  </tbody>\n",
       "</table>\n",
       "<p>114 rows × 30 columns</p>\n",
       "</div>"
      ],
      "text/plain": [
       "     radius_mean  texture_mean  perimeter_mean  area_mean  smoothness_mean  \\\n",
       "95         20.26         23.03          132.40     1264.0          0.09078   \n",
       "93         13.45         18.30           86.60      555.1          0.10220   \n",
       "401        11.93         10.91           76.14      442.7          0.08872   \n",
       "345        10.26         14.71           66.20      321.6          0.09882   \n",
       "194        14.86         23.21          100.40      671.4          0.10440   \n",
       "..           ...           ...             ...        ...              ...   \n",
       "212        28.11         18.47          188.50     2499.0          0.11420   \n",
       "15         14.54         27.54           96.73      658.8          0.11390   \n",
       "428        11.13         16.62           70.47      381.1          0.08151   \n",
       "363        16.50         18.29          106.60      838.1          0.09686   \n",
       "116         8.95         15.76           58.74      245.2          0.09462   \n",
       "\n",
       "     compactness_mean  concavity_mean  concave points_mean  symmetry_mean  \\\n",
       "95            0.13130         0.14650              0.08683         0.2095   \n",
       "93            0.08165         0.03974              0.02780         0.1638   \n",
       "401           0.05242         0.02606              0.01796         0.1601   \n",
       "345           0.09159         0.03581              0.02037         0.1633   \n",
       "194           0.19800         0.16970              0.08878         0.1737   \n",
       "..                ...             ...                  ...            ...   \n",
       "212           0.15160         0.32010              0.15950         0.1648   \n",
       "15            0.15950         0.16390              0.07364         0.2303   \n",
       "428           0.03834         0.01369              0.01370         0.1511   \n",
       "363           0.08468         0.05862              0.04835         0.1495   \n",
       "116           0.12430         0.09263              0.02308         0.1305   \n",
       "\n",
       "     fractal_dimension_mean  ...  radius_worst  texture_worst  \\\n",
       "95                  0.05649  ...        24.220          31.59   \n",
       "93                  0.05710  ...        15.100          25.94   \n",
       "401                 0.05541  ...        13.800          20.14   \n",
       "345                 0.07005  ...        10.880          19.48   \n",
       "194                 0.06672  ...        16.080          27.78   \n",
       "..                      ...  ...           ...            ...   \n",
       "212                 0.05525  ...        28.110          18.47   \n",
       "15                  0.07077  ...        17.460          37.13   \n",
       "428                 0.06148  ...        11.680          20.29   \n",
       "363                 0.05593  ...        18.130          25.45   \n",
       "116                 0.07163  ...         9.414          17.07   \n",
       "\n",
       "     perimeter_worst  area_worst  smoothness_worst  compactness_worst  \\\n",
       "95            156.10      1750.0            0.1190            0.35390   \n",
       "93             97.59       699.4            0.1339            0.17510   \n",
       "401            87.64       589.5            0.1374            0.15750   \n",
       "345            70.89       357.1            0.1360            0.16360   \n",
       "194           118.60       784.7            0.1316            0.46480   \n",
       "..               ...         ...               ...                ...   \n",
       "212           188.50      2499.0            0.1142            0.15160   \n",
       "15            124.10       943.2            0.1678            0.65770   \n",
       "428            74.35       421.1            0.1030            0.06219   \n",
       "363           117.20      1009.0            0.1338            0.16790   \n",
       "116            63.34       270.0            0.1179            0.18790   \n",
       "\n",
       "     concavity_worst  concave points_worst  symmetry_worst  \\\n",
       "95           0.40980               0.15730          0.3689   \n",
       "93           0.13810               0.07911          0.2678   \n",
       "401          0.15140               0.06876          0.2460   \n",
       "345          0.07162               0.04074          0.2434   \n",
       "194          0.45890               0.17270          0.3000   \n",
       "..               ...                   ...             ...   \n",
       "212          0.32010               0.15950          0.1648   \n",
       "15           0.70260               0.17120          0.4218   \n",
       "428          0.04580               0.04044          0.2383   \n",
       "363          0.16630               0.09123          0.2394   \n",
       "116          0.15440               0.03846          0.1652   \n",
       "\n",
       "     fractal_dimension_worst  \n",
       "95                   0.08368  \n",
       "93                   0.06603  \n",
       "401                  0.07262  \n",
       "345                  0.08488  \n",
       "194                  0.08701  \n",
       "..                       ...  \n",
       "212                  0.05525  \n",
       "15                   0.13410  \n",
       "428                  0.07083  \n",
       "363                  0.06469  \n",
       "116                  0.07722  \n",
       "\n",
       "[114 rows x 30 columns]"
      ]
     },
     "execution_count": 355,
     "metadata": {},
     "output_type": "execute_result"
    }
   ],
   "source": [
    "val_inputs"
   ]
  },
  {
   "cell_type": "code",
   "execution_count": 356,
   "id": "950b4337",
   "metadata": {},
   "outputs": [
    {
     "data": {
      "text/plain": [
       "95     M\n",
       "93     B\n",
       "401    B\n",
       "345    B\n",
       "194    M\n",
       "      ..\n",
       "212    M\n",
       "15     M\n",
       "428    B\n",
       "363    B\n",
       "116    B\n",
       "Name: diagnosis, Length: 114, dtype: object"
      ]
     },
     "execution_count": 356,
     "metadata": {},
     "output_type": "execute_result"
    }
   ],
   "source": [
    "val_targets"
   ]
  },
  {
   "cell_type": "code",
   "execution_count": 357,
   "id": "565048db",
   "metadata": {},
   "outputs": [],
   "source": [
    "test_inputs = test_df[input_cols].copy()\n",
    "test_targets = test_df[target_col].copy()"
   ]
  },
  {
   "cell_type": "code",
   "execution_count": 358,
   "id": "11d659e3",
   "metadata": {},
   "outputs": [
    {
     "data": {
      "text/html": [
       "<div>\n",
       "<style scoped>\n",
       "    .dataframe tbody tr th:only-of-type {\n",
       "        vertical-align: middle;\n",
       "    }\n",
       "\n",
       "    .dataframe tbody tr th {\n",
       "        vertical-align: top;\n",
       "    }\n",
       "\n",
       "    .dataframe thead th {\n",
       "        text-align: right;\n",
       "    }\n",
       "</style>\n",
       "<table border=\"1\" class=\"dataframe\">\n",
       "  <thead>\n",
       "    <tr style=\"text-align: right;\">\n",
       "      <th></th>\n",
       "      <th>radius_mean</th>\n",
       "      <th>texture_mean</th>\n",
       "      <th>perimeter_mean</th>\n",
       "      <th>area_mean</th>\n",
       "      <th>smoothness_mean</th>\n",
       "      <th>compactness_mean</th>\n",
       "      <th>concavity_mean</th>\n",
       "      <th>concave points_mean</th>\n",
       "      <th>symmetry_mean</th>\n",
       "      <th>fractal_dimension_mean</th>\n",
       "      <th>...</th>\n",
       "      <th>radius_worst</th>\n",
       "      <th>texture_worst</th>\n",
       "      <th>perimeter_worst</th>\n",
       "      <th>area_worst</th>\n",
       "      <th>smoothness_worst</th>\n",
       "      <th>compactness_worst</th>\n",
       "      <th>concavity_worst</th>\n",
       "      <th>concave points_worst</th>\n",
       "      <th>symmetry_worst</th>\n",
       "      <th>fractal_dimension_worst</th>\n",
       "    </tr>\n",
       "  </thead>\n",
       "  <tbody>\n",
       "    <tr>\n",
       "      <th>204</th>\n",
       "      <td>12.47</td>\n",
       "      <td>18.60</td>\n",
       "      <td>81.09</td>\n",
       "      <td>481.9</td>\n",
       "      <td>0.09965</td>\n",
       "      <td>0.10580</td>\n",
       "      <td>0.08005</td>\n",
       "      <td>0.03821</td>\n",
       "      <td>0.1925</td>\n",
       "      <td>0.06373</td>\n",
       "      <td>...</td>\n",
       "      <td>14.97</td>\n",
       "      <td>24.64</td>\n",
       "      <td>96.05</td>\n",
       "      <td>677.9</td>\n",
       "      <td>0.1426</td>\n",
       "      <td>0.2378</td>\n",
       "      <td>0.2671</td>\n",
       "      <td>0.10150</td>\n",
       "      <td>0.3014</td>\n",
       "      <td>0.08750</td>\n",
       "    </tr>\n",
       "    <tr>\n",
       "      <th>70</th>\n",
       "      <td>18.94</td>\n",
       "      <td>21.31</td>\n",
       "      <td>123.60</td>\n",
       "      <td>1130.0</td>\n",
       "      <td>0.09009</td>\n",
       "      <td>0.10290</td>\n",
       "      <td>0.10800</td>\n",
       "      <td>0.07951</td>\n",
       "      <td>0.1582</td>\n",
       "      <td>0.05461</td>\n",
       "      <td>...</td>\n",
       "      <td>24.86</td>\n",
       "      <td>26.58</td>\n",
       "      <td>165.90</td>\n",
       "      <td>1866.0</td>\n",
       "      <td>0.1193</td>\n",
       "      <td>0.2336</td>\n",
       "      <td>0.2687</td>\n",
       "      <td>0.17890</td>\n",
       "      <td>0.2551</td>\n",
       "      <td>0.06589</td>\n",
       "    </tr>\n",
       "    <tr>\n",
       "      <th>131</th>\n",
       "      <td>15.46</td>\n",
       "      <td>19.48</td>\n",
       "      <td>101.70</td>\n",
       "      <td>748.9</td>\n",
       "      <td>0.10920</td>\n",
       "      <td>0.12230</td>\n",
       "      <td>0.14660</td>\n",
       "      <td>0.08087</td>\n",
       "      <td>0.1931</td>\n",
       "      <td>0.05796</td>\n",
       "      <td>...</td>\n",
       "      <td>19.26</td>\n",
       "      <td>26.00</td>\n",
       "      <td>124.90</td>\n",
       "      <td>1156.0</td>\n",
       "      <td>0.1546</td>\n",
       "      <td>0.2394</td>\n",
       "      <td>0.3791</td>\n",
       "      <td>0.15140</td>\n",
       "      <td>0.2837</td>\n",
       "      <td>0.08019</td>\n",
       "    </tr>\n",
       "    <tr>\n",
       "      <th>431</th>\n",
       "      <td>12.40</td>\n",
       "      <td>17.68</td>\n",
       "      <td>81.47</td>\n",
       "      <td>467.8</td>\n",
       "      <td>0.10540</td>\n",
       "      <td>0.13160</td>\n",
       "      <td>0.07741</td>\n",
       "      <td>0.02799</td>\n",
       "      <td>0.1811</td>\n",
       "      <td>0.07102</td>\n",
       "      <td>...</td>\n",
       "      <td>12.88</td>\n",
       "      <td>22.91</td>\n",
       "      <td>89.61</td>\n",
       "      <td>515.8</td>\n",
       "      <td>0.1450</td>\n",
       "      <td>0.2629</td>\n",
       "      <td>0.2403</td>\n",
       "      <td>0.07370</td>\n",
       "      <td>0.2556</td>\n",
       "      <td>0.09359</td>\n",
       "    </tr>\n",
       "    <tr>\n",
       "      <th>540</th>\n",
       "      <td>11.54</td>\n",
       "      <td>14.44</td>\n",
       "      <td>74.65</td>\n",
       "      <td>402.9</td>\n",
       "      <td>0.09984</td>\n",
       "      <td>0.11200</td>\n",
       "      <td>0.06737</td>\n",
       "      <td>0.02594</td>\n",
       "      <td>0.1818</td>\n",
       "      <td>0.06782</td>\n",
       "      <td>...</td>\n",
       "      <td>12.26</td>\n",
       "      <td>19.68</td>\n",
       "      <td>78.78</td>\n",
       "      <td>457.8</td>\n",
       "      <td>0.1345</td>\n",
       "      <td>0.2118</td>\n",
       "      <td>0.1797</td>\n",
       "      <td>0.06918</td>\n",
       "      <td>0.2329</td>\n",
       "      <td>0.08134</td>\n",
       "    </tr>\n",
       "    <tr>\n",
       "      <th>...</th>\n",
       "      <td>...</td>\n",
       "      <td>...</td>\n",
       "      <td>...</td>\n",
       "      <td>...</td>\n",
       "      <td>...</td>\n",
       "      <td>...</td>\n",
       "      <td>...</td>\n",
       "      <td>...</td>\n",
       "      <td>...</td>\n",
       "      <td>...</td>\n",
       "      <td>...</td>\n",
       "      <td>...</td>\n",
       "      <td>...</td>\n",
       "      <td>...</td>\n",
       "      <td>...</td>\n",
       "      <td>...</td>\n",
       "      <td>...</td>\n",
       "      <td>...</td>\n",
       "      <td>...</td>\n",
       "      <td>...</td>\n",
       "      <td>...</td>\n",
       "    </tr>\n",
       "    <tr>\n",
       "      <th>486</th>\n",
       "      <td>14.64</td>\n",
       "      <td>16.85</td>\n",
       "      <td>94.21</td>\n",
       "      <td>666.0</td>\n",
       "      <td>0.08641</td>\n",
       "      <td>0.06698</td>\n",
       "      <td>0.05192</td>\n",
       "      <td>0.02791</td>\n",
       "      <td>0.1409</td>\n",
       "      <td>0.05355</td>\n",
       "      <td>...</td>\n",
       "      <td>16.46</td>\n",
       "      <td>25.44</td>\n",
       "      <td>106.00</td>\n",
       "      <td>831.0</td>\n",
       "      <td>0.1142</td>\n",
       "      <td>0.2070</td>\n",
       "      <td>0.2437</td>\n",
       "      <td>0.07828</td>\n",
       "      <td>0.2455</td>\n",
       "      <td>0.06596</td>\n",
       "    </tr>\n",
       "    <tr>\n",
       "      <th>75</th>\n",
       "      <td>16.07</td>\n",
       "      <td>19.65</td>\n",
       "      <td>104.10</td>\n",
       "      <td>817.7</td>\n",
       "      <td>0.09168</td>\n",
       "      <td>0.08424</td>\n",
       "      <td>0.09769</td>\n",
       "      <td>0.06638</td>\n",
       "      <td>0.1798</td>\n",
       "      <td>0.05391</td>\n",
       "      <td>...</td>\n",
       "      <td>19.77</td>\n",
       "      <td>24.56</td>\n",
       "      <td>128.80</td>\n",
       "      <td>1223.0</td>\n",
       "      <td>0.1500</td>\n",
       "      <td>0.2045</td>\n",
       "      <td>0.2829</td>\n",
       "      <td>0.15200</td>\n",
       "      <td>0.2650</td>\n",
       "      <td>0.06387</td>\n",
       "    </tr>\n",
       "    <tr>\n",
       "      <th>249</th>\n",
       "      <td>11.52</td>\n",
       "      <td>14.93</td>\n",
       "      <td>73.87</td>\n",
       "      <td>406.3</td>\n",
       "      <td>0.10130</td>\n",
       "      <td>0.07808</td>\n",
       "      <td>0.04328</td>\n",
       "      <td>0.02929</td>\n",
       "      <td>0.1883</td>\n",
       "      <td>0.06168</td>\n",
       "      <td>...</td>\n",
       "      <td>12.65</td>\n",
       "      <td>21.19</td>\n",
       "      <td>80.88</td>\n",
       "      <td>491.8</td>\n",
       "      <td>0.1389</td>\n",
       "      <td>0.1582</td>\n",
       "      <td>0.1804</td>\n",
       "      <td>0.09608</td>\n",
       "      <td>0.2664</td>\n",
       "      <td>0.07809</td>\n",
       "    </tr>\n",
       "    <tr>\n",
       "      <th>238</th>\n",
       "      <td>14.22</td>\n",
       "      <td>27.85</td>\n",
       "      <td>92.55</td>\n",
       "      <td>623.9</td>\n",
       "      <td>0.08223</td>\n",
       "      <td>0.10390</td>\n",
       "      <td>0.11030</td>\n",
       "      <td>0.04408</td>\n",
       "      <td>0.1342</td>\n",
       "      <td>0.06129</td>\n",
       "      <td>...</td>\n",
       "      <td>15.75</td>\n",
       "      <td>40.54</td>\n",
       "      <td>102.50</td>\n",
       "      <td>764.0</td>\n",
       "      <td>0.1081</td>\n",
       "      <td>0.2426</td>\n",
       "      <td>0.3064</td>\n",
       "      <td>0.08219</td>\n",
       "      <td>0.1890</td>\n",
       "      <td>0.07796</td>\n",
       "    </tr>\n",
       "    <tr>\n",
       "      <th>265</th>\n",
       "      <td>20.73</td>\n",
       "      <td>31.12</td>\n",
       "      <td>135.70</td>\n",
       "      <td>1419.0</td>\n",
       "      <td>0.09469</td>\n",
       "      <td>0.11430</td>\n",
       "      <td>0.13670</td>\n",
       "      <td>0.08646</td>\n",
       "      <td>0.1769</td>\n",
       "      <td>0.05674</td>\n",
       "      <td>...</td>\n",
       "      <td>32.49</td>\n",
       "      <td>47.16</td>\n",
       "      <td>214.00</td>\n",
       "      <td>3432.0</td>\n",
       "      <td>0.1401</td>\n",
       "      <td>0.2644</td>\n",
       "      <td>0.3442</td>\n",
       "      <td>0.16590</td>\n",
       "      <td>0.2868</td>\n",
       "      <td>0.08218</td>\n",
       "    </tr>\n",
       "  </tbody>\n",
       "</table>\n",
       "<p>114 rows × 30 columns</p>\n",
       "</div>"
      ],
      "text/plain": [
       "     radius_mean  texture_mean  perimeter_mean  area_mean  smoothness_mean  \\\n",
       "204        12.47         18.60           81.09      481.9          0.09965   \n",
       "70         18.94         21.31          123.60     1130.0          0.09009   \n",
       "131        15.46         19.48          101.70      748.9          0.10920   \n",
       "431        12.40         17.68           81.47      467.8          0.10540   \n",
       "540        11.54         14.44           74.65      402.9          0.09984   \n",
       "..           ...           ...             ...        ...              ...   \n",
       "486        14.64         16.85           94.21      666.0          0.08641   \n",
       "75         16.07         19.65          104.10      817.7          0.09168   \n",
       "249        11.52         14.93           73.87      406.3          0.10130   \n",
       "238        14.22         27.85           92.55      623.9          0.08223   \n",
       "265        20.73         31.12          135.70     1419.0          0.09469   \n",
       "\n",
       "     compactness_mean  concavity_mean  concave points_mean  symmetry_mean  \\\n",
       "204           0.10580         0.08005              0.03821         0.1925   \n",
       "70            0.10290         0.10800              0.07951         0.1582   \n",
       "131           0.12230         0.14660              0.08087         0.1931   \n",
       "431           0.13160         0.07741              0.02799         0.1811   \n",
       "540           0.11200         0.06737              0.02594         0.1818   \n",
       "..                ...             ...                  ...            ...   \n",
       "486           0.06698         0.05192              0.02791         0.1409   \n",
       "75            0.08424         0.09769              0.06638         0.1798   \n",
       "249           0.07808         0.04328              0.02929         0.1883   \n",
       "238           0.10390         0.11030              0.04408         0.1342   \n",
       "265           0.11430         0.13670              0.08646         0.1769   \n",
       "\n",
       "     fractal_dimension_mean  ...  radius_worst  texture_worst  \\\n",
       "204                 0.06373  ...         14.97          24.64   \n",
       "70                  0.05461  ...         24.86          26.58   \n",
       "131                 0.05796  ...         19.26          26.00   \n",
       "431                 0.07102  ...         12.88          22.91   \n",
       "540                 0.06782  ...         12.26          19.68   \n",
       "..                      ...  ...           ...            ...   \n",
       "486                 0.05355  ...         16.46          25.44   \n",
       "75                  0.05391  ...         19.77          24.56   \n",
       "249                 0.06168  ...         12.65          21.19   \n",
       "238                 0.06129  ...         15.75          40.54   \n",
       "265                 0.05674  ...         32.49          47.16   \n",
       "\n",
       "     perimeter_worst  area_worst  smoothness_worst  compactness_worst  \\\n",
       "204            96.05       677.9            0.1426             0.2378   \n",
       "70            165.90      1866.0            0.1193             0.2336   \n",
       "131           124.90      1156.0            0.1546             0.2394   \n",
       "431            89.61       515.8            0.1450             0.2629   \n",
       "540            78.78       457.8            0.1345             0.2118   \n",
       "..               ...         ...               ...                ...   \n",
       "486           106.00       831.0            0.1142             0.2070   \n",
       "75            128.80      1223.0            0.1500             0.2045   \n",
       "249            80.88       491.8            0.1389             0.1582   \n",
       "238           102.50       764.0            0.1081             0.2426   \n",
       "265           214.00      3432.0            0.1401             0.2644   \n",
       "\n",
       "     concavity_worst  concave points_worst  symmetry_worst  \\\n",
       "204           0.2671               0.10150          0.3014   \n",
       "70            0.2687               0.17890          0.2551   \n",
       "131           0.3791               0.15140          0.2837   \n",
       "431           0.2403               0.07370          0.2556   \n",
       "540           0.1797               0.06918          0.2329   \n",
       "..               ...                   ...             ...   \n",
       "486           0.2437               0.07828          0.2455   \n",
       "75            0.2829               0.15200          0.2650   \n",
       "249           0.1804               0.09608          0.2664   \n",
       "238           0.3064               0.08219          0.1890   \n",
       "265           0.3442               0.16590          0.2868   \n",
       "\n",
       "     fractal_dimension_worst  \n",
       "204                  0.08750  \n",
       "70                   0.06589  \n",
       "131                  0.08019  \n",
       "431                  0.09359  \n",
       "540                  0.08134  \n",
       "..                       ...  \n",
       "486                  0.06596  \n",
       "75                   0.06387  \n",
       "249                  0.07809  \n",
       "238                  0.07796  \n",
       "265                  0.08218  \n",
       "\n",
       "[114 rows x 30 columns]"
      ]
     },
     "execution_count": 358,
     "metadata": {},
     "output_type": "execute_result"
    }
   ],
   "source": [
    "test_inputs"
   ]
  },
  {
   "cell_type": "code",
   "execution_count": 359,
   "id": "9ee2df50",
   "metadata": {},
   "outputs": [
    {
     "data": {
      "text/plain": [
       "204    B\n",
       "70     M\n",
       "131    M\n",
       "431    B\n",
       "540    B\n",
       "      ..\n",
       "486    B\n",
       "75     M\n",
       "249    B\n",
       "238    B\n",
       "265    M\n",
       "Name: diagnosis, Length: 114, dtype: object"
      ]
     },
     "execution_count": 359,
     "metadata": {},
     "output_type": "execute_result"
    }
   ],
   "source": [
    "test_targets"
   ]
  },
  {
   "cell_type": "code",
   "execution_count": 360,
   "id": "a1a16d3f",
   "metadata": {},
   "outputs": [
    {
     "name": "stdout",
     "output_type": "stream",
     "text": [
      "\n",
      "Usage:   \n",
      "  /home/stanley-otieno/Machine-Learning/Breast-cancer-diagnosis/breast-cancer/bin/python -m pip install [options] <requirement specifier> [package-index-options] ...\n",
      "  /home/stanley-otieno/Machine-Learning/Breast-cancer-diagnosis/breast-cancer/bin/python -m pip install [options] -r <requirements file> [package-index-options] ...\n",
      "  /home/stanley-otieno/Machine-Learning/Breast-cancer-diagnosis/breast-cancer/bin/python -m pip install [options] [-e] <vcs project url> ...\n",
      "  /home/stanley-otieno/Machine-Learning/Breast-cancer-diagnosis/breast-cancer/bin/python -m pip install [options] [-e] <local project path> ...\n",
      "  /home/stanley-otieno/Machine-Learning/Breast-cancer-diagnosis/breast-cancer/bin/python -m pip install [options] <archive url/path> ...\n",
      "\n",
      "no such option: --quite\n",
      "Note: you may need to restart the kernel to use updated packages.\n"
     ]
    }
   ],
   "source": [
    "%pip install numpy --quite"
   ]
  },
  {
   "cell_type": "code",
   "execution_count": 361,
   "id": "004e7273",
   "metadata": {},
   "outputs": [],
   "source": [
    "import numpy as np"
   ]
  },
  {
   "cell_type": "code",
   "execution_count": 362,
   "id": "5a6a3f7e",
   "metadata": {},
   "outputs": [],
   "source": [
    "numeric_cols = train_inputs.select_dtypes(include=np.number).columns.tolist()\n",
    "categorical_cols = train_inputs.select_dtypes('object').columns.tolist()"
   ]
  },
  {
   "cell_type": "code",
   "execution_count": 363,
   "id": "9d287050",
   "metadata": {},
   "outputs": [
    {
     "data": {
      "text/plain": [
       "['radius_mean',\n",
       " 'texture_mean',\n",
       " 'perimeter_mean',\n",
       " 'area_mean',\n",
       " 'smoothness_mean',\n",
       " 'compactness_mean',\n",
       " 'concavity_mean',\n",
       " 'concave points_mean',\n",
       " 'symmetry_mean',\n",
       " 'fractal_dimension_mean',\n",
       " 'radius_se',\n",
       " 'texture_se',\n",
       " 'perimeter_se',\n",
       " 'area_se',\n",
       " 'smoothness_se',\n",
       " 'compactness_se',\n",
       " 'concavity_se',\n",
       " 'concave points_se',\n",
       " 'symmetry_se',\n",
       " 'fractal_dimension_se',\n",
       " 'radius_worst',\n",
       " 'texture_worst',\n",
       " 'perimeter_worst',\n",
       " 'area_worst',\n",
       " 'smoothness_worst',\n",
       " 'compactness_worst',\n",
       " 'concavity_worst',\n",
       " 'concave points_worst',\n",
       " 'symmetry_worst',\n",
       " 'fractal_dimension_worst']"
      ]
     },
     "execution_count": 363,
     "metadata": {},
     "output_type": "execute_result"
    }
   ],
   "source": [
    "numeric_cols"
   ]
  },
  {
   "cell_type": "code",
   "execution_count": 364,
   "id": "983eced4",
   "metadata": {},
   "outputs": [
    {
     "data": {
      "text/plain": [
       "[]"
      ]
     },
     "execution_count": 364,
     "metadata": {},
     "output_type": "execute_result"
    }
   ],
   "source": [
    "categorical_cols"
   ]
  },
  {
   "cell_type": "code",
   "execution_count": 365,
   "id": "c3530239",
   "metadata": {},
   "outputs": [
    {
     "data": {
      "text/html": [
       "<div>\n",
       "<style scoped>\n",
       "    .dataframe tbody tr th:only-of-type {\n",
       "        vertical-align: middle;\n",
       "    }\n",
       "\n",
       "    .dataframe tbody tr th {\n",
       "        vertical-align: top;\n",
       "    }\n",
       "\n",
       "    .dataframe thead th {\n",
       "        text-align: right;\n",
       "    }\n",
       "</style>\n",
       "<table border=\"1\" class=\"dataframe\">\n",
       "  <thead>\n",
       "    <tr style=\"text-align: right;\">\n",
       "      <th></th>\n",
       "      <th>radius_mean</th>\n",
       "      <th>texture_mean</th>\n",
       "      <th>perimeter_mean</th>\n",
       "      <th>area_mean</th>\n",
       "      <th>smoothness_mean</th>\n",
       "      <th>compactness_mean</th>\n",
       "      <th>concavity_mean</th>\n",
       "      <th>concave points_mean</th>\n",
       "      <th>symmetry_mean</th>\n",
       "      <th>fractal_dimension_mean</th>\n",
       "      <th>...</th>\n",
       "      <th>radius_worst</th>\n",
       "      <th>texture_worst</th>\n",
       "      <th>perimeter_worst</th>\n",
       "      <th>area_worst</th>\n",
       "      <th>smoothness_worst</th>\n",
       "      <th>compactness_worst</th>\n",
       "      <th>concavity_worst</th>\n",
       "      <th>concave points_worst</th>\n",
       "      <th>symmetry_worst</th>\n",
       "      <th>fractal_dimension_worst</th>\n",
       "    </tr>\n",
       "  </thead>\n",
       "  <tbody>\n",
       "    <tr>\n",
       "      <th>count</th>\n",
       "      <td>341.000000</td>\n",
       "      <td>341.000000</td>\n",
       "      <td>341.000000</td>\n",
       "      <td>341.000000</td>\n",
       "      <td>341.000000</td>\n",
       "      <td>341.000000</td>\n",
       "      <td>341.000000</td>\n",
       "      <td>341.000000</td>\n",
       "      <td>341.000000</td>\n",
       "      <td>341.000000</td>\n",
       "      <td>...</td>\n",
       "      <td>341.000000</td>\n",
       "      <td>341.000000</td>\n",
       "      <td>341.000000</td>\n",
       "      <td>341.000000</td>\n",
       "      <td>341.000000</td>\n",
       "      <td>341.000000</td>\n",
       "      <td>341.000000</td>\n",
       "      <td>341.000000</td>\n",
       "      <td>341.000000</td>\n",
       "      <td>341.000000</td>\n",
       "    </tr>\n",
       "    <tr>\n",
       "      <th>mean</th>\n",
       "      <td>14.001481</td>\n",
       "      <td>19.128152</td>\n",
       "      <td>91.030762</td>\n",
       "      <td>642.609971</td>\n",
       "      <td>0.095934</td>\n",
       "      <td>0.102269</td>\n",
       "      <td>0.085459</td>\n",
       "      <td>0.047155</td>\n",
       "      <td>0.182006</td>\n",
       "      <td>0.062750</td>\n",
       "      <td>...</td>\n",
       "      <td>16.125613</td>\n",
       "      <td>25.465279</td>\n",
       "      <td>106.273167</td>\n",
       "      <td>866.555132</td>\n",
       "      <td>0.131554</td>\n",
       "      <td>0.248931</td>\n",
       "      <td>0.264040</td>\n",
       "      <td>0.112563</td>\n",
       "      <td>0.291753</td>\n",
       "      <td>0.083672</td>\n",
       "    </tr>\n",
       "    <tr>\n",
       "      <th>std</th>\n",
       "      <td>3.473378</td>\n",
       "      <td>4.197569</td>\n",
       "      <td>23.904744</td>\n",
       "      <td>345.479971</td>\n",
       "      <td>0.014450</td>\n",
       "      <td>0.053894</td>\n",
       "      <td>0.079140</td>\n",
       "      <td>0.038212</td>\n",
       "      <td>0.028181</td>\n",
       "      <td>0.007412</td>\n",
       "      <td>...</td>\n",
       "      <td>4.845435</td>\n",
       "      <td>5.977085</td>\n",
       "      <td>33.660162</td>\n",
       "      <td>578.566377</td>\n",
       "      <td>0.023416</td>\n",
       "      <td>0.157138</td>\n",
       "      <td>0.201125</td>\n",
       "      <td>0.066265</td>\n",
       "      <td>0.064154</td>\n",
       "      <td>0.018026</td>\n",
       "    </tr>\n",
       "    <tr>\n",
       "      <th>min</th>\n",
       "      <td>7.691000</td>\n",
       "      <td>9.710000</td>\n",
       "      <td>47.920000</td>\n",
       "      <td>170.400000</td>\n",
       "      <td>0.052630</td>\n",
       "      <td>0.019380</td>\n",
       "      <td>0.000000</td>\n",
       "      <td>0.000000</td>\n",
       "      <td>0.116700</td>\n",
       "      <td>0.049960</td>\n",
       "      <td>...</td>\n",
       "      <td>8.678000</td>\n",
       "      <td>12.020000</td>\n",
       "      <td>54.490000</td>\n",
       "      <td>223.600000</td>\n",
       "      <td>0.081250</td>\n",
       "      <td>0.034320</td>\n",
       "      <td>0.000000</td>\n",
       "      <td>0.000000</td>\n",
       "      <td>0.156500</td>\n",
       "      <td>0.055040</td>\n",
       "    </tr>\n",
       "    <tr>\n",
       "      <th>25%</th>\n",
       "      <td>11.630000</td>\n",
       "      <td>16.320000</td>\n",
       "      <td>74.680000</td>\n",
       "      <td>412.600000</td>\n",
       "      <td>0.085820</td>\n",
       "      <td>0.061590</td>\n",
       "      <td>0.026380</td>\n",
       "      <td>0.019240</td>\n",
       "      <td>0.162000</td>\n",
       "      <td>0.057630</td>\n",
       "      <td>...</td>\n",
       "      <td>12.980000</td>\n",
       "      <td>21.180000</td>\n",
       "      <td>83.610000</td>\n",
       "      <td>513.900000</td>\n",
       "      <td>0.114000</td>\n",
       "      <td>0.138100</td>\n",
       "      <td>0.108700</td>\n",
       "      <td>0.062960</td>\n",
       "      <td>0.252500</td>\n",
       "      <td>0.070710</td>\n",
       "    </tr>\n",
       "    <tr>\n",
       "      <th>50%</th>\n",
       "      <td>13.200000</td>\n",
       "      <td>18.820000</td>\n",
       "      <td>85.480000</td>\n",
       "      <td>538.400000</td>\n",
       "      <td>0.094400</td>\n",
       "      <td>0.086420</td>\n",
       "      <td>0.057740</td>\n",
       "      <td>0.032500</td>\n",
       "      <td>0.179900</td>\n",
       "      <td>0.061660</td>\n",
       "      <td>...</td>\n",
       "      <td>14.910000</td>\n",
       "      <td>25.220000</td>\n",
       "      <td>97.170000</td>\n",
       "      <td>674.700000</td>\n",
       "      <td>0.130300</td>\n",
       "      <td>0.205700</td>\n",
       "      <td>0.215100</td>\n",
       "      <td>0.098610</td>\n",
       "      <td>0.284100</td>\n",
       "      <td>0.079610</td>\n",
       "    </tr>\n",
       "    <tr>\n",
       "      <th>75%</th>\n",
       "      <td>15.660000</td>\n",
       "      <td>21.560000</td>\n",
       "      <td>102.800000</td>\n",
       "      <td>758.600000</td>\n",
       "      <td>0.104900</td>\n",
       "      <td>0.129900</td>\n",
       "      <td>0.121800</td>\n",
       "      <td>0.067720</td>\n",
       "      <td>0.196600</td>\n",
       "      <td>0.066010</td>\n",
       "      <td>...</td>\n",
       "      <td>18.100000</td>\n",
       "      <td>29.410000</td>\n",
       "      <td>122.400000</td>\n",
       "      <td>1021.000000</td>\n",
       "      <td>0.146000</td>\n",
       "      <td>0.341600</td>\n",
       "      <td>0.375900</td>\n",
       "      <td>0.156500</td>\n",
       "      <td>0.317600</td>\n",
       "      <td>0.092060</td>\n",
       "    </tr>\n",
       "    <tr>\n",
       "      <th>max</th>\n",
       "      <td>27.420000</td>\n",
       "      <td>39.280000</td>\n",
       "      <td>186.900000</td>\n",
       "      <td>2501.000000</td>\n",
       "      <td>0.163400</td>\n",
       "      <td>0.311400</td>\n",
       "      <td>0.426800</td>\n",
       "      <td>0.201200</td>\n",
       "      <td>0.274300</td>\n",
       "      <td>0.097440</td>\n",
       "      <td>...</td>\n",
       "      <td>36.040000</td>\n",
       "      <td>49.540000</td>\n",
       "      <td>251.200000</td>\n",
       "      <td>4254.000000</td>\n",
       "      <td>0.218400</td>\n",
       "      <td>0.937900</td>\n",
       "      <td>0.960800</td>\n",
       "      <td>0.291000</td>\n",
       "      <td>0.663800</td>\n",
       "      <td>0.173000</td>\n",
       "    </tr>\n",
       "  </tbody>\n",
       "</table>\n",
       "<p>8 rows × 30 columns</p>\n",
       "</div>"
      ],
      "text/plain": [
       "       radius_mean  texture_mean  perimeter_mean    area_mean  \\\n",
       "count   341.000000    341.000000      341.000000   341.000000   \n",
       "mean     14.001481     19.128152       91.030762   642.609971   \n",
       "std       3.473378      4.197569       23.904744   345.479971   \n",
       "min       7.691000      9.710000       47.920000   170.400000   \n",
       "25%      11.630000     16.320000       74.680000   412.600000   \n",
       "50%      13.200000     18.820000       85.480000   538.400000   \n",
       "75%      15.660000     21.560000      102.800000   758.600000   \n",
       "max      27.420000     39.280000      186.900000  2501.000000   \n",
       "\n",
       "       smoothness_mean  compactness_mean  concavity_mean  concave points_mean  \\\n",
       "count       341.000000        341.000000      341.000000           341.000000   \n",
       "mean          0.095934          0.102269        0.085459             0.047155   \n",
       "std           0.014450          0.053894        0.079140             0.038212   \n",
       "min           0.052630          0.019380        0.000000             0.000000   \n",
       "25%           0.085820          0.061590        0.026380             0.019240   \n",
       "50%           0.094400          0.086420        0.057740             0.032500   \n",
       "75%           0.104900          0.129900        0.121800             0.067720   \n",
       "max           0.163400          0.311400        0.426800             0.201200   \n",
       "\n",
       "       symmetry_mean  fractal_dimension_mean  ...  radius_worst  \\\n",
       "count     341.000000              341.000000  ...    341.000000   \n",
       "mean        0.182006                0.062750  ...     16.125613   \n",
       "std         0.028181                0.007412  ...      4.845435   \n",
       "min         0.116700                0.049960  ...      8.678000   \n",
       "25%         0.162000                0.057630  ...     12.980000   \n",
       "50%         0.179900                0.061660  ...     14.910000   \n",
       "75%         0.196600                0.066010  ...     18.100000   \n",
       "max         0.274300                0.097440  ...     36.040000   \n",
       "\n",
       "       texture_worst  perimeter_worst   area_worst  smoothness_worst  \\\n",
       "count     341.000000       341.000000   341.000000        341.000000   \n",
       "mean       25.465279       106.273167   866.555132          0.131554   \n",
       "std         5.977085        33.660162   578.566377          0.023416   \n",
       "min        12.020000        54.490000   223.600000          0.081250   \n",
       "25%        21.180000        83.610000   513.900000          0.114000   \n",
       "50%        25.220000        97.170000   674.700000          0.130300   \n",
       "75%        29.410000       122.400000  1021.000000          0.146000   \n",
       "max        49.540000       251.200000  4254.000000          0.218400   \n",
       "\n",
       "       compactness_worst  concavity_worst  concave points_worst  \\\n",
       "count         341.000000       341.000000            341.000000   \n",
       "mean            0.248931         0.264040              0.112563   \n",
       "std             0.157138         0.201125              0.066265   \n",
       "min             0.034320         0.000000              0.000000   \n",
       "25%             0.138100         0.108700              0.062960   \n",
       "50%             0.205700         0.215100              0.098610   \n",
       "75%             0.341600         0.375900              0.156500   \n",
       "max             0.937900         0.960800              0.291000   \n",
       "\n",
       "       symmetry_worst  fractal_dimension_worst  \n",
       "count      341.000000               341.000000  \n",
       "mean         0.291753                 0.083672  \n",
       "std          0.064154                 0.018026  \n",
       "min          0.156500                 0.055040  \n",
       "25%          0.252500                 0.070710  \n",
       "50%          0.284100                 0.079610  \n",
       "75%          0.317600                 0.092060  \n",
       "max          0.663800                 0.173000  \n",
       "\n",
       "[8 rows x 30 columns]"
      ]
     },
     "execution_count": 365,
     "metadata": {},
     "output_type": "execute_result"
    }
   ],
   "source": [
    "train_inputs[numeric_cols].describe()"
   ]
  },
  {
   "cell_type": "code",
   "execution_count": 366,
   "id": "9d4df233",
   "metadata": {},
   "outputs": [],
   "source": [
    "from sklearn.linear_model import LogisticRegression"
   ]
  },
  {
   "cell_type": "code",
   "execution_count": 367,
   "id": "6a7df6c9",
   "metadata": {},
   "outputs": [],
   "source": [
    "model = LogisticRegression(max_iter=1000)"
   ]
  },
  {
   "cell_type": "code",
   "execution_count": 368,
   "id": "9ca24b3a",
   "metadata": {},
   "outputs": [
    {
     "name": "stderr",
     "output_type": "stream",
     "text": [
      "/home/stanley-otieno/Machine-Learning/Breast-cancer-diagnosis/breast-cancer/lib/python3.12/site-packages/sklearn/linear_model/_logistic.py:473: ConvergenceWarning:\n",
      "\n",
      "lbfgs failed to converge after 1000 iteration(s) (status=1):\n",
      "STOP: TOTAL NO. OF ITERATIONS REACHED LIMIT\n",
      "\n",
      "Increase the number of iterations to improve the convergence (max_iter=1000).\n",
      "You might also want to scale the data as shown in:\n",
      "    https://scikit-learn.org/stable/modules/preprocessing.html\n",
      "Please also refer to the documentation for alternative solver options:\n",
      "    https://scikit-learn.org/stable/modules/linear_model.html#logistic-regression\n",
      "\n"
     ]
    },
    {
     "data": {
      "text/html": [
       "<style>#sk-container-id-3 {\n",
       "  /* Definition of color scheme common for light and dark mode */\n",
       "  --sklearn-color-text: #000;\n",
       "  --sklearn-color-text-muted: #666;\n",
       "  --sklearn-color-line: gray;\n",
       "  /* Definition of color scheme for unfitted estimators */\n",
       "  --sklearn-color-unfitted-level-0: #fff5e6;\n",
       "  --sklearn-color-unfitted-level-1: #f6e4d2;\n",
       "  --sklearn-color-unfitted-level-2: #ffe0b3;\n",
       "  --sklearn-color-unfitted-level-3: chocolate;\n",
       "  /* Definition of color scheme for fitted estimators */\n",
       "  --sklearn-color-fitted-level-0: #f0f8ff;\n",
       "  --sklearn-color-fitted-level-1: #d4ebff;\n",
       "  --sklearn-color-fitted-level-2: #b3dbfd;\n",
       "  --sklearn-color-fitted-level-3: cornflowerblue;\n",
       "\n",
       "  /* Specific color for light theme */\n",
       "  --sklearn-color-text-on-default-background: var(--sg-text-color, var(--theme-code-foreground, var(--jp-content-font-color1, black)));\n",
       "  --sklearn-color-background: var(--sg-background-color, var(--theme-background, var(--jp-layout-color0, white)));\n",
       "  --sklearn-color-border-box: var(--sg-text-color, var(--theme-code-foreground, var(--jp-content-font-color1, black)));\n",
       "  --sklearn-color-icon: #696969;\n",
       "\n",
       "  @media (prefers-color-scheme: dark) {\n",
       "    /* Redefinition of color scheme for dark theme */\n",
       "    --sklearn-color-text-on-default-background: var(--sg-text-color, var(--theme-code-foreground, var(--jp-content-font-color1, white)));\n",
       "    --sklearn-color-background: var(--sg-background-color, var(--theme-background, var(--jp-layout-color0, #111)));\n",
       "    --sklearn-color-border-box: var(--sg-text-color, var(--theme-code-foreground, var(--jp-content-font-color1, white)));\n",
       "    --sklearn-color-icon: #878787;\n",
       "  }\n",
       "}\n",
       "\n",
       "#sk-container-id-3 {\n",
       "  color: var(--sklearn-color-text);\n",
       "}\n",
       "\n",
       "#sk-container-id-3 pre {\n",
       "  padding: 0;\n",
       "}\n",
       "\n",
       "#sk-container-id-3 input.sk-hidden--visually {\n",
       "  border: 0;\n",
       "  clip: rect(1px 1px 1px 1px);\n",
       "  clip: rect(1px, 1px, 1px, 1px);\n",
       "  height: 1px;\n",
       "  margin: -1px;\n",
       "  overflow: hidden;\n",
       "  padding: 0;\n",
       "  position: absolute;\n",
       "  width: 1px;\n",
       "}\n",
       "\n",
       "#sk-container-id-3 div.sk-dashed-wrapped {\n",
       "  border: 1px dashed var(--sklearn-color-line);\n",
       "  margin: 0 0.4em 0.5em 0.4em;\n",
       "  box-sizing: border-box;\n",
       "  padding-bottom: 0.4em;\n",
       "  background-color: var(--sklearn-color-background);\n",
       "}\n",
       "\n",
       "#sk-container-id-3 div.sk-container {\n",
       "  /* jupyter's `normalize.less` sets `[hidden] { display: none; }`\n",
       "     but bootstrap.min.css set `[hidden] { display: none !important; }`\n",
       "     so we also need the `!important` here to be able to override the\n",
       "     default hidden behavior on the sphinx rendered scikit-learn.org.\n",
       "     See: https://github.com/scikit-learn/scikit-learn/issues/21755 */\n",
       "  display: inline-block !important;\n",
       "  position: relative;\n",
       "}\n",
       "\n",
       "#sk-container-id-3 div.sk-text-repr-fallback {\n",
       "  display: none;\n",
       "}\n",
       "\n",
       "div.sk-parallel-item,\n",
       "div.sk-serial,\n",
       "div.sk-item {\n",
       "  /* draw centered vertical line to link estimators */\n",
       "  background-image: linear-gradient(var(--sklearn-color-text-on-default-background), var(--sklearn-color-text-on-default-background));\n",
       "  background-size: 2px 100%;\n",
       "  background-repeat: no-repeat;\n",
       "  background-position: center center;\n",
       "}\n",
       "\n",
       "/* Parallel-specific style estimator block */\n",
       "\n",
       "#sk-container-id-3 div.sk-parallel-item::after {\n",
       "  content: \"\";\n",
       "  width: 100%;\n",
       "  border-bottom: 2px solid var(--sklearn-color-text-on-default-background);\n",
       "  flex-grow: 1;\n",
       "}\n",
       "\n",
       "#sk-container-id-3 div.sk-parallel {\n",
       "  display: flex;\n",
       "  align-items: stretch;\n",
       "  justify-content: center;\n",
       "  background-color: var(--sklearn-color-background);\n",
       "  position: relative;\n",
       "}\n",
       "\n",
       "#sk-container-id-3 div.sk-parallel-item {\n",
       "  display: flex;\n",
       "  flex-direction: column;\n",
       "}\n",
       "\n",
       "#sk-container-id-3 div.sk-parallel-item:first-child::after {\n",
       "  align-self: flex-end;\n",
       "  width: 50%;\n",
       "}\n",
       "\n",
       "#sk-container-id-3 div.sk-parallel-item:last-child::after {\n",
       "  align-self: flex-start;\n",
       "  width: 50%;\n",
       "}\n",
       "\n",
       "#sk-container-id-3 div.sk-parallel-item:only-child::after {\n",
       "  width: 0;\n",
       "}\n",
       "\n",
       "/* Serial-specific style estimator block */\n",
       "\n",
       "#sk-container-id-3 div.sk-serial {\n",
       "  display: flex;\n",
       "  flex-direction: column;\n",
       "  align-items: center;\n",
       "  background-color: var(--sklearn-color-background);\n",
       "  padding-right: 1em;\n",
       "  padding-left: 1em;\n",
       "}\n",
       "\n",
       "\n",
       "/* Toggleable style: style used for estimator/Pipeline/ColumnTransformer box that is\n",
       "clickable and can be expanded/collapsed.\n",
       "- Pipeline and ColumnTransformer use this feature and define the default style\n",
       "- Estimators will overwrite some part of the style using the `sk-estimator` class\n",
       "*/\n",
       "\n",
       "/* Pipeline and ColumnTransformer style (default) */\n",
       "\n",
       "#sk-container-id-3 div.sk-toggleable {\n",
       "  /* Default theme specific background. It is overwritten whether we have a\n",
       "  specific estimator or a Pipeline/ColumnTransformer */\n",
       "  background-color: var(--sklearn-color-background);\n",
       "}\n",
       "\n",
       "/* Toggleable label */\n",
       "#sk-container-id-3 label.sk-toggleable__label {\n",
       "  cursor: pointer;\n",
       "  display: flex;\n",
       "  width: 100%;\n",
       "  margin-bottom: 0;\n",
       "  padding: 0.5em;\n",
       "  box-sizing: border-box;\n",
       "  text-align: center;\n",
       "  align-items: start;\n",
       "  justify-content: space-between;\n",
       "  gap: 0.5em;\n",
       "}\n",
       "\n",
       "#sk-container-id-3 label.sk-toggleable__label .caption {\n",
       "  font-size: 0.6rem;\n",
       "  font-weight: lighter;\n",
       "  color: var(--sklearn-color-text-muted);\n",
       "}\n",
       "\n",
       "#sk-container-id-3 label.sk-toggleable__label-arrow:before {\n",
       "  /* Arrow on the left of the label */\n",
       "  content: \"▸\";\n",
       "  float: left;\n",
       "  margin-right: 0.25em;\n",
       "  color: var(--sklearn-color-icon);\n",
       "}\n",
       "\n",
       "#sk-container-id-3 label.sk-toggleable__label-arrow:hover:before {\n",
       "  color: var(--sklearn-color-text);\n",
       "}\n",
       "\n",
       "/* Toggleable content - dropdown */\n",
       "\n",
       "#sk-container-id-3 div.sk-toggleable__content {\n",
       "  display: none;\n",
       "  text-align: left;\n",
       "  /* unfitted */\n",
       "  background-color: var(--sklearn-color-unfitted-level-0);\n",
       "}\n",
       "\n",
       "#sk-container-id-3 div.sk-toggleable__content.fitted {\n",
       "  /* fitted */\n",
       "  background-color: var(--sklearn-color-fitted-level-0);\n",
       "}\n",
       "\n",
       "#sk-container-id-3 div.sk-toggleable__content pre {\n",
       "  margin: 0.2em;\n",
       "  border-radius: 0.25em;\n",
       "  color: var(--sklearn-color-text);\n",
       "  /* unfitted */\n",
       "  background-color: var(--sklearn-color-unfitted-level-0);\n",
       "}\n",
       "\n",
       "#sk-container-id-3 div.sk-toggleable__content.fitted pre {\n",
       "  /* unfitted */\n",
       "  background-color: var(--sklearn-color-fitted-level-0);\n",
       "}\n",
       "\n",
       "#sk-container-id-3 input.sk-toggleable__control:checked~div.sk-toggleable__content {\n",
       "  /* Expand drop-down */\n",
       "  display: block;\n",
       "  width: 100%;\n",
       "  overflow: visible;\n",
       "}\n",
       "\n",
       "#sk-container-id-3 input.sk-toggleable__control:checked~label.sk-toggleable__label-arrow:before {\n",
       "  content: \"▾\";\n",
       "}\n",
       "\n",
       "/* Pipeline/ColumnTransformer-specific style */\n",
       "\n",
       "#sk-container-id-3 div.sk-label input.sk-toggleable__control:checked~label.sk-toggleable__label {\n",
       "  color: var(--sklearn-color-text);\n",
       "  background-color: var(--sklearn-color-unfitted-level-2);\n",
       "}\n",
       "\n",
       "#sk-container-id-3 div.sk-label.fitted input.sk-toggleable__control:checked~label.sk-toggleable__label {\n",
       "  background-color: var(--sklearn-color-fitted-level-2);\n",
       "}\n",
       "\n",
       "/* Estimator-specific style */\n",
       "\n",
       "/* Colorize estimator box */\n",
       "#sk-container-id-3 div.sk-estimator input.sk-toggleable__control:checked~label.sk-toggleable__label {\n",
       "  /* unfitted */\n",
       "  background-color: var(--sklearn-color-unfitted-level-2);\n",
       "}\n",
       "\n",
       "#sk-container-id-3 div.sk-estimator.fitted input.sk-toggleable__control:checked~label.sk-toggleable__label {\n",
       "  /* fitted */\n",
       "  background-color: var(--sklearn-color-fitted-level-2);\n",
       "}\n",
       "\n",
       "#sk-container-id-3 div.sk-label label.sk-toggleable__label,\n",
       "#sk-container-id-3 div.sk-label label {\n",
       "  /* The background is the default theme color */\n",
       "  color: var(--sklearn-color-text-on-default-background);\n",
       "}\n",
       "\n",
       "/* On hover, darken the color of the background */\n",
       "#sk-container-id-3 div.sk-label:hover label.sk-toggleable__label {\n",
       "  color: var(--sklearn-color-text);\n",
       "  background-color: var(--sklearn-color-unfitted-level-2);\n",
       "}\n",
       "\n",
       "/* Label box, darken color on hover, fitted */\n",
       "#sk-container-id-3 div.sk-label.fitted:hover label.sk-toggleable__label.fitted {\n",
       "  color: var(--sklearn-color-text);\n",
       "  background-color: var(--sklearn-color-fitted-level-2);\n",
       "}\n",
       "\n",
       "/* Estimator label */\n",
       "\n",
       "#sk-container-id-3 div.sk-label label {\n",
       "  font-family: monospace;\n",
       "  font-weight: bold;\n",
       "  display: inline-block;\n",
       "  line-height: 1.2em;\n",
       "}\n",
       "\n",
       "#sk-container-id-3 div.sk-label-container {\n",
       "  text-align: center;\n",
       "}\n",
       "\n",
       "/* Estimator-specific */\n",
       "#sk-container-id-3 div.sk-estimator {\n",
       "  font-family: monospace;\n",
       "  border: 1px dotted var(--sklearn-color-border-box);\n",
       "  border-radius: 0.25em;\n",
       "  box-sizing: border-box;\n",
       "  margin-bottom: 0.5em;\n",
       "  /* unfitted */\n",
       "  background-color: var(--sklearn-color-unfitted-level-0);\n",
       "}\n",
       "\n",
       "#sk-container-id-3 div.sk-estimator.fitted {\n",
       "  /* fitted */\n",
       "  background-color: var(--sklearn-color-fitted-level-0);\n",
       "}\n",
       "\n",
       "/* on hover */\n",
       "#sk-container-id-3 div.sk-estimator:hover {\n",
       "  /* unfitted */\n",
       "  background-color: var(--sklearn-color-unfitted-level-2);\n",
       "}\n",
       "\n",
       "#sk-container-id-3 div.sk-estimator.fitted:hover {\n",
       "  /* fitted */\n",
       "  background-color: var(--sklearn-color-fitted-level-2);\n",
       "}\n",
       "\n",
       "/* Specification for estimator info (e.g. \"i\" and \"?\") */\n",
       "\n",
       "/* Common style for \"i\" and \"?\" */\n",
       "\n",
       ".sk-estimator-doc-link,\n",
       "a:link.sk-estimator-doc-link,\n",
       "a:visited.sk-estimator-doc-link {\n",
       "  float: right;\n",
       "  font-size: smaller;\n",
       "  line-height: 1em;\n",
       "  font-family: monospace;\n",
       "  background-color: var(--sklearn-color-background);\n",
       "  border-radius: 1em;\n",
       "  height: 1em;\n",
       "  width: 1em;\n",
       "  text-decoration: none !important;\n",
       "  margin-left: 0.5em;\n",
       "  text-align: center;\n",
       "  /* unfitted */\n",
       "  border: var(--sklearn-color-unfitted-level-1) 1pt solid;\n",
       "  color: var(--sklearn-color-unfitted-level-1);\n",
       "}\n",
       "\n",
       ".sk-estimator-doc-link.fitted,\n",
       "a:link.sk-estimator-doc-link.fitted,\n",
       "a:visited.sk-estimator-doc-link.fitted {\n",
       "  /* fitted */\n",
       "  border: var(--sklearn-color-fitted-level-1) 1pt solid;\n",
       "  color: var(--sklearn-color-fitted-level-1);\n",
       "}\n",
       "\n",
       "/* On hover */\n",
       "div.sk-estimator:hover .sk-estimator-doc-link:hover,\n",
       ".sk-estimator-doc-link:hover,\n",
       "div.sk-label-container:hover .sk-estimator-doc-link:hover,\n",
       ".sk-estimator-doc-link:hover {\n",
       "  /* unfitted */\n",
       "  background-color: var(--sklearn-color-unfitted-level-3);\n",
       "  color: var(--sklearn-color-background);\n",
       "  text-decoration: none;\n",
       "}\n",
       "\n",
       "div.sk-estimator.fitted:hover .sk-estimator-doc-link.fitted:hover,\n",
       ".sk-estimator-doc-link.fitted:hover,\n",
       "div.sk-label-container:hover .sk-estimator-doc-link.fitted:hover,\n",
       ".sk-estimator-doc-link.fitted:hover {\n",
       "  /* fitted */\n",
       "  background-color: var(--sklearn-color-fitted-level-3);\n",
       "  color: var(--sklearn-color-background);\n",
       "  text-decoration: none;\n",
       "}\n",
       "\n",
       "/* Span, style for the box shown on hovering the info icon */\n",
       ".sk-estimator-doc-link span {\n",
       "  display: none;\n",
       "  z-index: 9999;\n",
       "  position: relative;\n",
       "  font-weight: normal;\n",
       "  right: .2ex;\n",
       "  padding: .5ex;\n",
       "  margin: .5ex;\n",
       "  width: min-content;\n",
       "  min-width: 20ex;\n",
       "  max-width: 50ex;\n",
       "  color: var(--sklearn-color-text);\n",
       "  box-shadow: 2pt 2pt 4pt #999;\n",
       "  /* unfitted */\n",
       "  background: var(--sklearn-color-unfitted-level-0);\n",
       "  border: .5pt solid var(--sklearn-color-unfitted-level-3);\n",
       "}\n",
       "\n",
       ".sk-estimator-doc-link.fitted span {\n",
       "  /* fitted */\n",
       "  background: var(--sklearn-color-fitted-level-0);\n",
       "  border: var(--sklearn-color-fitted-level-3);\n",
       "}\n",
       "\n",
       ".sk-estimator-doc-link:hover span {\n",
       "  display: block;\n",
       "}\n",
       "\n",
       "/* \"?\"-specific style due to the `<a>` HTML tag */\n",
       "\n",
       "#sk-container-id-3 a.estimator_doc_link {\n",
       "  float: right;\n",
       "  font-size: 1rem;\n",
       "  line-height: 1em;\n",
       "  font-family: monospace;\n",
       "  background-color: var(--sklearn-color-background);\n",
       "  border-radius: 1rem;\n",
       "  height: 1rem;\n",
       "  width: 1rem;\n",
       "  text-decoration: none;\n",
       "  /* unfitted */\n",
       "  color: var(--sklearn-color-unfitted-level-1);\n",
       "  border: var(--sklearn-color-unfitted-level-1) 1pt solid;\n",
       "}\n",
       "\n",
       "#sk-container-id-3 a.estimator_doc_link.fitted {\n",
       "  /* fitted */\n",
       "  border: var(--sklearn-color-fitted-level-1) 1pt solid;\n",
       "  color: var(--sklearn-color-fitted-level-1);\n",
       "}\n",
       "\n",
       "/* On hover */\n",
       "#sk-container-id-3 a.estimator_doc_link:hover {\n",
       "  /* unfitted */\n",
       "  background-color: var(--sklearn-color-unfitted-level-3);\n",
       "  color: var(--sklearn-color-background);\n",
       "  text-decoration: none;\n",
       "}\n",
       "\n",
       "#sk-container-id-3 a.estimator_doc_link.fitted:hover {\n",
       "  /* fitted */\n",
       "  background-color: var(--sklearn-color-fitted-level-3);\n",
       "}\n",
       "\n",
       ".estimator-table summary {\n",
       "    padding: .5rem;\n",
       "    font-family: monospace;\n",
       "    cursor: pointer;\n",
       "}\n",
       "\n",
       ".estimator-table details[open] {\n",
       "    padding-left: 0.1rem;\n",
       "    padding-right: 0.1rem;\n",
       "    padding-bottom: 0.3rem;\n",
       "}\n",
       "\n",
       ".estimator-table .parameters-table {\n",
       "    margin-left: auto !important;\n",
       "    margin-right: auto !important;\n",
       "}\n",
       "\n",
       ".estimator-table .parameters-table tr:nth-child(odd) {\n",
       "    background-color: #fff;\n",
       "}\n",
       "\n",
       ".estimator-table .parameters-table tr:nth-child(even) {\n",
       "    background-color: #f6f6f6;\n",
       "}\n",
       "\n",
       ".estimator-table .parameters-table tr:hover {\n",
       "    background-color: #e0e0e0;\n",
       "}\n",
       "\n",
       ".estimator-table table td {\n",
       "    border: 1px solid rgba(106, 105, 104, 0.232);\n",
       "}\n",
       "\n",
       ".user-set td {\n",
       "    color:rgb(255, 94, 0);\n",
       "    text-align: left;\n",
       "}\n",
       "\n",
       ".user-set td.value pre {\n",
       "    color:rgb(255, 94, 0) !important;\n",
       "    background-color: transparent !important;\n",
       "}\n",
       "\n",
       ".default td {\n",
       "    color: black;\n",
       "    text-align: left;\n",
       "}\n",
       "\n",
       ".user-set td i,\n",
       ".default td i {\n",
       "    color: black;\n",
       "}\n",
       "\n",
       ".copy-paste-icon {\n",
       "    background-image: url(data:image/svg+xml;base64,PHN2ZyB4bWxucz0iaHR0cDovL3d3dy53My5vcmcvMjAwMC9zdmciIHZpZXdCb3g9IjAgMCA0NDggNTEyIj48IS0tIUZvbnQgQXdlc29tZSBGcmVlIDYuNy4yIGJ5IEBmb250YXdlc29tZSAtIGh0dHBzOi8vZm9udGF3ZXNvbWUuY29tIExpY2Vuc2UgLSBodHRwczovL2ZvbnRhd2Vzb21lLmNvbS9saWNlbnNlL2ZyZWUgQ29weXJpZ2h0IDIwMjUgRm9udGljb25zLCBJbmMuLS0+PHBhdGggZD0iTTIwOCAwTDMzMi4xIDBjMTIuNyAwIDI0LjkgNS4xIDMzLjkgMTQuMWw2Ny45IDY3LjljOSA5IDE0LjEgMjEuMiAxNC4xIDMzLjlMNDQ4IDMzNmMwIDI2LjUtMjEuNSA0OC00OCA0OGwtMTkyIDBjLTI2LjUgMC00OC0yMS41LTQ4LTQ4bDAtMjg4YzAtMjYuNSAyMS41LTQ4IDQ4LTQ4ek00OCAxMjhsODAgMCAwIDY0LTY0IDAgMCAyNTYgMTkyIDAgMC0zMiA2NCAwIDAgNDhjMCAyNi41LTIxLjUgNDgtNDggNDhMNDggNTEyYy0yNi41IDAtNDgtMjEuNS00OC00OEwwIDE3NmMwLTI2LjUgMjEuNS00OCA0OC00OHoiLz48L3N2Zz4=);\n",
       "    background-repeat: no-repeat;\n",
       "    background-size: 14px 14px;\n",
       "    background-position: 0;\n",
       "    display: inline-block;\n",
       "    width: 14px;\n",
       "    height: 14px;\n",
       "    cursor: pointer;\n",
       "}\n",
       "</style><body><div id=\"sk-container-id-3\" class=\"sk-top-container\"><div class=\"sk-text-repr-fallback\"><pre>LogisticRegression(max_iter=1000)</pre><b>In a Jupyter environment, please rerun this cell to show the HTML representation or trust the notebook. <br />On GitHub, the HTML representation is unable to render, please try loading this page with nbviewer.org.</b></div><div class=\"sk-container\" hidden><div class=\"sk-item\"><div class=\"sk-estimator fitted sk-toggleable\"><input class=\"sk-toggleable__control sk-hidden--visually\" id=\"sk-estimator-id-3\" type=\"checkbox\" checked><label for=\"sk-estimator-id-3\" class=\"sk-toggleable__label fitted sk-toggleable__label-arrow\"><div><div>LogisticRegression</div></div><div><a class=\"sk-estimator-doc-link fitted\" rel=\"noreferrer\" target=\"_blank\" href=\"https://scikit-learn.org/1.7/modules/generated/sklearn.linear_model.LogisticRegression.html\">?<span>Documentation for LogisticRegression</span></a><span class=\"sk-estimator-doc-link fitted\">i<span>Fitted</span></span></div></label><div class=\"sk-toggleable__content fitted\" data-param-prefix=\"\">\n",
       "        <div class=\"estimator-table\">\n",
       "            <details>\n",
       "                <summary>Parameters</summary>\n",
       "                <table class=\"parameters-table\">\n",
       "                  <tbody>\n",
       "                    \n",
       "        <tr class=\"default\">\n",
       "            <td><i class=\"copy-paste-icon\"\n",
       "                 onclick=\"copyToClipboard('penalty',\n",
       "                          this.parentElement.nextElementSibling)\"\n",
       "            ></i></td>\n",
       "            <td class=\"param\">penalty&nbsp;</td>\n",
       "            <td class=\"value\">&#x27;l2&#x27;</td>\n",
       "        </tr>\n",
       "    \n",
       "\n",
       "        <tr class=\"default\">\n",
       "            <td><i class=\"copy-paste-icon\"\n",
       "                 onclick=\"copyToClipboard('dual',\n",
       "                          this.parentElement.nextElementSibling)\"\n",
       "            ></i></td>\n",
       "            <td class=\"param\">dual&nbsp;</td>\n",
       "            <td class=\"value\">False</td>\n",
       "        </tr>\n",
       "    \n",
       "\n",
       "        <tr class=\"default\">\n",
       "            <td><i class=\"copy-paste-icon\"\n",
       "                 onclick=\"copyToClipboard('tol',\n",
       "                          this.parentElement.nextElementSibling)\"\n",
       "            ></i></td>\n",
       "            <td class=\"param\">tol&nbsp;</td>\n",
       "            <td class=\"value\">0.0001</td>\n",
       "        </tr>\n",
       "    \n",
       "\n",
       "        <tr class=\"default\">\n",
       "            <td><i class=\"copy-paste-icon\"\n",
       "                 onclick=\"copyToClipboard('C',\n",
       "                          this.parentElement.nextElementSibling)\"\n",
       "            ></i></td>\n",
       "            <td class=\"param\">C&nbsp;</td>\n",
       "            <td class=\"value\">1.0</td>\n",
       "        </tr>\n",
       "    \n",
       "\n",
       "        <tr class=\"default\">\n",
       "            <td><i class=\"copy-paste-icon\"\n",
       "                 onclick=\"copyToClipboard('fit_intercept',\n",
       "                          this.parentElement.nextElementSibling)\"\n",
       "            ></i></td>\n",
       "            <td class=\"param\">fit_intercept&nbsp;</td>\n",
       "            <td class=\"value\">True</td>\n",
       "        </tr>\n",
       "    \n",
       "\n",
       "        <tr class=\"default\">\n",
       "            <td><i class=\"copy-paste-icon\"\n",
       "                 onclick=\"copyToClipboard('intercept_scaling',\n",
       "                          this.parentElement.nextElementSibling)\"\n",
       "            ></i></td>\n",
       "            <td class=\"param\">intercept_scaling&nbsp;</td>\n",
       "            <td class=\"value\">1</td>\n",
       "        </tr>\n",
       "    \n",
       "\n",
       "        <tr class=\"default\">\n",
       "            <td><i class=\"copy-paste-icon\"\n",
       "                 onclick=\"copyToClipboard('class_weight',\n",
       "                          this.parentElement.nextElementSibling)\"\n",
       "            ></i></td>\n",
       "            <td class=\"param\">class_weight&nbsp;</td>\n",
       "            <td class=\"value\">None</td>\n",
       "        </tr>\n",
       "    \n",
       "\n",
       "        <tr class=\"default\">\n",
       "            <td><i class=\"copy-paste-icon\"\n",
       "                 onclick=\"copyToClipboard('random_state',\n",
       "                          this.parentElement.nextElementSibling)\"\n",
       "            ></i></td>\n",
       "            <td class=\"param\">random_state&nbsp;</td>\n",
       "            <td class=\"value\">None</td>\n",
       "        </tr>\n",
       "    \n",
       "\n",
       "        <tr class=\"default\">\n",
       "            <td><i class=\"copy-paste-icon\"\n",
       "                 onclick=\"copyToClipboard('solver',\n",
       "                          this.parentElement.nextElementSibling)\"\n",
       "            ></i></td>\n",
       "            <td class=\"param\">solver&nbsp;</td>\n",
       "            <td class=\"value\">&#x27;lbfgs&#x27;</td>\n",
       "        </tr>\n",
       "    \n",
       "\n",
       "        <tr class=\"user-set\">\n",
       "            <td><i class=\"copy-paste-icon\"\n",
       "                 onclick=\"copyToClipboard('max_iter',\n",
       "                          this.parentElement.nextElementSibling)\"\n",
       "            ></i></td>\n",
       "            <td class=\"param\">max_iter&nbsp;</td>\n",
       "            <td class=\"value\">1000</td>\n",
       "        </tr>\n",
       "    \n",
       "\n",
       "        <tr class=\"default\">\n",
       "            <td><i class=\"copy-paste-icon\"\n",
       "                 onclick=\"copyToClipboard('multi_class',\n",
       "                          this.parentElement.nextElementSibling)\"\n",
       "            ></i></td>\n",
       "            <td class=\"param\">multi_class&nbsp;</td>\n",
       "            <td class=\"value\">&#x27;deprecated&#x27;</td>\n",
       "        </tr>\n",
       "    \n",
       "\n",
       "        <tr class=\"default\">\n",
       "            <td><i class=\"copy-paste-icon\"\n",
       "                 onclick=\"copyToClipboard('verbose',\n",
       "                          this.parentElement.nextElementSibling)\"\n",
       "            ></i></td>\n",
       "            <td class=\"param\">verbose&nbsp;</td>\n",
       "            <td class=\"value\">0</td>\n",
       "        </tr>\n",
       "    \n",
       "\n",
       "        <tr class=\"default\">\n",
       "            <td><i class=\"copy-paste-icon\"\n",
       "                 onclick=\"copyToClipboard('warm_start',\n",
       "                          this.parentElement.nextElementSibling)\"\n",
       "            ></i></td>\n",
       "            <td class=\"param\">warm_start&nbsp;</td>\n",
       "            <td class=\"value\">False</td>\n",
       "        </tr>\n",
       "    \n",
       "\n",
       "        <tr class=\"default\">\n",
       "            <td><i class=\"copy-paste-icon\"\n",
       "                 onclick=\"copyToClipboard('n_jobs',\n",
       "                          this.parentElement.nextElementSibling)\"\n",
       "            ></i></td>\n",
       "            <td class=\"param\">n_jobs&nbsp;</td>\n",
       "            <td class=\"value\">None</td>\n",
       "        </tr>\n",
       "    \n",
       "\n",
       "        <tr class=\"default\">\n",
       "            <td><i class=\"copy-paste-icon\"\n",
       "                 onclick=\"copyToClipboard('l1_ratio',\n",
       "                          this.parentElement.nextElementSibling)\"\n",
       "            ></i></td>\n",
       "            <td class=\"param\">l1_ratio&nbsp;</td>\n",
       "            <td class=\"value\">None</td>\n",
       "        </tr>\n",
       "    \n",
       "                  </tbody>\n",
       "                </table>\n",
       "            </details>\n",
       "        </div>\n",
       "    </div></div></div></div></div><script>function copyToClipboard(text, element) {\n",
       "    // Get the parameter prefix from the closest toggleable content\n",
       "    const toggleableContent = element.closest('.sk-toggleable__content');\n",
       "    const paramPrefix = toggleableContent ? toggleableContent.dataset.paramPrefix : '';\n",
       "    const fullParamName = paramPrefix ? `${paramPrefix}${text}` : text;\n",
       "\n",
       "    const originalStyle = element.style;\n",
       "    const computedStyle = window.getComputedStyle(element);\n",
       "    const originalWidth = computedStyle.width;\n",
       "    const originalHTML = element.innerHTML.replace('Copied!', '');\n",
       "\n",
       "    navigator.clipboard.writeText(fullParamName)\n",
       "        .then(() => {\n",
       "            element.style.width = originalWidth;\n",
       "            element.style.color = 'green';\n",
       "            element.innerHTML = \"Copied!\";\n",
       "\n",
       "            setTimeout(() => {\n",
       "                element.innerHTML = originalHTML;\n",
       "                element.style = originalStyle;\n",
       "            }, 2000);\n",
       "        })\n",
       "        .catch(err => {\n",
       "            console.error('Failed to copy:', err);\n",
       "            element.style.color = 'red';\n",
       "            element.innerHTML = \"Failed!\";\n",
       "            setTimeout(() => {\n",
       "                element.innerHTML = originalHTML;\n",
       "                element.style = originalStyle;\n",
       "            }, 2000);\n",
       "        });\n",
       "    return false;\n",
       "}\n",
       "\n",
       "document.querySelectorAll('.fa-regular.fa-copy').forEach(function(element) {\n",
       "    const toggleableContent = element.closest('.sk-toggleable__content');\n",
       "    const paramPrefix = toggleableContent ? toggleableContent.dataset.paramPrefix : '';\n",
       "    const paramName = element.parentElement.nextElementSibling.textContent.trim();\n",
       "    const fullParamName = paramPrefix ? `${paramPrefix}${paramName}` : paramName;\n",
       "\n",
       "    element.setAttribute('title', fullParamName);\n",
       "});\n",
       "</script></body>"
      ],
      "text/plain": [
       "LogisticRegression(max_iter=1000)"
      ]
     },
     "execution_count": 368,
     "metadata": {},
     "output_type": "execute_result"
    }
   ],
   "source": [
    "model.fit(train_inputs, train_targets)"
   ]
  },
  {
   "cell_type": "code",
   "execution_count": 369,
   "id": "1552fd80",
   "metadata": {},
   "outputs": [
    {
     "name": "stdout",
     "output_type": "stream",
     "text": [
      "[[-2.3517932762010063, -0.14142126682716136, 0.23683354766353454, -0.00017546248612614315, 0.19001180079778768, 0.415255281551067, 0.8243231800660902, 0.44893964936679653, 0.26547603767386807, 0.026138757182839537, 0.09280813975973369, -1.811668973717941, 0.37001761658225096, 0.062230526314578545, 0.0287452398336635, -0.06451969824854213, 0.029195147222963982, 0.04554393819212906, 0.046208142722421484, -0.01446514641619965, -0.6348105171915486, 0.4420594588647878, -0.036404980432713036, 0.02371519172153237, 0.377350660809921, 1.1694825932699386, 1.9550744959614044, 0.7706104696406852, 1.0123160131870617, 0.12371626146358614]]\n"
     ]
    }
   ],
   "source": [
    "print(model.coef_.tolist())"
   ]
  },
  {
   "cell_type": "code",
   "execution_count": 370,
   "id": "fd434173",
   "metadata": {},
   "outputs": [],
   "source": [
    "n = len(model.coef_.tolist()[0])\n",
    "weight_df = pd.DataFrame({\n",
    "    'feature': numeric_cols + categorical_cols,\n",
    "    'weight': model.coef_.tolist()[0]\n",
    "})"
   ]
  },
  {
   "cell_type": "code",
   "execution_count": 371,
   "id": "029ba7bc",
   "metadata": {},
   "outputs": [
    {
     "data": {
      "text/plain": [
       "<Axes: xlabel='weight', ylabel='feature'>"
      ]
     },
     "execution_count": 371,
     "metadata": {},
     "output_type": "execute_result"
    },
    {
     "data": {
      "image/png": "[encoded data removed]",
      "text/plain": [
       "<Figure size 1000x600 with 1 Axes>"
      ]
     },
     "metadata": {
      "needs_background": "light"
     },
     "output_type": "display_data"
    }
   ],
   "source": [
    "sns.barplot(data = weight_df.sort_values('weight', ascending=False).head(10), x = 'weight', y = 'feature')"
   ]
  },
  {
   "cell_type": "code",
   "execution_count": 372,
   "id": "5264daac",
   "metadata": {},
   "outputs": [],
   "source": [
    "val_predictions = model.predict(val_inputs)\n",
    "\n",
    "val_probs = model.predict_proba(val_inputs)"
   ]
  },
  {
   "cell_type": "code",
   "execution_count": 373,
   "id": "50bc24e7",
   "metadata": {},
   "outputs": [],
   "source": [
    "from sklearn.metrics import accuracy_score"
   ]
  },
  {
   "cell_type": "code",
   "execution_count": 375,
   "id": "94787605",
   "metadata": {},
   "outputs": [
    {
     "name": "stdout",
     "output_type": "stream",
     "text": [
      "Validation Accuracy: 96.49%\n"
     ]
    }
   ],
   "source": [
    "accuracy = accuracy_score(val_targets, val_predictions)\n",
    "print(\"Validation Accuracy: {:.2f}%\".format(accuracy * 100))\n"
   ]
  }
 ],
 "metadata": {
  "kernelspec": {
   "display_name": "breast-cancer",
   "language": "python",
   "name": "python3"
  },
  "language_info": {
   "codemirror_mode": {
    "name": "ipython",
    "version": 3
   },
   "file_extension": ".py",
   "mimetype": "text/x-python",
   "name": "python",
   "nbconvert_exporter": "python",
   "pygments_lexer": "ipython3",
   "version": "3.12.3"
  }
 },
 "nbformat": 4,
 "nbformat_minor": 5
}
